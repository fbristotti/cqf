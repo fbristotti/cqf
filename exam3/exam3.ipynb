{
 "cells": [
  {
   "attachments": {},
   "cell_type": "markdown",
   "metadata": {},
   "source": [
    "# CQF - Exam 3"
   ]
  },
  {
   "attachments": {},
   "cell_type": "markdown",
   "metadata": {},
   "source": [
    "### Imports"
   ]
  },
  {
   "cell_type": "code",
   "execution_count": 198,
   "metadata": {},
   "outputs": [],
   "source": [
    "import pandas as pd\n",
    "import numpy as np\n",
    "\n",
    "# Visualization\n",
    "import seaborn as sns\n",
    "plt.style.use('seaborn')\n",
    "import matplotlib.pyplot as plt\n",
    "\n",
    "from sklearn.preprocessing import StandardScaler\n",
    "from sklearn.model_selection import train_test_split, GridSearchCV, TimeSeriesSplit\n",
    "from sklearn.svm import SVC\n",
    "from sklearn.metrics import confusion_matrix, accuracy_score, ConfusionMatrixDisplay, classification_report"
   ]
  },
  {
   "attachments": {},
   "cell_type": "markdown",
   "metadata": {},
   "source": [
    "## A. Maths and Feature Engineering"
   ]
  },
  {
   "attachments": {},
   "cell_type": "markdown",
   "metadata": {},
   "source": [
    "### 1. Consider MSE($\\beta$) wrt to the true value $\\beta$ in context of regression methods,\n",
    "\n",
    "$$\n",
    "E\\left[(\\hat{\\beta} - \\beta)^2\\right] = Var[\\hat{\\beta}] + \\left( E[\\hat{\\beta}] - \\beta \\right)^2\n",
    "$$"
   ]
  },
  {
   "attachments": {},
   "cell_type": "markdown",
   "metadata": {},
   "source": [
    "(a) can there exist an estimator with the smaller MSE than minimal least squares?"
   ]
  },
  {
   "attachments": {},
   "cell_type": "markdown",
   "metadata": {},
   "source": [
    "<font color='blue'>\n",
    "\n",
    "The answer is: Yes, may exist a biased estimator with smaller MSE. In this case the estimator would increase a little the bias, $\\left( E[\\hat{\\beta}] - \\beta \\right)^2$ with a larger decrease in variance term $Var[\\hat{\\beta}]$.\n",
    "\n",
    "It is important to note that least square has the smallest mean squared error of all linear estimators **unbiased**.\n",
    "\n",
    "\n",
    "</font>"
   ]
  },
  {
   "attachments": {},
   "cell_type": "markdown",
   "metadata": {},
   "source": [
    "(b) for a prediction, does the MSE measure an irreducible error or model error?"
   ]
  },
  {
   "attachments": {},
   "cell_type": "markdown",
   "metadata": {},
   "source": [
    "<font color='blue'>\n",
    "\n",
    "MSE measure the model error.\n",
    "\n",
    "</font>"
   ]
  },
  {
   "attachments": {},
   "cell_type": "markdown",
   "metadata": {},
   "source": [
    "### 2. What does entropy say about the partitions in a classification problem?"
   ]
  },
  {
   "attachments": {},
   "cell_type": "markdown",
   "metadata": {},
   "source": [
    "(a) high entropy means the partitions are pure"
   ]
  },
  {
   "attachments": {},
   "cell_type": "markdown",
   "metadata": {},
   "source": [
    "(b) high entropy means the partitions are not pure"
   ]
  },
  {
   "attachments": {},
   "cell_type": "markdown",
   "metadata": {},
   "source": [
    "<font color='blue'>\n",
    "\n",
    "Answer: (b) Not pure\n",
    "\n",
    "Entropy is a measure of the randomness in the information being processed. The higher the entropy, the harder it is to draw any conclusions from that information.\n",
    "It is a measure of disorder or purity or unpredictability or uncertainty.\n",
    "Low entropy means less uncertain and high entropy means more uncertain.\n",
    "\n",
    "</font>"
   ]
  },
  {
   "attachments": {},
   "cell_type": "markdown",
   "metadata": {},
   "source": [
    "### 3. Perform subset selection using any of all of a) filter, b) wrapper and, c) embedded methods"
   ]
  },
  {
   "attachments": {},
   "cell_type": "markdown",
   "metadata": {},
   "source": [
    "#### Load dataset"
   ]
  },
  {
   "cell_type": "code",
   "execution_count": 50,
   "metadata": {},
   "outputs": [],
   "source": [
    "df = pd.read_csv('data.csv', index_col='date', parse_dates=['date'])"
   ]
  },
  {
   "attachments": {},
   "cell_type": "markdown",
   "metadata": {},
   "source": [
    "#### Describe dataset"
   ]
  },
  {
   "cell_type": "code",
   "execution_count": 51,
   "metadata": {},
   "outputs": [
    {
     "data": {
      "text/html": [
       "<div>\n",
       "<style scoped>\n",
       "    .dataframe tbody tr th:only-of-type {\n",
       "        vertical-align: middle;\n",
       "    }\n",
       "\n",
       "    .dataframe tbody tr th {\n",
       "        vertical-align: top;\n",
       "    }\n",
       "\n",
       "    .dataframe thead th {\n",
       "        text-align: right;\n",
       "    }\n",
       "</style>\n",
       "<table border=\"1\" class=\"dataframe\">\n",
       "  <thead>\n",
       "    <tr style=\"text-align: right;\">\n",
       "      <th></th>\n",
       "      <th>open</th>\n",
       "      <th>high</th>\n",
       "      <th>low</th>\n",
       "      <th>close</th>\n",
       "    </tr>\n",
       "  </thead>\n",
       "  <tbody>\n",
       "    <tr>\n",
       "      <th>count</th>\n",
       "      <td>1240.000000</td>\n",
       "      <td>1240.000000</td>\n",
       "      <td>1240.000000</td>\n",
       "      <td>1240.000000</td>\n",
       "    </tr>\n",
       "    <tr>\n",
       "      <th>mean</th>\n",
       "      <td>13.421986</td>\n",
       "      <td>13.636153</td>\n",
       "      <td>13.196804</td>\n",
       "      <td>13.414884</td>\n",
       "    </tr>\n",
       "    <tr>\n",
       "      <th>std</th>\n",
       "      <td>5.237729</td>\n",
       "      <td>5.339208</td>\n",
       "      <td>5.150517</td>\n",
       "      <td>5.252697</td>\n",
       "    </tr>\n",
       "    <tr>\n",
       "      <th>min</th>\n",
       "      <td>4.707236</td>\n",
       "      <td>5.179236</td>\n",
       "      <td>4.613687</td>\n",
       "      <td>4.800786</td>\n",
       "    </tr>\n",
       "    <tr>\n",
       "      <th>25%</th>\n",
       "      <td>9.945838</td>\n",
       "      <td>10.127989</td>\n",
       "      <td>9.820758</td>\n",
       "      <td>9.973879</td>\n",
       "    </tr>\n",
       "    <tr>\n",
       "      <th>50%</th>\n",
       "      <td>11.684253</td>\n",
       "      <td>11.839912</td>\n",
       "      <td>11.536278</td>\n",
       "      <td>11.706667</td>\n",
       "    </tr>\n",
       "    <tr>\n",
       "      <th>75%</th>\n",
       "      <td>16.924746</td>\n",
       "      <td>17.212493</td>\n",
       "      <td>16.624367</td>\n",
       "      <td>16.926054</td>\n",
       "    </tr>\n",
       "    <tr>\n",
       "      <th>max</th>\n",
       "      <td>28.526247</td>\n",
       "      <td>30.003359</td>\n",
       "      <td>28.440277</td>\n",
       "      <td>29.479727</td>\n",
       "    </tr>\n",
       "  </tbody>\n",
       "</table>\n",
       "</div>"
      ],
      "text/plain": [
       "              open         high          low        close\n",
       "count  1240.000000  1240.000000  1240.000000  1240.000000\n",
       "mean     13.421986    13.636153    13.196804    13.414884\n",
       "std       5.237729     5.339208     5.150517     5.252697\n",
       "min       4.707236     5.179236     4.613687     4.800786\n",
       "25%       9.945838    10.127989     9.820758     9.973879\n",
       "50%      11.684253    11.839912    11.536278    11.706667\n",
       "75%      16.924746    17.212493    16.624367    16.926054\n",
       "max      28.526247    30.003359    28.440277    29.479727"
      ]
     },
     "execution_count": 51,
     "metadata": {},
     "output_type": "execute_result"
    }
   ],
   "source": [
    "df.describe()"
   ]
  },
  {
   "cell_type": "code",
   "execution_count": 52,
   "metadata": {},
   "outputs": [
    {
     "data": {
      "text/html": [
       "<div>\n",
       "<style scoped>\n",
       "    .dataframe tbody tr th:only-of-type {\n",
       "        vertical-align: middle;\n",
       "    }\n",
       "\n",
       "    .dataframe tbody tr th {\n",
       "        vertical-align: top;\n",
       "    }\n",
       "\n",
       "    .dataframe thead th {\n",
       "        text-align: right;\n",
       "    }\n",
       "</style>\n",
       "<table border=\"1\" class=\"dataframe\">\n",
       "  <thead>\n",
       "    <tr style=\"text-align: right;\">\n",
       "      <th></th>\n",
       "      <th>open</th>\n",
       "      <th>high</th>\n",
       "      <th>low</th>\n",
       "      <th>close</th>\n",
       "    </tr>\n",
       "    <tr>\n",
       "      <th>date</th>\n",
       "      <th></th>\n",
       "      <th></th>\n",
       "      <th></th>\n",
       "      <th></th>\n",
       "    </tr>\n",
       "  </thead>\n",
       "  <tbody>\n",
       "    <tr>\n",
       "      <th>2018-05-21</th>\n",
       "      <td>10.296750</td>\n",
       "      <td>10.371707</td>\n",
       "      <td>9.839116</td>\n",
       "      <td>9.882513</td>\n",
       "    </tr>\n",
       "    <tr>\n",
       "      <th>2018-05-22</th>\n",
       "      <td>9.807405</td>\n",
       "      <td>9.997150</td>\n",
       "      <td>9.546507</td>\n",
       "      <td>9.767875</td>\n",
       "    </tr>\n",
       "    <tr>\n",
       "      <th>2018-05-23</th>\n",
       "      <td>9.578131</td>\n",
       "      <td>9.676956</td>\n",
       "      <td>9.198643</td>\n",
       "      <td>9.198643</td>\n",
       "    </tr>\n",
       "    <tr>\n",
       "      <th>2018-05-24</th>\n",
       "      <td>7.925775</td>\n",
       "      <td>8.202485</td>\n",
       "      <td>7.767655</td>\n",
       "      <td>7.937634</td>\n",
       "    </tr>\n",
       "    <tr>\n",
       "      <th>2018-05-25</th>\n",
       "      <td>8.162955</td>\n",
       "      <td>8.408042</td>\n",
       "      <td>7.771608</td>\n",
       "      <td>7.826950</td>\n",
       "    </tr>\n",
       "  </tbody>\n",
       "</table>\n",
       "</div>"
      ],
      "text/plain": [
       "                 open       high       low     close\n",
       "date                                                \n",
       "2018-05-21  10.296750  10.371707  9.839116  9.882513\n",
       "2018-05-22   9.807405   9.997150  9.546507  9.767875\n",
       "2018-05-23   9.578131   9.676956  9.198643  9.198643\n",
       "2018-05-24   7.925775   8.202485  7.767655  7.937634\n",
       "2018-05-25   8.162955   8.408042  7.771608  7.826950"
      ]
     },
     "execution_count": 52,
     "metadata": {},
     "output_type": "execute_result"
    }
   ],
   "source": [
    "df.head()"
   ]
  },
  {
   "attachments": {},
   "cell_type": "markdown",
   "metadata": {},
   "source": [
    "#### Cleaning & Imputation"
   ]
  },
  {
   "attachments": {},
   "cell_type": "markdown",
   "metadata": {},
   "source": [
    "Check if data is already cleaned, if so no further manipulation required"
   ]
  },
  {
   "cell_type": "code",
   "execution_count": 53,
   "metadata": {},
   "outputs": [
    {
     "data": {
      "text/plain": [
       "open     0\n",
       "high     0\n",
       "low      0\n",
       "close    0\n",
       "dtype: int64"
      ]
     },
     "execution_count": 53,
     "metadata": {},
     "output_type": "execute_result"
    }
   ],
   "source": [
    "df.isnull().sum()"
   ]
  },
  {
   "attachments": {},
   "cell_type": "markdown",
   "metadata": {},
   "source": [
    "### Feature Specification"
   ]
  },
  {
   "cell_type": "code",
   "execution_count": 175,
   "metadata": {},
   "outputs": [],
   "source": [
    "#create features\n",
    "def create_features(df_orig):\n",
    "    df = df_orig.copy()\n",
    "    df['oc'] = df.open - df.close\n",
    "    df['hl'] = df.high - df.low\n",
    "    # momentums\n",
    "    for i in range(0,10):\n",
    "        df[f'm{i+1}'] = df.close - df.close.shift(i+1)\n",
    "    df['ma5'] = df.close.rolling(window=5).mean()\n",
    "    df['ma10'] = df.close.rolling(window=10).mean()\n",
    "    df['ewma'] = df.close.ewm(span=len(df.index),adjust=False).mean()\n",
    "    df.dropna(inplace=True)\n",
    "    return df\n"
   ]
  },
  {
   "attachments": {},
   "cell_type": "markdown",
   "metadata": {},
   "source": [
    "Let´s define the independent variables to be used in the evaluation"
   ]
  },
  {
   "cell_type": "code",
   "execution_count": 176,
   "metadata": {},
   "outputs": [],
   "source": [
    "df_featured = create_features(df)"
   ]
  },
  {
   "cell_type": "code",
   "execution_count": 177,
   "metadata": {},
   "outputs": [
    {
     "data": {
      "text/html": [
       "<div>\n",
       "<style scoped>\n",
       "    .dataframe tbody tr th:only-of-type {\n",
       "        vertical-align: middle;\n",
       "    }\n",
       "\n",
       "    .dataframe tbody tr th {\n",
       "        vertical-align: top;\n",
       "    }\n",
       "\n",
       "    .dataframe thead th {\n",
       "        text-align: right;\n",
       "    }\n",
       "</style>\n",
       "<table border=\"1\" class=\"dataframe\">\n",
       "  <thead>\n",
       "    <tr style=\"text-align: right;\">\n",
       "      <th></th>\n",
       "      <th>open</th>\n",
       "      <th>high</th>\n",
       "      <th>low</th>\n",
       "      <th>close</th>\n",
       "      <th>oc</th>\n",
       "      <th>hl</th>\n",
       "      <th>m1</th>\n",
       "      <th>m2</th>\n",
       "      <th>m3</th>\n",
       "      <th>m4</th>\n",
       "      <th>m5</th>\n",
       "      <th>m6</th>\n",
       "      <th>m7</th>\n",
       "      <th>m8</th>\n",
       "      <th>m9</th>\n",
       "      <th>m10</th>\n",
       "      <th>ma5</th>\n",
       "      <th>ma10</th>\n",
       "      <th>ewma</th>\n",
       "    </tr>\n",
       "    <tr>\n",
       "      <th>date</th>\n",
       "      <th></th>\n",
       "      <th></th>\n",
       "      <th></th>\n",
       "      <th></th>\n",
       "      <th></th>\n",
       "      <th></th>\n",
       "      <th></th>\n",
       "      <th></th>\n",
       "      <th></th>\n",
       "      <th></th>\n",
       "      <th></th>\n",
       "      <th></th>\n",
       "      <th></th>\n",
       "      <th></th>\n",
       "      <th></th>\n",
       "      <th></th>\n",
       "      <th></th>\n",
       "      <th></th>\n",
       "      <th></th>\n",
       "    </tr>\n",
       "  </thead>\n",
       "  <tbody>\n",
       "    <tr>\n",
       "      <th>2018-06-05</th>\n",
       "      <td>6.862417</td>\n",
       "      <td>7.036349</td>\n",
       "      <td>6.558035</td>\n",
       "      <td>6.558035</td>\n",
       "      <td>0.304381</td>\n",
       "      <td>0.478314</td>\n",
       "      <td>-0.371582</td>\n",
       "      <td>0.169979</td>\n",
       "      <td>-0.944768</td>\n",
       "      <td>-1.071264</td>\n",
       "      <td>-0.126496</td>\n",
       "      <td>-1.268915</td>\n",
       "      <td>-1.379599</td>\n",
       "      <td>-2.640607</td>\n",
       "      <td>-3.209840</td>\n",
       "      <td>-3.324477</td>\n",
       "      <td>7.001562</td>\n",
       "      <td>7.642345</td>\n",
       "      <td>9.846603</td>\n",
       "    </tr>\n",
       "    <tr>\n",
       "      <th>2018-06-06</th>\n",
       "      <td>6.510599</td>\n",
       "      <td>6.593612</td>\n",
       "      <td>6.273419</td>\n",
       "      <td>6.455257</td>\n",
       "      <td>0.055342</td>\n",
       "      <td>0.320193</td>\n",
       "      <td>-0.102778</td>\n",
       "      <td>-0.474361</td>\n",
       "      <td>0.067201</td>\n",
       "      <td>-1.047546</td>\n",
       "      <td>-1.174042</td>\n",
       "      <td>-0.229274</td>\n",
       "      <td>-1.371693</td>\n",
       "      <td>-1.482377</td>\n",
       "      <td>-2.743385</td>\n",
       "      <td>-3.312618</td>\n",
       "      <td>6.766754</td>\n",
       "      <td>7.311083</td>\n",
       "      <td>9.841137</td>\n",
       "    </tr>\n",
       "    <tr>\n",
       "      <th>2018-06-07</th>\n",
       "      <td>6.324808</td>\n",
       "      <td>6.388056</td>\n",
       "      <td>5.901837</td>\n",
       "      <td>6.229936</td>\n",
       "      <td>0.094872</td>\n",
       "      <td>0.486220</td>\n",
       "      <td>-0.225321</td>\n",
       "      <td>-0.328099</td>\n",
       "      <td>-0.699682</td>\n",
       "      <td>-0.158120</td>\n",
       "      <td>-1.272868</td>\n",
       "      <td>-1.399364</td>\n",
       "      <td>-0.454596</td>\n",
       "      <td>-1.597014</td>\n",
       "      <td>-1.707698</td>\n",
       "      <td>-2.968707</td>\n",
       "      <td>6.512180</td>\n",
       "      <td>7.014212</td>\n",
       "      <td>9.835318</td>\n",
       "    </tr>\n",
       "    <tr>\n",
       "      <th>2018-06-08</th>\n",
       "      <td>6.249701</td>\n",
       "      <td>6.399915</td>\n",
       "      <td>5.953226</td>\n",
       "      <td>6.028333</td>\n",
       "      <td>0.221368</td>\n",
       "      <td>0.446690</td>\n",
       "      <td>-0.201603</td>\n",
       "      <td>-0.426925</td>\n",
       "      <td>-0.529703</td>\n",
       "      <td>-0.901285</td>\n",
       "      <td>-0.359723</td>\n",
       "      <td>-1.474471</td>\n",
       "      <td>-1.600967</td>\n",
       "      <td>-0.656199</td>\n",
       "      <td>-1.798617</td>\n",
       "      <td>-1.909301</td>\n",
       "      <td>6.440236</td>\n",
       "      <td>6.823282</td>\n",
       "      <td>9.829182</td>\n",
       "    </tr>\n",
       "    <tr>\n",
       "      <th>2018-06-11</th>\n",
       "      <td>6.127158</td>\n",
       "      <td>6.245748</td>\n",
       "      <td>5.980897</td>\n",
       "      <td>6.091581</td>\n",
       "      <td>0.035577</td>\n",
       "      <td>0.264851</td>\n",
       "      <td>0.063248</td>\n",
       "      <td>-0.138355</td>\n",
       "      <td>-0.363676</td>\n",
       "      <td>-0.466455</td>\n",
       "      <td>-0.838037</td>\n",
       "      <td>-0.296475</td>\n",
       "      <td>-1.411223</td>\n",
       "      <td>-1.537719</td>\n",
       "      <td>-0.592951</td>\n",
       "      <td>-1.735369</td>\n",
       "      <td>6.272628</td>\n",
       "      <td>6.649745</td>\n",
       "      <td>9.823159</td>\n",
       "    </tr>\n",
       "    <tr>\n",
       "      <th>...</th>\n",
       "      <td>...</td>\n",
       "      <td>...</td>\n",
       "      <td>...</td>\n",
       "      <td>...</td>\n",
       "      <td>...</td>\n",
       "      <td>...</td>\n",
       "      <td>...</td>\n",
       "      <td>...</td>\n",
       "      <td>...</td>\n",
       "      <td>...</td>\n",
       "      <td>...</td>\n",
       "      <td>...</td>\n",
       "      <td>...</td>\n",
       "      <td>...</td>\n",
       "      <td>...</td>\n",
       "      <td>...</td>\n",
       "      <td>...</td>\n",
       "      <td>...</td>\n",
       "      <td>...</td>\n",
       "    </tr>\n",
       "    <tr>\n",
       "      <th>2023-05-15</th>\n",
       "      <td>26.060000</td>\n",
       "      <td>26.150000</td>\n",
       "      <td>25.400000</td>\n",
       "      <td>25.660000</td>\n",
       "      <td>0.400000</td>\n",
       "      <td>0.750000</td>\n",
       "      <td>-0.590000</td>\n",
       "      <td>0.230000</td>\n",
       "      <td>1.130000</td>\n",
       "      <td>1.070000</td>\n",
       "      <td>1.150000</td>\n",
       "      <td>1.660000</td>\n",
       "      <td>2.640000</td>\n",
       "      <td>3.000000</td>\n",
       "      <td>2.920000</td>\n",
       "      <td>1.960000</td>\n",
       "      <td>25.292000</td>\n",
       "      <td>24.339000</td>\n",
       "      <td>15.142142</td>\n",
       "    </tr>\n",
       "    <tr>\n",
       "      <th>2023-05-16</th>\n",
       "      <td>26.110000</td>\n",
       "      <td>27.030000</td>\n",
       "      <td>26.080000</td>\n",
       "      <td>26.300000</td>\n",
       "      <td>-0.190000</td>\n",
       "      <td>0.950000</td>\n",
       "      <td>0.640000</td>\n",
       "      <td>0.050000</td>\n",
       "      <td>0.870000</td>\n",
       "      <td>1.770000</td>\n",
       "      <td>1.710000</td>\n",
       "      <td>1.790000</td>\n",
       "      <td>2.300000</td>\n",
       "      <td>3.280000</td>\n",
       "      <td>3.640000</td>\n",
       "      <td>3.560000</td>\n",
       "      <td>25.634000</td>\n",
       "      <td>24.695000</td>\n",
       "      <td>15.160124</td>\n",
       "    </tr>\n",
       "    <tr>\n",
       "      <th>2023-05-17</th>\n",
       "      <td>26.600000</td>\n",
       "      <td>26.760000</td>\n",
       "      <td>25.510000</td>\n",
       "      <td>25.660000</td>\n",
       "      <td>0.940000</td>\n",
       "      <td>1.250000</td>\n",
       "      <td>-0.640000</td>\n",
       "      <td>0.000000</td>\n",
       "      <td>-0.590000</td>\n",
       "      <td>0.230000</td>\n",
       "      <td>1.130000</td>\n",
       "      <td>1.070000</td>\n",
       "      <td>1.150000</td>\n",
       "      <td>1.660000</td>\n",
       "      <td>2.640000</td>\n",
       "      <td>3.000000</td>\n",
       "      <td>25.860000</td>\n",
       "      <td>24.995000</td>\n",
       "      <td>15.177045</td>\n",
       "    </tr>\n",
       "    <tr>\n",
       "      <th>2023-05-18</th>\n",
       "      <td>25.590000</td>\n",
       "      <td>25.850000</td>\n",
       "      <td>25.350000</td>\n",
       "      <td>25.810000</td>\n",
       "      <td>-0.220000</td>\n",
       "      <td>0.500000</td>\n",
       "      <td>0.150000</td>\n",
       "      <td>-0.490000</td>\n",
       "      <td>0.150000</td>\n",
       "      <td>-0.440000</td>\n",
       "      <td>0.380000</td>\n",
       "      <td>1.280000</td>\n",
       "      <td>1.220000</td>\n",
       "      <td>1.300000</td>\n",
       "      <td>1.810000</td>\n",
       "      <td>2.790000</td>\n",
       "      <td>25.936000</td>\n",
       "      <td>25.274000</td>\n",
       "      <td>15.194181</td>\n",
       "    </tr>\n",
       "    <tr>\n",
       "      <th>2023-05-19</th>\n",
       "      <td>26.080000</td>\n",
       "      <td>26.180000</td>\n",
       "      <td>25.640000</td>\n",
       "      <td>25.920000</td>\n",
       "      <td>0.160000</td>\n",
       "      <td>0.540000</td>\n",
       "      <td>0.110000</td>\n",
       "      <td>0.260000</td>\n",
       "      <td>-0.380000</td>\n",
       "      <td>0.260000</td>\n",
       "      <td>-0.330000</td>\n",
       "      <td>0.490000</td>\n",
       "      <td>1.390000</td>\n",
       "      <td>1.330000</td>\n",
       "      <td>1.410000</td>\n",
       "      <td>1.920000</td>\n",
       "      <td>25.870000</td>\n",
       "      <td>25.466000</td>\n",
       "      <td>15.211467</td>\n",
       "    </tr>\n",
       "  </tbody>\n",
       "</table>\n",
       "<p>1230 rows × 19 columns</p>\n",
       "</div>"
      ],
      "text/plain": [
       "                 open       high        low      close        oc        hl  \\\n",
       "date                                                                         \n",
       "2018-06-05   6.862417   7.036349   6.558035   6.558035  0.304381  0.478314   \n",
       "2018-06-06   6.510599   6.593612   6.273419   6.455257  0.055342  0.320193   \n",
       "2018-06-07   6.324808   6.388056   5.901837   6.229936  0.094872  0.486220   \n",
       "2018-06-08   6.249701   6.399915   5.953226   6.028333  0.221368  0.446690   \n",
       "2018-06-11   6.127158   6.245748   5.980897   6.091581  0.035577  0.264851   \n",
       "...               ...        ...        ...        ...       ...       ...   \n",
       "2023-05-15  26.060000  26.150000  25.400000  25.660000  0.400000  0.750000   \n",
       "2023-05-16  26.110000  27.030000  26.080000  26.300000 -0.190000  0.950000   \n",
       "2023-05-17  26.600000  26.760000  25.510000  25.660000  0.940000  1.250000   \n",
       "2023-05-18  25.590000  25.850000  25.350000  25.810000 -0.220000  0.500000   \n",
       "2023-05-19  26.080000  26.180000  25.640000  25.920000  0.160000  0.540000   \n",
       "\n",
       "                  m1        m2        m3        m4        m5        m6  \\\n",
       "date                                                                     \n",
       "2018-06-05 -0.371582  0.169979 -0.944768 -1.071264 -0.126496 -1.268915   \n",
       "2018-06-06 -0.102778 -0.474361  0.067201 -1.047546 -1.174042 -0.229274   \n",
       "2018-06-07 -0.225321 -0.328099 -0.699682 -0.158120 -1.272868 -1.399364   \n",
       "2018-06-08 -0.201603 -0.426925 -0.529703 -0.901285 -0.359723 -1.474471   \n",
       "2018-06-11  0.063248 -0.138355 -0.363676 -0.466455 -0.838037 -0.296475   \n",
       "...              ...       ...       ...       ...       ...       ...   \n",
       "2023-05-15 -0.590000  0.230000  1.130000  1.070000  1.150000  1.660000   \n",
       "2023-05-16  0.640000  0.050000  0.870000  1.770000  1.710000  1.790000   \n",
       "2023-05-17 -0.640000  0.000000 -0.590000  0.230000  1.130000  1.070000   \n",
       "2023-05-18  0.150000 -0.490000  0.150000 -0.440000  0.380000  1.280000   \n",
       "2023-05-19  0.110000  0.260000 -0.380000  0.260000 -0.330000  0.490000   \n",
       "\n",
       "                  m7        m8        m9       m10        ma5       ma10  \\\n",
       "date                                                                       \n",
       "2018-06-05 -1.379599 -2.640607 -3.209840 -3.324477   7.001562   7.642345   \n",
       "2018-06-06 -1.371693 -1.482377 -2.743385 -3.312618   6.766754   7.311083   \n",
       "2018-06-07 -0.454596 -1.597014 -1.707698 -2.968707   6.512180   7.014212   \n",
       "2018-06-08 -1.600967 -0.656199 -1.798617 -1.909301   6.440236   6.823282   \n",
       "2018-06-11 -1.411223 -1.537719 -0.592951 -1.735369   6.272628   6.649745   \n",
       "...              ...       ...       ...       ...        ...        ...   \n",
       "2023-05-15  2.640000  3.000000  2.920000  1.960000  25.292000  24.339000   \n",
       "2023-05-16  2.300000  3.280000  3.640000  3.560000  25.634000  24.695000   \n",
       "2023-05-17  1.150000  1.660000  2.640000  3.000000  25.860000  24.995000   \n",
       "2023-05-18  1.220000  1.300000  1.810000  2.790000  25.936000  25.274000   \n",
       "2023-05-19  1.390000  1.330000  1.410000  1.920000  25.870000  25.466000   \n",
       "\n",
       "                 ewma  \n",
       "date                   \n",
       "2018-06-05   9.846603  \n",
       "2018-06-06   9.841137  \n",
       "2018-06-07   9.835318  \n",
       "2018-06-08   9.829182  \n",
       "2018-06-11   9.823159  \n",
       "...               ...  \n",
       "2023-05-15  15.142142  \n",
       "2023-05-16  15.160124  \n",
       "2023-05-17  15.177045  \n",
       "2023-05-18  15.194181  \n",
       "2023-05-19  15.211467  \n",
       "\n",
       "[1230 rows x 19 columns]"
      ]
     },
     "execution_count": 177,
     "metadata": {},
     "output_type": "execute_result"
    }
   ],
   "source": [
    "df_featured"
   ]
  },
  {
   "attachments": {},
   "cell_type": "markdown",
   "metadata": {},
   "source": [
    "#### Feature Selection"
   ]
  },
  {
   "attachments": {},
   "cell_type": "markdown",
   "metadata": {},
   "source": [
    "Let´s use correlation between features in order to check if we can reduce the number of input variables."
   ]
  },
  {
   "cell_type": "code",
   "execution_count": 178,
   "metadata": {},
   "outputs": [
    {
     "data": {
      "image/png": "[encoded data removed]",
      "text/plain": [
       "<Figure size 2000x1000 with 2 Axes>"
      ]
     },
     "metadata": {},
     "output_type": "display_data"
    }
   ],
   "source": [
    "# remove features that are highly correlated\n",
    "sns.set(rc={'figure.figsize': (20, 10)})\n",
    "\n",
    "sns.heatmap(df_featured.drop(['open', 'high', 'low', 'close'], axis=1).corr()>0.9, \n",
    "            annot=True,  \n",
    "            annot_kws={\"size\": 11}, \n",
    "            fmt=\".2f\", \n",
    "            linewidth=.5, \n",
    "            cmap=\"coolwarm\", \n",
    "            cbar=True); #cmap=\"crest\", virids, magma\n",
    "\n",
    "plt.title('Features Set Correlations');"
   ]
  },
  {
   "cell_type": "code",
   "execution_count": 73,
   "metadata": {},
   "outputs": [],
   "source": [
    "to_drop = ['m6', 'm7', 'm8', 'm9', 'ewma']\n",
    "df_featured.drop(to_drop, axis=1, inplace=True)"
   ]
  },
  {
   "cell_type": "code",
   "execution_count": 74,
   "metadata": {},
   "outputs": [
    {
     "data": {
      "image/png": "[encoded data removed]",
      "text/plain": [
       "<Figure size 2000x1000 with 2 Axes>"
      ]
     },
     "metadata": {},
     "output_type": "display_data"
    }
   ],
   "source": [
    "# remove features that are highly correlated\n",
    "sns.set(rc={'figure.figsize': (20, 10)})\n",
    "\n",
    "sns.heatmap(df_featured.drop(['open', 'high', 'low', 'close'], axis=1).corr()>0.9, \n",
    "            annot=True,  \n",
    "            annot_kws={\"size\": 11}, \n",
    "            fmt=\".2f\", \n",
    "            linewidth=.5, \n",
    "            cmap=\"coolwarm\", \n",
    "            cbar=True); #cmap=\"crest\", virids, magma\n",
    "\n",
    "plt.title('Features Set Correlations');"
   ]
  },
  {
   "cell_type": "code",
   "execution_count": 76,
   "metadata": {},
   "outputs": [
    {
     "data": {
      "text/html": [
       "<div>\n",
       "<style scoped>\n",
       "    .dataframe tbody tr th:only-of-type {\n",
       "        vertical-align: middle;\n",
       "    }\n",
       "\n",
       "    .dataframe tbody tr th {\n",
       "        vertical-align: top;\n",
       "    }\n",
       "\n",
       "    .dataframe thead th {\n",
       "        text-align: right;\n",
       "    }\n",
       "</style>\n",
       "<table border=\"1\" class=\"dataframe\">\n",
       "  <thead>\n",
       "    <tr style=\"text-align: right;\">\n",
       "      <th></th>\n",
       "      <th>open</th>\n",
       "      <th>high</th>\n",
       "      <th>low</th>\n",
       "      <th>close</th>\n",
       "      <th>oc</th>\n",
       "      <th>hl</th>\n",
       "      <th>sign</th>\n",
       "      <th>m1</th>\n",
       "      <th>m2</th>\n",
       "      <th>m3</th>\n",
       "      <th>m4</th>\n",
       "      <th>m5</th>\n",
       "      <th>m10</th>\n",
       "      <th>ma10</th>\n",
       "    </tr>\n",
       "  </thead>\n",
       "  <tbody>\n",
       "    <tr>\n",
       "      <th>count</th>\n",
       "      <td>1230.000000</td>\n",
       "      <td>1230.000000</td>\n",
       "      <td>1230.000000</td>\n",
       "      <td>1230.000000</td>\n",
       "      <td>1230.000000</td>\n",
       "      <td>1230.000000</td>\n",
       "      <td>1230.000000</td>\n",
       "      <td>1230.000000</td>\n",
       "      <td>1230.000000</td>\n",
       "      <td>1230.000000</td>\n",
       "      <td>1230.000000</td>\n",
       "      <td>1230.000000</td>\n",
       "      <td>1230.000000</td>\n",
       "      <td>1230.000000</td>\n",
       "    </tr>\n",
       "    <tr>\n",
       "      <th>mean</th>\n",
       "      <td>13.464187</td>\n",
       "      <td>13.678231</td>\n",
       "      <td>13.241037</td>\n",
       "      <td>13.459112</td>\n",
       "      <td>0.005075</td>\n",
       "      <td>0.437194</td>\n",
       "      <td>0.001073</td>\n",
       "      <td>0.015439</td>\n",
       "      <td>0.031230</td>\n",
       "      <td>0.045991</td>\n",
       "      <td>0.061171</td>\n",
       "      <td>0.076598</td>\n",
       "      <td>0.142205</td>\n",
       "      <td>13.391474</td>\n",
       "    </tr>\n",
       "    <tr>\n",
       "      <th>std</th>\n",
       "      <td>5.236895</td>\n",
       "      <td>5.339447</td>\n",
       "      <td>5.146613</td>\n",
       "      <td>5.249874</td>\n",
       "      <td>0.311505</td>\n",
       "      <td>0.299531</td>\n",
       "      <td>0.030186</td>\n",
       "      <td>0.381179</td>\n",
       "      <td>0.534827</td>\n",
       "      <td>0.650858</td>\n",
       "      <td>0.757934</td>\n",
       "      <td>0.862433</td>\n",
       "      <td>1.282298</td>\n",
       "      <td>5.185692</td>\n",
       "    </tr>\n",
       "    <tr>\n",
       "      <th>min</th>\n",
       "      <td>4.707236</td>\n",
       "      <td>5.179236</td>\n",
       "      <td>4.613687</td>\n",
       "      <td>4.800786</td>\n",
       "      <td>-2.039822</td>\n",
       "      <td>0.087497</td>\n",
       "      <td>-0.352367</td>\n",
       "      <td>-2.883023</td>\n",
       "      <td>-3.929075</td>\n",
       "      <td>-4.609435</td>\n",
       "      <td>-4.350048</td>\n",
       "      <td>-5.396100</td>\n",
       "      <td>-8.260888</td>\n",
       "      <td>5.457758</td>\n",
       "    </tr>\n",
       "    <tr>\n",
       "      <th>25%</th>\n",
       "      <td>9.996309</td>\n",
       "      <td>10.172188</td>\n",
       "      <td>9.859260</td>\n",
       "      <td>10.012680</td>\n",
       "      <td>-0.140572</td>\n",
       "      <td>0.232959</td>\n",
       "      <td>-0.012727</td>\n",
       "      <td>-0.144960</td>\n",
       "      <td>-0.217823</td>\n",
       "      <td>-0.252091</td>\n",
       "      <td>-0.276400</td>\n",
       "      <td>-0.271357</td>\n",
       "      <td>-0.384587</td>\n",
       "      <td>9.961719</td>\n",
       "    </tr>\n",
       "    <tr>\n",
       "      <th>50%</th>\n",
       "      <td>11.708163</td>\n",
       "      <td>11.885520</td>\n",
       "      <td>11.554111</td>\n",
       "      <td>11.720969</td>\n",
       "      <td>0.004252</td>\n",
       "      <td>0.344439</td>\n",
       "      <td>0.001106</td>\n",
       "      <td>0.013172</td>\n",
       "      <td>0.041760</td>\n",
       "      <td>0.062146</td>\n",
       "      <td>0.089299</td>\n",
       "      <td>0.107995</td>\n",
       "      <td>0.193487</td>\n",
       "      <td>11.709020</td>\n",
       "    </tr>\n",
       "    <tr>\n",
       "      <th>75%</th>\n",
       "      <td>16.963984</td>\n",
       "      <td>17.235802</td>\n",
       "      <td>16.674380</td>\n",
       "      <td>16.957445</td>\n",
       "      <td>0.157335</td>\n",
       "      <td>0.544250</td>\n",
       "      <td>0.015818</td>\n",
       "      <td>0.195549</td>\n",
       "      <td>0.284062</td>\n",
       "      <td>0.363005</td>\n",
       "      <td>0.432088</td>\n",
       "      <td>0.501386</td>\n",
       "      <td>0.743815</td>\n",
       "      <td>16.997860</td>\n",
       "    </tr>\n",
       "    <tr>\n",
       "      <th>max</th>\n",
       "      <td>28.526247</td>\n",
       "      <td>30.003359</td>\n",
       "      <td>28.440277</td>\n",
       "      <td>29.479727</td>\n",
       "      <td>1.953853</td>\n",
       "      <td>2.149238</td>\n",
       "      <td>0.200671</td>\n",
       "      <td>1.860068</td>\n",
       "      <td>2.243023</td>\n",
       "      <td>2.743209</td>\n",
       "      <td>3.384073</td>\n",
       "      <td>3.399703</td>\n",
       "      <td>4.347846</td>\n",
       "      <td>26.990519</td>\n",
       "    </tr>\n",
       "  </tbody>\n",
       "</table>\n",
       "</div>"
      ],
      "text/plain": [
       "              open         high          low        close           oc  \\\n",
       "count  1230.000000  1230.000000  1230.000000  1230.000000  1230.000000   \n",
       "mean     13.464187    13.678231    13.241037    13.459112     0.005075   \n",
       "std       5.236895     5.339447     5.146613     5.249874     0.311505   \n",
       "min       4.707236     5.179236     4.613687     4.800786    -2.039822   \n",
       "25%       9.996309    10.172188     9.859260    10.012680    -0.140572   \n",
       "50%      11.708163    11.885520    11.554111    11.720969     0.004252   \n",
       "75%      16.963984    17.235802    16.674380    16.957445     0.157335   \n",
       "max      28.526247    30.003359    28.440277    29.479727     1.953853   \n",
       "\n",
       "                hl         sign           m1           m2           m3  \\\n",
       "count  1230.000000  1230.000000  1230.000000  1230.000000  1230.000000   \n",
       "mean      0.437194     0.001073     0.015439     0.031230     0.045991   \n",
       "std       0.299531     0.030186     0.381179     0.534827     0.650858   \n",
       "min       0.087497    -0.352367    -2.883023    -3.929075    -4.609435   \n",
       "25%       0.232959    -0.012727    -0.144960    -0.217823    -0.252091   \n",
       "50%       0.344439     0.001106     0.013172     0.041760     0.062146   \n",
       "75%       0.544250     0.015818     0.195549     0.284062     0.363005   \n",
       "max       2.149238     0.200671     1.860068     2.243023     2.743209   \n",
       "\n",
       "                m4           m5          m10         ma10  \n",
       "count  1230.000000  1230.000000  1230.000000  1230.000000  \n",
       "mean      0.061171     0.076598     0.142205    13.391474  \n",
       "std       0.757934     0.862433     1.282298     5.185692  \n",
       "min      -4.350048    -5.396100    -8.260888     5.457758  \n",
       "25%      -0.276400    -0.271357    -0.384587     9.961719  \n",
       "50%       0.089299     0.107995     0.193487    11.709020  \n",
       "75%       0.432088     0.501386     0.743815    16.997860  \n",
       "max       3.384073     3.399703     4.347846    26.990519  "
      ]
     },
     "execution_count": 76,
     "metadata": {},
     "output_type": "execute_result"
    }
   ],
   "source": [
    "df_featured.describe()"
   ]
  },
  {
   "attachments": {},
   "cell_type": "markdown",
   "metadata": {},
   "source": [
    "#### Target or Label Definition"
   ]
  },
  {
   "attachments": {},
   "cell_type": "markdown",
   "metadata": {},
   "source": [
    "Now, we will define dependent variable, and for that we will impose a threshold considering positive returns only the ones above 0.25%, thus:\n",
    "\n",
    "$$\n",
    "y_t = \n",
    "    \\begin{cases}\n",
    "        1, & \\text{if $p_{t+1} > 1.0025 * p_t$}\\\\ \n",
    "        0, & \\text{if $p_{t+1}$ otherwise}\n",
    "    \\end{cases}\n",
    "$$"
   ]
  },
  {
   "cell_type": "code",
   "execution_count": 89,
   "metadata": {},
   "outputs": [],
   "source": [
    "y = np.where(df_featured.close.shift(-1) / df_featured.close > 1.0025, 1, 0)"
   ]
  },
  {
   "cell_type": "code",
   "execution_count": 179,
   "metadata": {},
   "outputs": [],
   "source": [
    "X = df_featured[['ma5', 'ma10']].values"
   ]
  },
  {
   "attachments": {},
   "cell_type": "markdown",
   "metadata": {},
   "source": [
    "#### Split Data"
   ]
  },
  {
   "cell_type": "code",
   "execution_count": 180,
   "metadata": {},
   "outputs": [],
   "source": [
    "X_train, X_test, y_train, y_test = train_test_split(X, y, test_size = 0.25, random_state = 0)"
   ]
  },
  {
   "attachments": {},
   "cell_type": "markdown",
   "metadata": {},
   "source": [
    "#### Feature scaling"
   ]
  },
  {
   "cell_type": "code",
   "execution_count": 181,
   "metadata": {},
   "outputs": [],
   "source": [
    "sc = StandardScaler()\n",
    "X_train = sc.fit_transform(X_train)\n",
    "X_test = sc.transform(X_test)"
   ]
  },
  {
   "attachments": {},
   "cell_type": "markdown",
   "metadata": {},
   "source": [
    "After performing feature scaling, all values will be normalized and looks like this"
   ]
  },
  {
   "cell_type": "code",
   "execution_count": 182,
   "metadata": {},
   "outputs": [
    {
     "data": {
      "text/html": [
       "<div>\n",
       "<style scoped>\n",
       "    .dataframe tbody tr th:only-of-type {\n",
       "        vertical-align: middle;\n",
       "    }\n",
       "\n",
       "    .dataframe tbody tr th {\n",
       "        vertical-align: top;\n",
       "    }\n",
       "\n",
       "    .dataframe thead th {\n",
       "        text-align: right;\n",
       "    }\n",
       "</style>\n",
       "<table border=\"1\" class=\"dataframe\">\n",
       "  <thead>\n",
       "    <tr style=\"text-align: right;\">\n",
       "      <th></th>\n",
       "      <th>0</th>\n",
       "      <th>1</th>\n",
       "    </tr>\n",
       "  </thead>\n",
       "  <tbody>\n",
       "    <tr>\n",
       "      <th>0</th>\n",
       "      <td>-0.455644</td>\n",
       "      <td>-0.406249</td>\n",
       "    </tr>\n",
       "    <tr>\n",
       "      <th>1</th>\n",
       "      <td>-0.449564</td>\n",
       "      <td>-0.433653</td>\n",
       "    </tr>\n",
       "    <tr>\n",
       "      <th>2</th>\n",
       "      <td>1.418526</td>\n",
       "      <td>1.494301</td>\n",
       "    </tr>\n",
       "    <tr>\n",
       "      <th>3</th>\n",
       "      <td>0.798816</td>\n",
       "      <td>0.827871</td>\n",
       "    </tr>\n",
       "    <tr>\n",
       "      <th>4</th>\n",
       "      <td>0.310346</td>\n",
       "      <td>0.355380</td>\n",
       "    </tr>\n",
       "    <tr>\n",
       "      <th>...</th>\n",
       "      <td>...</td>\n",
       "      <td>...</td>\n",
       "    </tr>\n",
       "    <tr>\n",
       "      <th>917</th>\n",
       "      <td>-0.134913</td>\n",
       "      <td>-0.111253</td>\n",
       "    </tr>\n",
       "    <tr>\n",
       "      <th>918</th>\n",
       "      <td>0.049893</td>\n",
       "      <td>0.045247</td>\n",
       "    </tr>\n",
       "    <tr>\n",
       "      <th>919</th>\n",
       "      <td>1.967923</td>\n",
       "      <td>2.029904</td>\n",
       "    </tr>\n",
       "    <tr>\n",
       "      <th>920</th>\n",
       "      <td>-0.720325</td>\n",
       "      <td>-0.722611</td>\n",
       "    </tr>\n",
       "    <tr>\n",
       "      <th>921</th>\n",
       "      <td>-0.751004</td>\n",
       "      <td>-0.762441</td>\n",
       "    </tr>\n",
       "  </tbody>\n",
       "</table>\n",
       "<p>922 rows × 2 columns</p>\n",
       "</div>"
      ],
      "text/plain": [
       "            0         1\n",
       "0   -0.455644 -0.406249\n",
       "1   -0.449564 -0.433653\n",
       "2    1.418526  1.494301\n",
       "3    0.798816  0.827871\n",
       "4    0.310346  0.355380\n",
       "..        ...       ...\n",
       "917 -0.134913 -0.111253\n",
       "918  0.049893  0.045247\n",
       "919  1.967923  2.029904\n",
       "920 -0.720325 -0.722611\n",
       "921 -0.751004 -0.762441\n",
       "\n",
       "[922 rows x 2 columns]"
      ]
     },
     "execution_count": 182,
     "metadata": {},
     "output_type": "execute_result"
    }
   ],
   "source": [
    "pd.DataFrame(data=X_train)"
   ]
  },
  {
   "cell_type": "code",
   "execution_count": 187,
   "metadata": {},
   "outputs": [
    {
     "data": {
      "text/html": [
       "<style>#sk-container-id-7 {color: black;background-color: white;}#sk-container-id-7 pre{padding: 0;}#sk-container-id-7 div.sk-toggleable {background-color: white;}#sk-container-id-7 label.sk-toggleable__label {cursor: pointer;display: block;width: 100%;margin-bottom: 0;padding: 0.3em;box-sizing: border-box;text-align: center;}#sk-container-id-7 label.sk-toggleable__label-arrow:before {content: \"▸\";float: left;margin-right: 0.25em;color: #696969;}#sk-container-id-7 label.sk-toggleable__label-arrow:hover:before {color: black;}#sk-container-id-7 div.sk-estimator:hover label.sk-toggleable__label-arrow:before {color: black;}#sk-container-id-7 div.sk-toggleable__content {max-height: 0;max-width: 0;overflow: hidden;text-align: left;background-color: #f0f8ff;}#sk-container-id-7 div.sk-toggleable__content pre {margin: 0.2em;color: black;border-radius: 0.25em;background-color: #f0f8ff;}#sk-container-id-7 input.sk-toggleable__control:checked~div.sk-toggleable__content {max-height: 200px;max-width: 100%;overflow: auto;}#sk-container-id-7 input.sk-toggleable__control:checked~label.sk-toggleable__label-arrow:before {content: \"▾\";}#sk-container-id-7 div.sk-estimator input.sk-toggleable__control:checked~label.sk-toggleable__label {background-color: #d4ebff;}#sk-container-id-7 div.sk-label input.sk-toggleable__control:checked~label.sk-toggleable__label {background-color: #d4ebff;}#sk-container-id-7 input.sk-hidden--visually {border: 0;clip: rect(1px 1px 1px 1px);clip: rect(1px, 1px, 1px, 1px);height: 1px;margin: -1px;overflow: hidden;padding: 0;position: absolute;width: 1px;}#sk-container-id-7 div.sk-estimator {font-family: monospace;background-color: #f0f8ff;border: 1px dotted black;border-radius: 0.25em;box-sizing: border-box;margin-bottom: 0.5em;}#sk-container-id-7 div.sk-estimator:hover {background-color: #d4ebff;}#sk-container-id-7 div.sk-parallel-item::after {content: \"\";width: 100%;border-bottom: 1px solid gray;flex-grow: 1;}#sk-container-id-7 div.sk-label:hover label.sk-toggleable__label {background-color: #d4ebff;}#sk-container-id-7 div.sk-serial::before {content: \"\";position: absolute;border-left: 1px solid gray;box-sizing: border-box;top: 0;bottom: 0;left: 50%;z-index: 0;}#sk-container-id-7 div.sk-serial {display: flex;flex-direction: column;align-items: center;background-color: white;padding-right: 0.2em;padding-left: 0.2em;position: relative;}#sk-container-id-7 div.sk-item {position: relative;z-index: 1;}#sk-container-id-7 div.sk-parallel {display: flex;align-items: stretch;justify-content: center;background-color: white;position: relative;}#sk-container-id-7 div.sk-item::before, #sk-container-id-7 div.sk-parallel-item::before {content: \"\";position: absolute;border-left: 1px solid gray;box-sizing: border-box;top: 0;bottom: 0;left: 50%;z-index: -1;}#sk-container-id-7 div.sk-parallel-item {display: flex;flex-direction: column;z-index: 1;position: relative;background-color: white;}#sk-container-id-7 div.sk-parallel-item:first-child::after {align-self: flex-end;width: 50%;}#sk-container-id-7 div.sk-parallel-item:last-child::after {align-self: flex-start;width: 50%;}#sk-container-id-7 div.sk-parallel-item:only-child::after {width: 0;}#sk-container-id-7 div.sk-dashed-wrapped {border: 1px dashed gray;margin: 0 0.4em 0.5em 0.4em;box-sizing: border-box;padding-bottom: 0.4em;background-color: white;}#sk-container-id-7 div.sk-label label {font-family: monospace;font-weight: bold;display: inline-block;line-height: 1.2em;}#sk-container-id-7 div.sk-label-container {text-align: center;}#sk-container-id-7 div.sk-container {/* jupyter's `normalize.less` sets `[hidden] { display: none; }` but bootstrap.min.css set `[hidden] { display: none !important; }` so we also need the `!important` here to be able to override the default hidden behavior on the sphinx rendered scikit-learn.org. See: https://github.com/scikit-learn/scikit-learn/issues/21755 */display: inline-block !important;position: relative;}#sk-container-id-7 div.sk-text-repr-fallback {display: none;}</style><div id=\"sk-container-id-7\" class=\"sk-top-container\"><div class=\"sk-text-repr-fallback\"><pre>SVC(random_state=0)</pre><b>In a Jupyter environment, please rerun this cell to show the HTML representation or trust the notebook. <br />On GitHub, the HTML representation is unable to render, please try loading this page with nbviewer.org.</b></div><div class=\"sk-container\" hidden><div class=\"sk-item\"><div class=\"sk-estimator sk-toggleable\"><input class=\"sk-toggleable__control sk-hidden--visually\" id=\"sk-estimator-id-7\" type=\"checkbox\" checked><label for=\"sk-estimator-id-7\" class=\"sk-toggleable__label sk-toggleable__label-arrow\">SVC</label><div class=\"sk-toggleable__content\"><pre>SVC(random_state=0)</pre></div></div></div></div></div>"
      ],
      "text/plain": [
       "SVC(random_state=0)"
      ]
     },
     "execution_count": 187,
     "metadata": {},
     "output_type": "execute_result"
    }
   ],
   "source": [
    "model = SVC(kernel = 'rbf', random_state=0)\n",
    "model.fit(X_train, y_train)"
   ]
  },
  {
   "cell_type": "code",
   "execution_count": 188,
   "metadata": {},
   "outputs": [],
   "source": [
    "y_pred = model.predict(X_test)"
   ]
  },
  {
   "cell_type": "code",
   "execution_count": 189,
   "metadata": {},
   "outputs": [
    {
     "data": {
      "text/html": [
       "<div>\n",
       "<style scoped>\n",
       "    .dataframe tbody tr th:only-of-type {\n",
       "        vertical-align: middle;\n",
       "    }\n",
       "\n",
       "    .dataframe tbody tr th {\n",
       "        vertical-align: top;\n",
       "    }\n",
       "\n",
       "    .dataframe thead th {\n",
       "        text-align: right;\n",
       "    }\n",
       "</style>\n",
       "<table border=\"1\" class=\"dataframe\">\n",
       "  <thead>\n",
       "    <tr style=\"text-align: right;\">\n",
       "      <th></th>\n",
       "      <th>0</th>\n",
       "    </tr>\n",
       "  </thead>\n",
       "  <tbody>\n",
       "    <tr>\n",
       "      <th>0</th>\n",
       "      <td>1</td>\n",
       "    </tr>\n",
       "    <tr>\n",
       "      <th>1</th>\n",
       "      <td>0</td>\n",
       "    </tr>\n",
       "    <tr>\n",
       "      <th>2</th>\n",
       "      <td>1</td>\n",
       "    </tr>\n",
       "    <tr>\n",
       "      <th>3</th>\n",
       "      <td>0</td>\n",
       "    </tr>\n",
       "    <tr>\n",
       "      <th>4</th>\n",
       "      <td>0</td>\n",
       "    </tr>\n",
       "    <tr>\n",
       "      <th>...</th>\n",
       "      <td>...</td>\n",
       "    </tr>\n",
       "    <tr>\n",
       "      <th>303</th>\n",
       "      <td>0</td>\n",
       "    </tr>\n",
       "    <tr>\n",
       "      <th>304</th>\n",
       "      <td>0</td>\n",
       "    </tr>\n",
       "    <tr>\n",
       "      <th>305</th>\n",
       "      <td>0</td>\n",
       "    </tr>\n",
       "    <tr>\n",
       "      <th>306</th>\n",
       "      <td>0</td>\n",
       "    </tr>\n",
       "    <tr>\n",
       "      <th>307</th>\n",
       "      <td>0</td>\n",
       "    </tr>\n",
       "  </tbody>\n",
       "</table>\n",
       "<p>308 rows × 1 columns</p>\n",
       "</div>"
      ],
      "text/plain": [
       "     0\n",
       "0    1\n",
       "1    0\n",
       "2    1\n",
       "3    0\n",
       "4    0\n",
       "..  ..\n",
       "303  0\n",
       "304  0\n",
       "305  0\n",
       "306  0\n",
       "307  0\n",
       "\n",
       "[308 rows x 1 columns]"
      ]
     },
     "execution_count": 189,
     "metadata": {},
     "output_type": "execute_result"
    }
   ],
   "source": [
    "pd.DataFrame(data=y_pred)"
   ]
  },
  {
   "cell_type": "code",
   "execution_count": 190,
   "metadata": {},
   "outputs": [
    {
     "data": {
      "image/png": "[encoded data removed]",
      "text/plain": [
       "<Figure size 2000x1000 with 2 Axes>"
      ]
     },
     "metadata": {},
     "output_type": "display_data"
    }
   ],
   "source": [
    "# Display confussion matrix\n",
    "disp = ConfusionMatrixDisplay.from_estimator(\n",
    "        model,\n",
    "        X_test,\n",
    "        y_test,\n",
    "        display_labels=model.classes_,\n",
    "        cmap=plt.cm.Blues\n",
    "    )\n",
    "disp.ax_.set_title('Confusion matrix')\n",
    "plt.show()"
   ]
  },
  {
   "cell_type": "code",
   "execution_count": 154,
   "metadata": {},
   "outputs": [
    {
     "data": {
      "text/plain": [
       "0.4675324675324675"
      ]
     },
     "execution_count": 154,
     "metadata": {},
     "output_type": "execute_result"
    }
   ],
   "source": [
    "accuracy_score(y_test, y_pred)"
   ]
  },
  {
   "cell_type": "code",
   "execution_count": 115,
   "metadata": {},
   "outputs": [
    {
     "name": "stdout",
     "output_type": "stream",
     "text": [
      "              precision    recall  f1-score   support\n",
      "\n",
      "           0       0.46      0.74      0.57       148\n",
      "           1       0.46      0.20      0.28       160\n",
      "\n",
      "    accuracy                           0.46       308\n",
      "   macro avg       0.46      0.47      0.42       308\n",
      "weighted avg       0.46      0.46      0.42       308\n",
      "\n"
     ]
    }
   ],
   "source": [
    "# Classification Report\n",
    "print(classification_report(y_test, y_pred))"
   ]
  },
  {
   "cell_type": "code",
   "execution_count": 117,
   "metadata": {},
   "outputs": [
    {
     "name": "stderr",
     "output_type": "stream",
     "text": [
      "*c* argument looks like a single numeric RGB or RGBA sequence, which should be avoided as value-mapping will have precedence in case its length matches with *x* & *y*.  Please use the *color* keyword-argument or provide a 2D array with a single row if you intend to specify the same RGB or RGBA value for all points.\n",
      "*c* argument looks like a single numeric RGB or RGBA sequence, which should be avoided as value-mapping will have precedence in case its length matches with *x* & *y*.  Please use the *color* keyword-argument or provide a 2D array with a single row if you intend to specify the same RGB or RGBA value for all points.\n"
     ]
    },
    {
     "data": {
      "image/png": "[encoded data removed]",
      "text/plain": [
       "<Figure size 800x550 with 1 Axes>"
      ]
     },
     "metadata": {},
     "output_type": "display_data"
    }
   ],
   "source": [
    "from matplotlib.colors import ListedColormap\n",
    "X_set, y_set = X_test, y_test\n",
    "X1, X2 = np.meshgrid(np.arange(start = X_set[:, 0].min() - 1, stop = X_set[:, 0].max() + 1, step = 0.01),\n",
    "                     np.arange(start = X_set[:, 1].min() - 1, stop = X_set[:, 1].max() + 1, step = 0.01))\n",
    "plt.contourf(X1, X2, classifier.predict(np.array([X1.ravel(), X2.ravel()]).T).reshape(X1.shape),\n",
    "             alpha = 0.75, cmap = ListedColormap(('red', 'green')))\n",
    "plt.xlim(X1.min(), X1.max())\n",
    "plt.ylim(X2.min(), X2.max())\n",
    "for i, j in enumerate(np.unique(y_set)):\n",
    "    plt.scatter(X_set[y_set == j, 0], X_set[y_set == j, 1],\n",
    "                c = ListedColormap(('red', 'green'))(i), label = j)\n",
    "plt.title('SVM (Test set)')\n",
    "plt.xlabel('open - close')\n",
    "plt.ylabel('high - low')\n",
    "plt.legend()\n",
    "plt.show()"
   ]
  },
  {
   "attachments": {},
   "cell_type": "markdown",
   "metadata": {},
   "source": [
    "#### GridSearch"
   ]
  },
  {
   "cell_type": "code",
   "execution_count": 191,
   "metadata": {},
   "outputs": [
    {
     "data": {
      "text/plain": [
       "{'C': 1.0,\n",
       " 'break_ties': False,\n",
       " 'cache_size': 200,\n",
       " 'class_weight': None,\n",
       " 'coef0': 0.0,\n",
       " 'decision_function_shape': 'ovr',\n",
       " 'degree': 3,\n",
       " 'gamma': 'scale',\n",
       " 'kernel': 'rbf',\n",
       " 'max_iter': -1,\n",
       " 'probability': False,\n",
       " 'random_state': 0,\n",
       " 'shrinking': True,\n",
       " 'tol': 0.001,\n",
       " 'verbose': False}"
      ]
     },
     "execution_count": 191,
     "metadata": {},
     "output_type": "execute_result"
    }
   ],
   "source": [
    "model.get_params()"
   ]
  },
  {
   "cell_type": "code",
   "execution_count": null,
   "metadata": {},
   "outputs": [],
   "source": []
  },
  {
   "cell_type": "code",
   "execution_count": 200,
   "metadata": {},
   "outputs": [
    {
     "name": "stdout",
     "output_type": "stream",
     "text": [
      "Fitting 5 folds for each of 9801 candidates, totalling 49005 fits\n"
     ]
    },
    {
     "data": {
      "text/html": [
       "<style>#sk-container-id-8 {color: black;background-color: white;}#sk-container-id-8 pre{padding: 0;}#sk-container-id-8 div.sk-toggleable {background-color: white;}#sk-container-id-8 label.sk-toggleable__label {cursor: pointer;display: block;width: 100%;margin-bottom: 0;padding: 0.3em;box-sizing: border-box;text-align: center;}#sk-container-id-8 label.sk-toggleable__label-arrow:before {content: \"▸\";float: left;margin-right: 0.25em;color: #696969;}#sk-container-id-8 label.sk-toggleable__label-arrow:hover:before {color: black;}#sk-container-id-8 div.sk-estimator:hover label.sk-toggleable__label-arrow:before {color: black;}#sk-container-id-8 div.sk-toggleable__content {max-height: 0;max-width: 0;overflow: hidden;text-align: left;background-color: #f0f8ff;}#sk-container-id-8 div.sk-toggleable__content pre {margin: 0.2em;color: black;border-radius: 0.25em;background-color: #f0f8ff;}#sk-container-id-8 input.sk-toggleable__control:checked~div.sk-toggleable__content {max-height: 200px;max-width: 100%;overflow: auto;}#sk-container-id-8 input.sk-toggleable__control:checked~label.sk-toggleable__label-arrow:before {content: \"▾\";}#sk-container-id-8 div.sk-estimator input.sk-toggleable__control:checked~label.sk-toggleable__label {background-color: #d4ebff;}#sk-container-id-8 div.sk-label input.sk-toggleable__control:checked~label.sk-toggleable__label {background-color: #d4ebff;}#sk-container-id-8 input.sk-hidden--visually {border: 0;clip: rect(1px 1px 1px 1px);clip: rect(1px, 1px, 1px, 1px);height: 1px;margin: -1px;overflow: hidden;padding: 0;position: absolute;width: 1px;}#sk-container-id-8 div.sk-estimator {font-family: monospace;background-color: #f0f8ff;border: 1px dotted black;border-radius: 0.25em;box-sizing: border-box;margin-bottom: 0.5em;}#sk-container-id-8 div.sk-estimator:hover {background-color: #d4ebff;}#sk-container-id-8 div.sk-parallel-item::after {content: \"\";width: 100%;border-bottom: 1px solid gray;flex-grow: 1;}#sk-container-id-8 div.sk-label:hover label.sk-toggleable__label {background-color: #d4ebff;}#sk-container-id-8 div.sk-serial::before {content: \"\";position: absolute;border-left: 1px solid gray;box-sizing: border-box;top: 0;bottom: 0;left: 50%;z-index: 0;}#sk-container-id-8 div.sk-serial {display: flex;flex-direction: column;align-items: center;background-color: white;padding-right: 0.2em;padding-left: 0.2em;position: relative;}#sk-container-id-8 div.sk-item {position: relative;z-index: 1;}#sk-container-id-8 div.sk-parallel {display: flex;align-items: stretch;justify-content: center;background-color: white;position: relative;}#sk-container-id-8 div.sk-item::before, #sk-container-id-8 div.sk-parallel-item::before {content: \"\";position: absolute;border-left: 1px solid gray;box-sizing: border-box;top: 0;bottom: 0;left: 50%;z-index: -1;}#sk-container-id-8 div.sk-parallel-item {display: flex;flex-direction: column;z-index: 1;position: relative;background-color: white;}#sk-container-id-8 div.sk-parallel-item:first-child::after {align-self: flex-end;width: 50%;}#sk-container-id-8 div.sk-parallel-item:last-child::after {align-self: flex-start;width: 50%;}#sk-container-id-8 div.sk-parallel-item:only-child::after {width: 0;}#sk-container-id-8 div.sk-dashed-wrapped {border: 1px dashed gray;margin: 0 0.4em 0.5em 0.4em;box-sizing: border-box;padding-bottom: 0.4em;background-color: white;}#sk-container-id-8 div.sk-label label {font-family: monospace;font-weight: bold;display: inline-block;line-height: 1.2em;}#sk-container-id-8 div.sk-label-container {text-align: center;}#sk-container-id-8 div.sk-container {/* jupyter's `normalize.less` sets `[hidden] { display: none; }` but bootstrap.min.css set `[hidden] { display: none !important; }` so we also need the `!important` here to be able to override the default hidden behavior on the sphinx rendered scikit-learn.org. See: https://github.com/scikit-learn/scikit-learn/issues/21755 */display: inline-block !important;position: relative;}#sk-container-id-8 div.sk-text-repr-fallback {display: none;}</style><div id=\"sk-container-id-8\" class=\"sk-top-container\"><div class=\"sk-text-repr-fallback\"><pre>GridSearchCV(cv=TimeSeriesSplit(gap=1, max_train_size=None, n_splits=5, test_size=None),\n",
       "             estimator=SVC(random_state=0), n_jobs=-1,\n",
       "             param_grid={&#x27;C&#x27;: array([ 0.2,  1.2,  2.2,  3.2,  4.2,  5.2,  6.2,  7.2,  8.2,  9.2, 10.2,\n",
       "       11.2, 12.2, 13.2, 14.2, 15.2, 16.2, 17.2, 18.2, 19.2, 20.2, 21.2,\n",
       "       22.2, 23.2, 24.2, 25.2, 26.2, 27.2, 28.2, 29.2, 30.2, 31.2, 32.2,\n",
       "       33.2, 34.2, 35.2, 36.2, 37.2, 38.2, 39.2, 40.2, 41.2, 42...\n",
       "       7.00002e+01, 7.10002e+01, 7.20002e+01, 7.30002e+01, 7.40002e+01,\n",
       "       7.50002e+01, 7.60002e+01, 7.70002e+01, 7.80002e+01, 7.90002e+01,\n",
       "       8.00002e+01, 8.10002e+01, 8.20002e+01, 8.30002e+01, 8.40002e+01,\n",
       "       8.50002e+01, 8.60002e+01, 8.70002e+01, 8.80002e+01, 8.90002e+01,\n",
       "       9.00002e+01, 9.10002e+01, 9.20002e+01, 9.30002e+01, 9.40002e+01,\n",
       "       9.50002e+01, 9.60002e+01, 9.70002e+01, 9.80002e+01])},\n",
       "             scoring=&#x27;roc_auc&#x27;, verbose=1)</pre><b>In a Jupyter environment, please rerun this cell to show the HTML representation or trust the notebook. <br />On GitHub, the HTML representation is unable to render, please try loading this page with nbviewer.org.</b></div><div class=\"sk-container\" hidden><div class=\"sk-item sk-dashed-wrapped\"><div class=\"sk-label-container\"><div class=\"sk-label sk-toggleable\"><input class=\"sk-toggleable__control sk-hidden--visually\" id=\"sk-estimator-id-8\" type=\"checkbox\" ><label for=\"sk-estimator-id-8\" class=\"sk-toggleable__label sk-toggleable__label-arrow\">GridSearchCV</label><div class=\"sk-toggleable__content\"><pre>GridSearchCV(cv=TimeSeriesSplit(gap=1, max_train_size=None, n_splits=5, test_size=None),\n",
       "             estimator=SVC(random_state=0), n_jobs=-1,\n",
       "             param_grid={&#x27;C&#x27;: array([ 0.2,  1.2,  2.2,  3.2,  4.2,  5.2,  6.2,  7.2,  8.2,  9.2, 10.2,\n",
       "       11.2, 12.2, 13.2, 14.2, 15.2, 16.2, 17.2, 18.2, 19.2, 20.2, 21.2,\n",
       "       22.2, 23.2, 24.2, 25.2, 26.2, 27.2, 28.2, 29.2, 30.2, 31.2, 32.2,\n",
       "       33.2, 34.2, 35.2, 36.2, 37.2, 38.2, 39.2, 40.2, 41.2, 42...\n",
       "       7.00002e+01, 7.10002e+01, 7.20002e+01, 7.30002e+01, 7.40002e+01,\n",
       "       7.50002e+01, 7.60002e+01, 7.70002e+01, 7.80002e+01, 7.90002e+01,\n",
       "       8.00002e+01, 8.10002e+01, 8.20002e+01, 8.30002e+01, 8.40002e+01,\n",
       "       8.50002e+01, 8.60002e+01, 8.70002e+01, 8.80002e+01, 8.90002e+01,\n",
       "       9.00002e+01, 9.10002e+01, 9.20002e+01, 9.30002e+01, 9.40002e+01,\n",
       "       9.50002e+01, 9.60002e+01, 9.70002e+01, 9.80002e+01])},\n",
       "             scoring=&#x27;roc_auc&#x27;, verbose=1)</pre></div></div></div><div class=\"sk-parallel\"><div class=\"sk-parallel-item\"><div class=\"sk-item\"><div class=\"sk-label-container\"><div class=\"sk-label sk-toggleable\"><input class=\"sk-toggleable__control sk-hidden--visually\" id=\"sk-estimator-id-9\" type=\"checkbox\" ><label for=\"sk-estimator-id-9\" class=\"sk-toggleable__label sk-toggleable__label-arrow\">estimator: SVC</label><div class=\"sk-toggleable__content\"><pre>SVC(random_state=0)</pre></div></div></div><div class=\"sk-serial\"><div class=\"sk-item\"><div class=\"sk-estimator sk-toggleable\"><input class=\"sk-toggleable__control sk-hidden--visually\" id=\"sk-estimator-id-10\" type=\"checkbox\" ><label for=\"sk-estimator-id-10\" class=\"sk-toggleable__label sk-toggleable__label-arrow\">SVC</label><div class=\"sk-toggleable__content\"><pre>SVC(random_state=0)</pre></div></div></div></div></div></div></div></div></div></div>"
      ],
      "text/plain": [
       "GridSearchCV(cv=TimeSeriesSplit(gap=1, max_train_size=None, n_splits=5, test_size=None),\n",
       "             estimator=SVC(random_state=0), n_jobs=-1,\n",
       "             param_grid={'C': array([ 0.2,  1.2,  2.2,  3.2,  4.2,  5.2,  6.2,  7.2,  8.2,  9.2, 10.2,\n",
       "       11.2, 12.2, 13.2, 14.2, 15.2, 16.2, 17.2, 18.2, 19.2, 20.2, 21.2,\n",
       "       22.2, 23.2, 24.2, 25.2, 26.2, 27.2, 28.2, 29.2, 30.2, 31.2, 32.2,\n",
       "       33.2, 34.2, 35.2, 36.2, 37.2, 38.2, 39.2, 40.2, 41.2, 42...\n",
       "       7.00002e+01, 7.10002e+01, 7.20002e+01, 7.30002e+01, 7.40002e+01,\n",
       "       7.50002e+01, 7.60002e+01, 7.70002e+01, 7.80002e+01, 7.90002e+01,\n",
       "       8.00002e+01, 8.10002e+01, 8.20002e+01, 8.30002e+01, 8.40002e+01,\n",
       "       8.50002e+01, 8.60002e+01, 8.70002e+01, 8.80002e+01, 8.90002e+01,\n",
       "       9.00002e+01, 9.10002e+01, 9.20002e+01, 9.30002e+01, 9.40002e+01,\n",
       "       9.50002e+01, 9.60002e+01, 9.70002e+01, 9.80002e+01])},\n",
       "             scoring='roc_auc', verbose=1)"
      ]
     },
     "execution_count": 200,
     "metadata": {},
     "output_type": "execute_result"
    }
   ],
   "source": [
    "param_grid = {'gamma':np.arange(0.0002,99), 'C': np.arange(0.2,99)}\n",
    "tscv = TimeSeriesSplit(n_splits=3, gap=1)\n",
    "grid_search = GridSearchCV(model, param_grid, scoring='roc_auc', n_jobs=-1, cv=tscv, verbose=1)\n",
    "grid_search.fit(X_train, y_train)"
   ]
  },
  {
   "attachments": {},
   "cell_type": "markdown",
   "metadata": {},
   "source": [
    "#### Tunned model"
   ]
  },
  {
   "cell_type": "code",
   "execution_count": 203,
   "metadata": {},
   "outputs": [
    {
     "data": {
      "text/html": [
       "<style>#sk-container-id-9 {color: black;background-color: white;}#sk-container-id-9 pre{padding: 0;}#sk-container-id-9 div.sk-toggleable {background-color: white;}#sk-container-id-9 label.sk-toggleable__label {cursor: pointer;display: block;width: 100%;margin-bottom: 0;padding: 0.3em;box-sizing: border-box;text-align: center;}#sk-container-id-9 label.sk-toggleable__label-arrow:before {content: \"▸\";float: left;margin-right: 0.25em;color: #696969;}#sk-container-id-9 label.sk-toggleable__label-arrow:hover:before {color: black;}#sk-container-id-9 div.sk-estimator:hover label.sk-toggleable__label-arrow:before {color: black;}#sk-container-id-9 div.sk-toggleable__content {max-height: 0;max-width: 0;overflow: hidden;text-align: left;background-color: #f0f8ff;}#sk-container-id-9 div.sk-toggleable__content pre {margin: 0.2em;color: black;border-radius: 0.25em;background-color: #f0f8ff;}#sk-container-id-9 input.sk-toggleable__control:checked~div.sk-toggleable__content {max-height: 200px;max-width: 100%;overflow: auto;}#sk-container-id-9 input.sk-toggleable__control:checked~label.sk-toggleable__label-arrow:before {content: \"▾\";}#sk-container-id-9 div.sk-estimator input.sk-toggleable__control:checked~label.sk-toggleable__label {background-color: #d4ebff;}#sk-container-id-9 div.sk-label input.sk-toggleable__control:checked~label.sk-toggleable__label {background-color: #d4ebff;}#sk-container-id-9 input.sk-hidden--visually {border: 0;clip: rect(1px 1px 1px 1px);clip: rect(1px, 1px, 1px, 1px);height: 1px;margin: -1px;overflow: hidden;padding: 0;position: absolute;width: 1px;}#sk-container-id-9 div.sk-estimator {font-family: monospace;background-color: #f0f8ff;border: 1px dotted black;border-radius: 0.25em;box-sizing: border-box;margin-bottom: 0.5em;}#sk-container-id-9 div.sk-estimator:hover {background-color: #d4ebff;}#sk-container-id-9 div.sk-parallel-item::after {content: \"\";width: 100%;border-bottom: 1px solid gray;flex-grow: 1;}#sk-container-id-9 div.sk-label:hover label.sk-toggleable__label {background-color: #d4ebff;}#sk-container-id-9 div.sk-serial::before {content: \"\";position: absolute;border-left: 1px solid gray;box-sizing: border-box;top: 0;bottom: 0;left: 50%;z-index: 0;}#sk-container-id-9 div.sk-serial {display: flex;flex-direction: column;align-items: center;background-color: white;padding-right: 0.2em;padding-left: 0.2em;position: relative;}#sk-container-id-9 div.sk-item {position: relative;z-index: 1;}#sk-container-id-9 div.sk-parallel {display: flex;align-items: stretch;justify-content: center;background-color: white;position: relative;}#sk-container-id-9 div.sk-item::before, #sk-container-id-9 div.sk-parallel-item::before {content: \"\";position: absolute;border-left: 1px solid gray;box-sizing: border-box;top: 0;bottom: 0;left: 50%;z-index: -1;}#sk-container-id-9 div.sk-parallel-item {display: flex;flex-direction: column;z-index: 1;position: relative;background-color: white;}#sk-container-id-9 div.sk-parallel-item:first-child::after {align-self: flex-end;width: 50%;}#sk-container-id-9 div.sk-parallel-item:last-child::after {align-self: flex-start;width: 50%;}#sk-container-id-9 div.sk-parallel-item:only-child::after {width: 0;}#sk-container-id-9 div.sk-dashed-wrapped {border: 1px dashed gray;margin: 0 0.4em 0.5em 0.4em;box-sizing: border-box;padding-bottom: 0.4em;background-color: white;}#sk-container-id-9 div.sk-label label {font-family: monospace;font-weight: bold;display: inline-block;line-height: 1.2em;}#sk-container-id-9 div.sk-label-container {text-align: center;}#sk-container-id-9 div.sk-container {/* jupyter's `normalize.less` sets `[hidden] { display: none; }` but bootstrap.min.css set `[hidden] { display: none !important; }` so we also need the `!important` here to be able to override the default hidden behavior on the sphinx rendered scikit-learn.org. See: https://github.com/scikit-learn/scikit-learn/issues/21755 */display: inline-block !important;position: relative;}#sk-container-id-9 div.sk-text-repr-fallback {display: none;}</style><div id=\"sk-container-id-9\" class=\"sk-top-container\"><div class=\"sk-text-repr-fallback\"><pre>SVC(C=0.2, gamma=1.0002, random_state=0)</pre><b>In a Jupyter environment, please rerun this cell to show the HTML representation or trust the notebook. <br />On GitHub, the HTML representation is unable to render, please try loading this page with nbviewer.org.</b></div><div class=\"sk-container\" hidden><div class=\"sk-item\"><div class=\"sk-estimator sk-toggleable\"><input class=\"sk-toggleable__control sk-hidden--visually\" id=\"sk-estimator-id-11\" type=\"checkbox\" checked><label for=\"sk-estimator-id-11\" class=\"sk-toggleable__label sk-toggleable__label-arrow\">SVC</label><div class=\"sk-toggleable__content\"><pre>SVC(C=0.2, gamma=1.0002, random_state=0)</pre></div></div></div></div></div>"
      ],
      "text/plain": [
       "SVC(C=0.2, gamma=1.0002, random_state=0)"
      ]
     },
     "execution_count": 203,
     "metadata": {},
     "output_type": "execute_result"
    }
   ],
   "source": [
    "model = SVC(kernel = 'rbf', random_state=0, gamma=grid_search.best_params_['gamma'], C=grid_search.best_params_['C'])\n",
    "model.fit(X_train, y_train)"
   ]
  },
  {
   "cell_type": "code",
   "execution_count": 204,
   "metadata": {},
   "outputs": [],
   "source": [
    "y_pred = model.predict(X_test)"
   ]
  },
  {
   "cell_type": "code",
   "execution_count": 205,
   "metadata": {},
   "outputs": [
    {
     "data": {
      "image/png": "[encoded data removed]",
      "text/plain": [
       "<Figure size 800x550 with 2 Axes>"
      ]
     },
     "metadata": {},
     "output_type": "display_data"
    }
   ],
   "source": [
    "# Display confussion matrix\n",
    "disp = ConfusionMatrixDisplay.from_estimator(\n",
    "        model,\n",
    "        X_test,\n",
    "        y_test,\n",
    "        display_labels=model.classes_,\n",
    "        cmap=plt.cm.Blues\n",
    "    )\n",
    "disp.ax_.set_title('Confusion matrix')\n",
    "plt.show()"
   ]
  },
  {
   "cell_type": "code",
   "execution_count": 206,
   "metadata": {},
   "outputs": [
    {
     "data": {
      "text/plain": [
       "0.487012987012987"
      ]
     },
     "execution_count": 206,
     "metadata": {},
     "output_type": "execute_result"
    }
   ],
   "source": [
    "accuracy_score(y_test, y_pred)"
   ]
  },
  {
   "cell_type": "code",
   "execution_count": 207,
   "metadata": {},
   "outputs": [
    {
     "name": "stdout",
     "output_type": "stream",
     "text": [
      "              precision    recall  f1-score   support\n",
      "\n",
      "           0       0.48      0.99      0.65       148\n",
      "           1       0.67      0.03      0.05       160\n",
      "\n",
      "    accuracy                           0.49       308\n",
      "   macro avg       0.58      0.51      0.35       308\n",
      "weighted avg       0.58      0.49      0.34       308\n",
      "\n"
     ]
    }
   ],
   "source": [
    "# Classification Report\n",
    "print(classification_report(y_test, y_pred))"
   ]
  }
 ],
 "metadata": {
  "kernelspec": {
   "display_name": "eqderivs",
   "language": "python",
   "name": "python3"
  },
  "language_info": {
   "codemirror_mode": {
    "name": "ipython",
    "version": 3
   },
   "file_extension": ".py",
   "mimetype": "text/x-python",
   "name": "python",
   "nbconvert_exporter": "python",
   "pygments_lexer": "ipython3",
   "version": "3.10.6"
  },
  "orig_nbformat": 4
 },
 "nbformat": 4,
 "nbformat_minor": 2
}
