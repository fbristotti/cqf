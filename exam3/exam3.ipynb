{
 "cells": [
  {
   "attachments": {},
   "cell_type": "markdown",
   "metadata": {},
   "source": [
    "# CQF - Exam 3"
   ]
  },
  {
   "attachments": {},
   "cell_type": "markdown",
   "metadata": {},
   "source": [
    "### Imports"
   ]
  },
  {
   "cell_type": "code",
   "execution_count": 7,
   "metadata": {},
   "outputs": [],
   "source": [
    "import pandas as pd\n",
    "import numpy as np\n",
    "\n",
    "# Visualization\n",
    "import seaborn as sns\n",
    "import matplotlib.pyplot as plt\n",
    "#plt.style.use('seaborn')\n",
    "\n",
    "\n",
    "from sklearn.preprocessing import StandardScaler\n",
    "from sklearn.model_selection import train_test_split, GridSearchCV, TimeSeriesSplit\n",
    "from sklearn.svm import SVC\n",
    "from sklearn.metrics import confusion_matrix, accuracy_score, ConfusionMatrixDisplay, classification_report, RocCurveDisplay"
   ]
  },
  {
   "attachments": {},
   "cell_type": "markdown",
   "metadata": {},
   "source": [
    "## A. Maths and Feature Engineering"
   ]
  },
  {
   "attachments": {},
   "cell_type": "markdown",
   "metadata": {},
   "source": [
    "### 1. Consider MSE($\\beta$) wrt to the true value $\\beta$ in context of regression methods,\n",
    "\n",
    "$$\n",
    "E\\left[(\\hat{\\beta} - \\beta)^2\\right] = Var[\\hat{\\beta}] + \\left( E[\\hat{\\beta}] - \\beta \\right)^2\n",
    "$$"
   ]
  },
  {
   "attachments": {},
   "cell_type": "markdown",
   "metadata": {},
   "source": [
    "(a) can there exist an estimator with the smaller MSE than minimal least squares?"
   ]
  },
  {
   "attachments": {},
   "cell_type": "markdown",
   "metadata": {},
   "source": [
    "<font color='blue'>\n",
    "\n",
    "The answer is: Yes, may exist a biased estimator with smaller MSE. In this case the estimator would increase a little the bias, $\\left( E[\\hat{\\beta}] - \\beta \\right)^2$ with a larger decrease in variance term $Var[\\hat{\\beta}]$.\n",
    "\n",
    "It is important to note that least square has the smallest mean squared error of all linear estimators **unbiased**.\n",
    "\n",
    "\n",
    "</font>"
   ]
  },
  {
   "attachments": {},
   "cell_type": "markdown",
   "metadata": {},
   "source": [
    "(b) for a prediction, does the MSE measure an irreducible error or model error?"
   ]
  },
  {
   "attachments": {},
   "cell_type": "markdown",
   "metadata": {},
   "source": [
    "<font color='blue'>\n",
    "\n",
    "The MSE measures the model error, thus the quality of a predictor and is computed as:\n",
    "\n",
    "$$\n",
    "MSE = \\frac{1}{n} \\sum^{n}_{i=1} \\left( Y_i - \\hat{Y_i} \\right)\n",
    "$$\n",
    "\n",
    "where $\\hat{Y_i}$ is the predicted values by the model.\n",
    "\n",
    "</font>"
   ]
  },
  {
   "attachments": {},
   "cell_type": "markdown",
   "metadata": {},
   "source": [
    "### 2. What does entropy say about the partitions in a classification problem?"
   ]
  },
  {
   "attachments": {},
   "cell_type": "markdown",
   "metadata": {},
   "source": [
    "(a) high entropy means the partitions are pure"
   ]
  },
  {
   "attachments": {},
   "cell_type": "markdown",
   "metadata": {},
   "source": [
    "(b) high entropy means the partitions are not pure"
   ]
  },
  {
   "attachments": {},
   "cell_type": "markdown",
   "metadata": {},
   "source": [
    "<font color='blue'>\n",
    "\n",
    "Answer: (b) Not pure\n",
    "\n",
    "Entropy is a measure of the randomness in the information being processed. The higher the entropy, the harder it is to draw any conclusions from that information.\n",
    "It is a measure of disorder or purity or unpredictability or uncertainty.\n",
    "Low entropy means less uncertain and high entropy means more uncertain.\n",
    "\n",
    "</font>"
   ]
  },
  {
   "attachments": {},
   "cell_type": "markdown",
   "metadata": {},
   "source": [
    "### 3. Perform subset selection using any of all of a) filter, b) wrapper and, c) embedded methods"
   ]
  },
  {
   "attachments": {},
   "cell_type": "markdown",
   "metadata": {},
   "source": [
    "#### Load dataset"
   ]
  },
  {
   "attachments": {},
   "cell_type": "markdown",
   "metadata": {},
   "source": [
    "Let´s load open, high, low, close prices (dividend adjusted) for PETR4 BZ Equity"
   ]
  },
  {
   "cell_type": "code",
   "execution_count": 8,
   "metadata": {},
   "outputs": [
    {
     "name": "stderr",
     "output_type": "stream",
     "text": [
      "C:\\Users\\fbris\\AppData\\Local\\Temp\\ipykernel_7448\\2136510044.py:1: UserWarning: Could not infer format, so each element will be parsed individually, falling back to `dateutil`. To ensure parsing is consistent and as-expected, please specify a format.\n",
      "  df = pd.read_csv('data.csv', index_col='date', parse_dates=['date'])\n"
     ]
    }
   ],
   "source": [
    "df = pd.read_csv('data.csv', index_col='date', parse_dates=['date'])"
   ]
  },
  {
   "attachments": {},
   "cell_type": "markdown",
   "metadata": {},
   "source": [
    "#### Describe dataset"
   ]
  },
  {
   "cell_type": "code",
   "execution_count": 9,
   "metadata": {},
   "outputs": [
    {
     "data": {
      "text/html": [
       "<div>\n",
       "<style scoped>\n",
       "    .dataframe tbody tr th:only-of-type {\n",
       "        vertical-align: middle;\n",
       "    }\n",
       "\n",
       "    .dataframe tbody tr th {\n",
       "        vertical-align: top;\n",
       "    }\n",
       "\n",
       "    .dataframe thead th {\n",
       "        text-align: right;\n",
       "    }\n",
       "</style>\n",
       "<table border=\"1\" class=\"dataframe\">\n",
       "  <thead>\n",
       "    <tr style=\"text-align: right;\">\n",
       "      <th></th>\n",
       "      <th>open</th>\n",
       "      <th>high</th>\n",
       "      <th>low</th>\n",
       "      <th>close</th>\n",
       "    </tr>\n",
       "  </thead>\n",
       "  <tbody>\n",
       "    <tr>\n",
       "      <th>count</th>\n",
       "      <td>1240.000000</td>\n",
       "      <td>1240.000000</td>\n",
       "      <td>1240.000000</td>\n",
       "      <td>1240.000000</td>\n",
       "    </tr>\n",
       "    <tr>\n",
       "      <th>mean</th>\n",
       "      <td>13.421986</td>\n",
       "      <td>13.636153</td>\n",
       "      <td>13.196804</td>\n",
       "      <td>13.414884</td>\n",
       "    </tr>\n",
       "    <tr>\n",
       "      <th>std</th>\n",
       "      <td>5.237729</td>\n",
       "      <td>5.339208</td>\n",
       "      <td>5.150517</td>\n",
       "      <td>5.252697</td>\n",
       "    </tr>\n",
       "    <tr>\n",
       "      <th>min</th>\n",
       "      <td>4.707236</td>\n",
       "      <td>5.179236</td>\n",
       "      <td>4.613687</td>\n",
       "      <td>4.800786</td>\n",
       "    </tr>\n",
       "    <tr>\n",
       "      <th>25%</th>\n",
       "      <td>9.945838</td>\n",
       "      <td>10.127989</td>\n",
       "      <td>9.820758</td>\n",
       "      <td>9.973879</td>\n",
       "    </tr>\n",
       "    <tr>\n",
       "      <th>50%</th>\n",
       "      <td>11.684253</td>\n",
       "      <td>11.839912</td>\n",
       "      <td>11.536278</td>\n",
       "      <td>11.706667</td>\n",
       "    </tr>\n",
       "    <tr>\n",
       "      <th>75%</th>\n",
       "      <td>16.924746</td>\n",
       "      <td>17.212493</td>\n",
       "      <td>16.624367</td>\n",
       "      <td>16.926054</td>\n",
       "    </tr>\n",
       "    <tr>\n",
       "      <th>max</th>\n",
       "      <td>28.526247</td>\n",
       "      <td>30.003359</td>\n",
       "      <td>28.440277</td>\n",
       "      <td>29.479727</td>\n",
       "    </tr>\n",
       "  </tbody>\n",
       "</table>\n",
       "</div>"
      ],
      "text/plain": [
       "              open         high          low        close\n",
       "count  1240.000000  1240.000000  1240.000000  1240.000000\n",
       "mean     13.421986    13.636153    13.196804    13.414884\n",
       "std       5.237729     5.339208     5.150517     5.252697\n",
       "min       4.707236     5.179236     4.613687     4.800786\n",
       "25%       9.945838    10.127989     9.820758     9.973879\n",
       "50%      11.684253    11.839912    11.536278    11.706667\n",
       "75%      16.924746    17.212493    16.624367    16.926054\n",
       "max      28.526247    30.003359    28.440277    29.479727"
      ]
     },
     "execution_count": 9,
     "metadata": {},
     "output_type": "execute_result"
    }
   ],
   "source": [
    "df.describe()"
   ]
  },
  {
   "cell_type": "code",
   "execution_count": 10,
   "metadata": {},
   "outputs": [
    {
     "data": {
      "text/html": [
       "<div>\n",
       "<style scoped>\n",
       "    .dataframe tbody tr th:only-of-type {\n",
       "        vertical-align: middle;\n",
       "    }\n",
       "\n",
       "    .dataframe tbody tr th {\n",
       "        vertical-align: top;\n",
       "    }\n",
       "\n",
       "    .dataframe thead th {\n",
       "        text-align: right;\n",
       "    }\n",
       "</style>\n",
       "<table border=\"1\" class=\"dataframe\">\n",
       "  <thead>\n",
       "    <tr style=\"text-align: right;\">\n",
       "      <th></th>\n",
       "      <th>open</th>\n",
       "      <th>high</th>\n",
       "      <th>low</th>\n",
       "      <th>close</th>\n",
       "    </tr>\n",
       "    <tr>\n",
       "      <th>date</th>\n",
       "      <th></th>\n",
       "      <th></th>\n",
       "      <th></th>\n",
       "      <th></th>\n",
       "    </tr>\n",
       "  </thead>\n",
       "  <tbody>\n",
       "    <tr>\n",
       "      <th>2018-05-21</th>\n",
       "      <td>10.296750</td>\n",
       "      <td>10.371707</td>\n",
       "      <td>9.839116</td>\n",
       "      <td>9.882513</td>\n",
       "    </tr>\n",
       "    <tr>\n",
       "      <th>2018-05-22</th>\n",
       "      <td>9.807405</td>\n",
       "      <td>9.997150</td>\n",
       "      <td>9.546507</td>\n",
       "      <td>9.767875</td>\n",
       "    </tr>\n",
       "    <tr>\n",
       "      <th>2018-05-23</th>\n",
       "      <td>9.578131</td>\n",
       "      <td>9.676956</td>\n",
       "      <td>9.198643</td>\n",
       "      <td>9.198643</td>\n",
       "    </tr>\n",
       "    <tr>\n",
       "      <th>2018-05-24</th>\n",
       "      <td>7.925775</td>\n",
       "      <td>8.202485</td>\n",
       "      <td>7.767655</td>\n",
       "      <td>7.937634</td>\n",
       "    </tr>\n",
       "    <tr>\n",
       "      <th>2018-05-25</th>\n",
       "      <td>8.162955</td>\n",
       "      <td>8.408042</td>\n",
       "      <td>7.771608</td>\n",
       "      <td>7.826950</td>\n",
       "    </tr>\n",
       "  </tbody>\n",
       "</table>\n",
       "</div>"
      ],
      "text/plain": [
       "                 open       high       low     close\n",
       "date                                                \n",
       "2018-05-21  10.296750  10.371707  9.839116  9.882513\n",
       "2018-05-22   9.807405   9.997150  9.546507  9.767875\n",
       "2018-05-23   9.578131   9.676956  9.198643  9.198643\n",
       "2018-05-24   7.925775   8.202485  7.767655  7.937634\n",
       "2018-05-25   8.162955   8.408042  7.771608  7.826950"
      ]
     },
     "execution_count": 10,
     "metadata": {},
     "output_type": "execute_result"
    }
   ],
   "source": [
    "df.head()"
   ]
  },
  {
   "attachments": {},
   "cell_type": "markdown",
   "metadata": {},
   "source": [
    "#### Cleaning & Imputation"
   ]
  },
  {
   "attachments": {},
   "cell_type": "markdown",
   "metadata": {},
   "source": [
    "Check if data is already cleaned, if so no further manipulation required"
   ]
  },
  {
   "cell_type": "code",
   "execution_count": 11,
   "metadata": {},
   "outputs": [
    {
     "data": {
      "text/plain": [
       "open     0\n",
       "high     0\n",
       "low      0\n",
       "close    0\n",
       "dtype: int64"
      ]
     },
     "execution_count": 11,
     "metadata": {},
     "output_type": "execute_result"
    }
   ],
   "source": [
    "df.isnull().sum()"
   ]
  },
  {
   "attachments": {},
   "cell_type": "markdown",
   "metadata": {},
   "source": [
    "### Feature Specification"
   ]
  },
  {
   "cell_type": "code",
   "execution_count": 12,
   "metadata": {},
   "outputs": [],
   "source": [
    "#create features\n",
    "def create_features(df_orig):\n",
    "    df = df_orig.copy()\n",
    "    df['oc'] = df.open - df.close\n",
    "    df['hl'] = df.high - df.low\n",
    "    # returns\n",
    "    for i in [1,5]:\n",
    "        df[f'rt{i}'] = df.close / df.close.shift(i)\n",
    "    # momentums\n",
    "    for i in range(0,10):\n",
    "        df[f'm{i+1}'] = df.close - df.close.shift(i+1)\n",
    "    df['ma5'] = df.close.rolling(window=5).mean()\n",
    "    df['ma10'] = df.close.rolling(window=10).mean()\n",
    "    df['ewma'] = df.close.ewm(span=len(df.index),adjust=False).mean()\n",
    "    df.dropna(inplace=True)\n",
    "    return df\n"
   ]
  },
  {
   "attachments": {},
   "cell_type": "markdown",
   "metadata": {},
   "source": [
    "Let´s define the independent variables to be used in the evaluation"
   ]
  },
  {
   "cell_type": "code",
   "execution_count": 13,
   "metadata": {},
   "outputs": [
    {
     "data": {
      "text/html": [
       "<div>\n",
       "<style scoped>\n",
       "    .dataframe tbody tr th:only-of-type {\n",
       "        vertical-align: middle;\n",
       "    }\n",
       "\n",
       "    .dataframe tbody tr th {\n",
       "        vertical-align: top;\n",
       "    }\n",
       "\n",
       "    .dataframe thead th {\n",
       "        text-align: right;\n",
       "    }\n",
       "</style>\n",
       "<table border=\"1\" class=\"dataframe\">\n",
       "  <thead>\n",
       "    <tr style=\"text-align: right;\">\n",
       "      <th></th>\n",
       "      <th>open</th>\n",
       "      <th>high</th>\n",
       "      <th>low</th>\n",
       "      <th>close</th>\n",
       "      <th>oc</th>\n",
       "      <th>hl</th>\n",
       "      <th>rt1</th>\n",
       "      <th>rt5</th>\n",
       "      <th>m1</th>\n",
       "      <th>m2</th>\n",
       "      <th>...</th>\n",
       "      <th>m4</th>\n",
       "      <th>m5</th>\n",
       "      <th>m6</th>\n",
       "      <th>m7</th>\n",
       "      <th>m8</th>\n",
       "      <th>m9</th>\n",
       "      <th>m10</th>\n",
       "      <th>ma5</th>\n",
       "      <th>ma10</th>\n",
       "      <th>ewma</th>\n",
       "    </tr>\n",
       "    <tr>\n",
       "      <th>date</th>\n",
       "      <th></th>\n",
       "      <th></th>\n",
       "      <th></th>\n",
       "      <th></th>\n",
       "      <th></th>\n",
       "      <th></th>\n",
       "      <th></th>\n",
       "      <th></th>\n",
       "      <th></th>\n",
       "      <th></th>\n",
       "      <th></th>\n",
       "      <th></th>\n",
       "      <th></th>\n",
       "      <th></th>\n",
       "      <th></th>\n",
       "      <th></th>\n",
       "      <th></th>\n",
       "      <th></th>\n",
       "      <th></th>\n",
       "      <th></th>\n",
       "      <th></th>\n",
       "    </tr>\n",
       "  </thead>\n",
       "  <tbody>\n",
       "    <tr>\n",
       "      <th>2018-06-05</th>\n",
       "      <td>6.862417</td>\n",
       "      <td>7.036349</td>\n",
       "      <td>6.558035</td>\n",
       "      <td>6.558035</td>\n",
       "      <td>0.304381</td>\n",
       "      <td>0.478314</td>\n",
       "      <td>0.946378</td>\n",
       "      <td>0.981076</td>\n",
       "      <td>-0.371582</td>\n",
       "      <td>0.169979</td>\n",
       "      <td>...</td>\n",
       "      <td>-1.071264</td>\n",
       "      <td>-0.126496</td>\n",
       "      <td>-1.268915</td>\n",
       "      <td>-1.379599</td>\n",
       "      <td>-2.640607</td>\n",
       "      <td>-3.209840</td>\n",
       "      <td>-3.324477</td>\n",
       "      <td>7.001562</td>\n",
       "      <td>7.642345</td>\n",
       "      <td>9.846603</td>\n",
       "    </tr>\n",
       "    <tr>\n",
       "      <th>2018-06-06</th>\n",
       "      <td>6.510599</td>\n",
       "      <td>6.593612</td>\n",
       "      <td>6.273419</td>\n",
       "      <td>6.455257</td>\n",
       "      <td>0.055342</td>\n",
       "      <td>0.320193</td>\n",
       "      <td>0.984328</td>\n",
       "      <td>0.846114</td>\n",
       "      <td>-0.102778</td>\n",
       "      <td>-0.474361</td>\n",
       "      <td>...</td>\n",
       "      <td>-1.047546</td>\n",
       "      <td>-1.174042</td>\n",
       "      <td>-0.229274</td>\n",
       "      <td>-1.371693</td>\n",
       "      <td>-1.482377</td>\n",
       "      <td>-2.743385</td>\n",
       "      <td>-3.312618</td>\n",
       "      <td>6.766754</td>\n",
       "      <td>7.311083</td>\n",
       "      <td>9.841137</td>\n",
       "    </tr>\n",
       "    <tr>\n",
       "      <th>2018-06-07</th>\n",
       "      <td>6.324808</td>\n",
       "      <td>6.388056</td>\n",
       "      <td>5.901837</td>\n",
       "      <td>6.229936</td>\n",
       "      <td>0.094872</td>\n",
       "      <td>0.486220</td>\n",
       "      <td>0.965095</td>\n",
       "      <td>0.830348</td>\n",
       "      <td>-0.225321</td>\n",
       "      <td>-0.328099</td>\n",
       "      <td>...</td>\n",
       "      <td>-0.158120</td>\n",
       "      <td>-1.272868</td>\n",
       "      <td>-1.399364</td>\n",
       "      <td>-0.454596</td>\n",
       "      <td>-1.597014</td>\n",
       "      <td>-1.707698</td>\n",
       "      <td>-2.968707</td>\n",
       "      <td>6.512180</td>\n",
       "      <td>7.014212</td>\n",
       "      <td>9.835318</td>\n",
       "    </tr>\n",
       "    <tr>\n",
       "      <th>2018-06-08</th>\n",
       "      <td>6.249701</td>\n",
       "      <td>6.399915</td>\n",
       "      <td>5.953226</td>\n",
       "      <td>6.028333</td>\n",
       "      <td>0.221368</td>\n",
       "      <td>0.446690</td>\n",
       "      <td>0.967640</td>\n",
       "      <td>0.943688</td>\n",
       "      <td>-0.201603</td>\n",
       "      <td>-0.426925</td>\n",
       "      <td>...</td>\n",
       "      <td>-0.901285</td>\n",
       "      <td>-0.359723</td>\n",
       "      <td>-1.474471</td>\n",
       "      <td>-1.600967</td>\n",
       "      <td>-0.656199</td>\n",
       "      <td>-1.798617</td>\n",
       "      <td>-1.909301</td>\n",
       "      <td>6.440236</td>\n",
       "      <td>6.823282</td>\n",
       "      <td>9.829182</td>\n",
       "    </tr>\n",
       "    <tr>\n",
       "      <th>2018-06-11</th>\n",
       "      <td>6.127158</td>\n",
       "      <td>6.245748</td>\n",
       "      <td>5.980897</td>\n",
       "      <td>6.091581</td>\n",
       "      <td>0.035577</td>\n",
       "      <td>0.264851</td>\n",
       "      <td>1.010492</td>\n",
       "      <td>0.879064</td>\n",
       "      <td>0.063248</td>\n",
       "      <td>-0.138355</td>\n",
       "      <td>...</td>\n",
       "      <td>-0.466455</td>\n",
       "      <td>-0.838037</td>\n",
       "      <td>-0.296475</td>\n",
       "      <td>-1.411223</td>\n",
       "      <td>-1.537719</td>\n",
       "      <td>-0.592951</td>\n",
       "      <td>-1.735369</td>\n",
       "      <td>6.272628</td>\n",
       "      <td>6.649745</td>\n",
       "      <td>9.823159</td>\n",
       "    </tr>\n",
       "    <tr>\n",
       "      <th>...</th>\n",
       "      <td>...</td>\n",
       "      <td>...</td>\n",
       "      <td>...</td>\n",
       "      <td>...</td>\n",
       "      <td>...</td>\n",
       "      <td>...</td>\n",
       "      <td>...</td>\n",
       "      <td>...</td>\n",
       "      <td>...</td>\n",
       "      <td>...</td>\n",
       "      <td>...</td>\n",
       "      <td>...</td>\n",
       "      <td>...</td>\n",
       "      <td>...</td>\n",
       "      <td>...</td>\n",
       "      <td>...</td>\n",
       "      <td>...</td>\n",
       "      <td>...</td>\n",
       "      <td>...</td>\n",
       "      <td>...</td>\n",
       "      <td>...</td>\n",
       "    </tr>\n",
       "    <tr>\n",
       "      <th>2023-05-15</th>\n",
       "      <td>26.060000</td>\n",
       "      <td>26.150000</td>\n",
       "      <td>25.400000</td>\n",
       "      <td>25.660000</td>\n",
       "      <td>0.400000</td>\n",
       "      <td>0.750000</td>\n",
       "      <td>0.977524</td>\n",
       "      <td>1.046920</td>\n",
       "      <td>-0.590000</td>\n",
       "      <td>0.230000</td>\n",
       "      <td>...</td>\n",
       "      <td>1.070000</td>\n",
       "      <td>1.150000</td>\n",
       "      <td>1.660000</td>\n",
       "      <td>2.640000</td>\n",
       "      <td>3.000000</td>\n",
       "      <td>2.920000</td>\n",
       "      <td>1.960000</td>\n",
       "      <td>25.292000</td>\n",
       "      <td>24.339000</td>\n",
       "      <td>15.142142</td>\n",
       "    </tr>\n",
       "    <tr>\n",
       "      <th>2023-05-16</th>\n",
       "      <td>26.110000</td>\n",
       "      <td>27.030000</td>\n",
       "      <td>26.080000</td>\n",
       "      <td>26.300000</td>\n",
       "      <td>-0.190000</td>\n",
       "      <td>0.950000</td>\n",
       "      <td>1.024942</td>\n",
       "      <td>1.069540</td>\n",
       "      <td>0.640000</td>\n",
       "      <td>0.050000</td>\n",
       "      <td>...</td>\n",
       "      <td>1.770000</td>\n",
       "      <td>1.710000</td>\n",
       "      <td>1.790000</td>\n",
       "      <td>2.300000</td>\n",
       "      <td>3.280000</td>\n",
       "      <td>3.640000</td>\n",
       "      <td>3.560000</td>\n",
       "      <td>25.634000</td>\n",
       "      <td>24.695000</td>\n",
       "      <td>15.160124</td>\n",
       "    </tr>\n",
       "    <tr>\n",
       "      <th>2023-05-17</th>\n",
       "      <td>26.600000</td>\n",
       "      <td>26.760000</td>\n",
       "      <td>25.510000</td>\n",
       "      <td>25.660000</td>\n",
       "      <td>0.940000</td>\n",
       "      <td>1.250000</td>\n",
       "      <td>0.975665</td>\n",
       "      <td>1.046066</td>\n",
       "      <td>-0.640000</td>\n",
       "      <td>0.000000</td>\n",
       "      <td>...</td>\n",
       "      <td>0.230000</td>\n",
       "      <td>1.130000</td>\n",
       "      <td>1.070000</td>\n",
       "      <td>1.150000</td>\n",
       "      <td>1.660000</td>\n",
       "      <td>2.640000</td>\n",
       "      <td>3.000000</td>\n",
       "      <td>25.860000</td>\n",
       "      <td>24.995000</td>\n",
       "      <td>15.177045</td>\n",
       "    </tr>\n",
       "    <tr>\n",
       "      <th>2023-05-18</th>\n",
       "      <td>25.590000</td>\n",
       "      <td>25.850000</td>\n",
       "      <td>25.350000</td>\n",
       "      <td>25.810000</td>\n",
       "      <td>-0.220000</td>\n",
       "      <td>0.500000</td>\n",
       "      <td>1.005846</td>\n",
       "      <td>1.014943</td>\n",
       "      <td>0.150000</td>\n",
       "      <td>-0.490000</td>\n",
       "      <td>...</td>\n",
       "      <td>-0.440000</td>\n",
       "      <td>0.380000</td>\n",
       "      <td>1.280000</td>\n",
       "      <td>1.220000</td>\n",
       "      <td>1.300000</td>\n",
       "      <td>1.810000</td>\n",
       "      <td>2.790000</td>\n",
       "      <td>25.936000</td>\n",
       "      <td>25.274000</td>\n",
       "      <td>15.194181</td>\n",
       "    </tr>\n",
       "    <tr>\n",
       "      <th>2023-05-19</th>\n",
       "      <td>26.080000</td>\n",
       "      <td>26.180000</td>\n",
       "      <td>25.640000</td>\n",
       "      <td>25.920000</td>\n",
       "      <td>0.160000</td>\n",
       "      <td>0.540000</td>\n",
       "      <td>1.004262</td>\n",
       "      <td>0.987429</td>\n",
       "      <td>0.110000</td>\n",
       "      <td>0.260000</td>\n",
       "      <td>...</td>\n",
       "      <td>0.260000</td>\n",
       "      <td>-0.330000</td>\n",
       "      <td>0.490000</td>\n",
       "      <td>1.390000</td>\n",
       "      <td>1.330000</td>\n",
       "      <td>1.410000</td>\n",
       "      <td>1.920000</td>\n",
       "      <td>25.870000</td>\n",
       "      <td>25.466000</td>\n",
       "      <td>15.211467</td>\n",
       "    </tr>\n",
       "  </tbody>\n",
       "</table>\n",
       "<p>1230 rows × 21 columns</p>\n",
       "</div>"
      ],
      "text/plain": [
       "                 open       high        low      close        oc        hl  \\\n",
       "date                                                                         \n",
       "2018-06-05   6.862417   7.036349   6.558035   6.558035  0.304381  0.478314   \n",
       "2018-06-06   6.510599   6.593612   6.273419   6.455257  0.055342  0.320193   \n",
       "2018-06-07   6.324808   6.388056   5.901837   6.229936  0.094872  0.486220   \n",
       "2018-06-08   6.249701   6.399915   5.953226   6.028333  0.221368  0.446690   \n",
       "2018-06-11   6.127158   6.245748   5.980897   6.091581  0.035577  0.264851   \n",
       "...               ...        ...        ...        ...       ...       ...   \n",
       "2023-05-15  26.060000  26.150000  25.400000  25.660000  0.400000  0.750000   \n",
       "2023-05-16  26.110000  27.030000  26.080000  26.300000 -0.190000  0.950000   \n",
       "2023-05-17  26.600000  26.760000  25.510000  25.660000  0.940000  1.250000   \n",
       "2023-05-18  25.590000  25.850000  25.350000  25.810000 -0.220000  0.500000   \n",
       "2023-05-19  26.080000  26.180000  25.640000  25.920000  0.160000  0.540000   \n",
       "\n",
       "                 rt1       rt5        m1        m2  ...        m4        m5  \\\n",
       "date                                                ...                       \n",
       "2018-06-05  0.946378  0.981076 -0.371582  0.169979  ... -1.071264 -0.126496   \n",
       "2018-06-06  0.984328  0.846114 -0.102778 -0.474361  ... -1.047546 -1.174042   \n",
       "2018-06-07  0.965095  0.830348 -0.225321 -0.328099  ... -0.158120 -1.272868   \n",
       "2018-06-08  0.967640  0.943688 -0.201603 -0.426925  ... -0.901285 -0.359723   \n",
       "2018-06-11  1.010492  0.879064  0.063248 -0.138355  ... -0.466455 -0.838037   \n",
       "...              ...       ...       ...       ...  ...       ...       ...   \n",
       "2023-05-15  0.977524  1.046920 -0.590000  0.230000  ...  1.070000  1.150000   \n",
       "2023-05-16  1.024942  1.069540  0.640000  0.050000  ...  1.770000  1.710000   \n",
       "2023-05-17  0.975665  1.046066 -0.640000  0.000000  ...  0.230000  1.130000   \n",
       "2023-05-18  1.005846  1.014943  0.150000 -0.490000  ... -0.440000  0.380000   \n",
       "2023-05-19  1.004262  0.987429  0.110000  0.260000  ...  0.260000 -0.330000   \n",
       "\n",
       "                  m6        m7        m8        m9       m10        ma5  \\\n",
       "date                                                                      \n",
       "2018-06-05 -1.268915 -1.379599 -2.640607 -3.209840 -3.324477   7.001562   \n",
       "2018-06-06 -0.229274 -1.371693 -1.482377 -2.743385 -3.312618   6.766754   \n",
       "2018-06-07 -1.399364 -0.454596 -1.597014 -1.707698 -2.968707   6.512180   \n",
       "2018-06-08 -1.474471 -1.600967 -0.656199 -1.798617 -1.909301   6.440236   \n",
       "2018-06-11 -0.296475 -1.411223 -1.537719 -0.592951 -1.735369   6.272628   \n",
       "...              ...       ...       ...       ...       ...        ...   \n",
       "2023-05-15  1.660000  2.640000  3.000000  2.920000  1.960000  25.292000   \n",
       "2023-05-16  1.790000  2.300000  3.280000  3.640000  3.560000  25.634000   \n",
       "2023-05-17  1.070000  1.150000  1.660000  2.640000  3.000000  25.860000   \n",
       "2023-05-18  1.280000  1.220000  1.300000  1.810000  2.790000  25.936000   \n",
       "2023-05-19  0.490000  1.390000  1.330000  1.410000  1.920000  25.870000   \n",
       "\n",
       "                 ma10       ewma  \n",
       "date                              \n",
       "2018-06-05   7.642345   9.846603  \n",
       "2018-06-06   7.311083   9.841137  \n",
       "2018-06-07   7.014212   9.835318  \n",
       "2018-06-08   6.823282   9.829182  \n",
       "2018-06-11   6.649745   9.823159  \n",
       "...               ...        ...  \n",
       "2023-05-15  24.339000  15.142142  \n",
       "2023-05-16  24.695000  15.160124  \n",
       "2023-05-17  24.995000  15.177045  \n",
       "2023-05-18  25.274000  15.194181  \n",
       "2023-05-19  25.466000  15.211467  \n",
       "\n",
       "[1230 rows x 21 columns]"
      ]
     },
     "execution_count": 13,
     "metadata": {},
     "output_type": "execute_result"
    }
   ],
   "source": [
    "df_featured = create_features(df)\n",
    "df_featured"
   ]
  },
  {
   "attachments": {},
   "cell_type": "markdown",
   "metadata": {},
   "source": [
    "#### Feature Selection"
   ]
  },
  {
   "attachments": {},
   "cell_type": "markdown",
   "metadata": {},
   "source": [
    "Let´s use correlation measure in order to check if we can reduce the number of input variables."
   ]
  },
  {
   "cell_type": "code",
   "execution_count": 14,
   "metadata": {},
   "outputs": [
    {
     "data": {
      "image/png": "[encoded data removed]",
      "text/plain": [
       "<Figure size 2000x1000 with 2 Axes>"
      ]
     },
     "metadata": {},
     "output_type": "display_data"
    }
   ],
   "source": [
    "sns.set(rc={'figure.figsize': (20, 10)})\n",
    "\n",
    "sns.heatmap(df_featured.drop(['open', 'high', 'low', 'close'], axis=1).corr()>0.9, \n",
    "            annot=True,  \n",
    "            annot_kws={\"size\": 11}, \n",
    "            fmt=\".2f\", \n",
    "            linewidth=.5, \n",
    "            cmap=\"coolwarm\", \n",
    "            cbar=True);\n",
    "\n",
    "plt.title('Features Set Correlations');"
   ]
  },
  {
   "attachments": {},
   "cell_type": "markdown",
   "metadata": {},
   "source": [
    "As we can see, some of the features are high correlated with others and to address multicollinearity among features we will drop some of the them."
   ]
  },
  {
   "cell_type": "code",
   "execution_count": 373,
   "metadata": {},
   "outputs": [],
   "source": [
    "to_drop = ['m5','m6', 'm7', 'm8', 'm9', 'ma10', 'ewma']\n",
    "df_featured.drop(to_drop, axis=1, inplace=True)"
   ]
  },
  {
   "attachments": {},
   "cell_type": "markdown",
   "metadata": {},
   "source": [
    "Let´s check correlation measure once more"
   ]
  },
  {
   "cell_type": "code",
   "execution_count": 374,
   "metadata": {},
   "outputs": [
    {
     "data": {
      "image/png": "[encoded data removed]",
      "text/plain": [
       "<Figure size 2000x1000 with 2 Axes>"
      ]
     },
     "metadata": {},
     "output_type": "display_data"
    }
   ],
   "source": [
    "sns.set(rc={'figure.figsize': (20, 10)})\n",
    "\n",
    "sns.heatmap(df_featured.drop(['open', 'high', 'low', 'close'], axis=1).corr()>0.9, \n",
    "            annot=True,  \n",
    "            annot_kws={\"size\": 11}, \n",
    "            fmt=\".2f\", \n",
    "            linewidth=.5, \n",
    "            cmap=\"coolwarm\", \n",
    "            cbar=True);\n",
    "\n",
    "plt.title('Features Set Correlations');"
   ]
  },
  {
   "cell_type": "code",
   "execution_count": 316,
   "metadata": {},
   "outputs": [
    {
     "data": {
      "text/html": [
       "<div>\n",
       "<style scoped>\n",
       "    .dataframe tbody tr th:only-of-type {\n",
       "        vertical-align: middle;\n",
       "    }\n",
       "\n",
       "    .dataframe tbody tr th {\n",
       "        vertical-align: top;\n",
       "    }\n",
       "\n",
       "    .dataframe thead th {\n",
       "        text-align: right;\n",
       "    }\n",
       "</style>\n",
       "<table border=\"1\" class=\"dataframe\">\n",
       "  <thead>\n",
       "    <tr style=\"text-align: right;\">\n",
       "      <th></th>\n",
       "      <th>open</th>\n",
       "      <th>high</th>\n",
       "      <th>low</th>\n",
       "      <th>close</th>\n",
       "      <th>oc</th>\n",
       "      <th>hl</th>\n",
       "      <th>rt1</th>\n",
       "      <th>rt5</th>\n",
       "      <th>m1</th>\n",
       "      <th>m2</th>\n",
       "      <th>m3</th>\n",
       "      <th>m4</th>\n",
       "      <th>m10</th>\n",
       "      <th>ma5</th>\n",
       "    </tr>\n",
       "  </thead>\n",
       "  <tbody>\n",
       "    <tr>\n",
       "      <th>count</th>\n",
       "      <td>1230.000000</td>\n",
       "      <td>1230.000000</td>\n",
       "      <td>1230.000000</td>\n",
       "      <td>1230.000000</td>\n",
       "      <td>1230.000000</td>\n",
       "      <td>1230.000000</td>\n",
       "      <td>1230.000000</td>\n",
       "      <td>1230.000000</td>\n",
       "      <td>1230.000000</td>\n",
       "      <td>1230.000000</td>\n",
       "      <td>1230.000000</td>\n",
       "      <td>1230.000000</td>\n",
       "      <td>1230.000000</td>\n",
       "      <td>1230.000000</td>\n",
       "    </tr>\n",
       "    <tr>\n",
       "      <th>mean</th>\n",
       "      <td>13.464187</td>\n",
       "      <td>13.678231</td>\n",
       "      <td>13.241037</td>\n",
       "      <td>13.459112</td>\n",
       "      <td>0.005075</td>\n",
       "      <td>0.437194</td>\n",
       "      <td>1.001521</td>\n",
       "      <td>1.007434</td>\n",
       "      <td>0.015439</td>\n",
       "      <td>0.031230</td>\n",
       "      <td>0.045991</td>\n",
       "      <td>0.061171</td>\n",
       "      <td>0.142205</td>\n",
       "      <td>13.428346</td>\n",
       "    </tr>\n",
       "    <tr>\n",
       "      <th>std</th>\n",
       "      <td>5.236895</td>\n",
       "      <td>5.339447</td>\n",
       "      <td>5.146613</td>\n",
       "      <td>5.249874</td>\n",
       "      <td>0.311505</td>\n",
       "      <td>0.299531</td>\n",
       "      <td>0.029511</td>\n",
       "      <td>0.062794</td>\n",
       "      <td>0.381179</td>\n",
       "      <td>0.534827</td>\n",
       "      <td>0.650858</td>\n",
       "      <td>0.757934</td>\n",
       "      <td>1.282298</td>\n",
       "      <td>5.221452</td>\n",
       "    </tr>\n",
       "    <tr>\n",
       "      <th>min</th>\n",
       "      <td>4.707236</td>\n",
       "      <td>5.179236</td>\n",
       "      <td>4.613687</td>\n",
       "      <td>4.800786</td>\n",
       "      <td>-2.039822</td>\n",
       "      <td>0.087497</td>\n",
       "      <td>0.703022</td>\n",
       "      <td>0.498221</td>\n",
       "      <td>-2.883023</td>\n",
       "      <td>-3.929075</td>\n",
       "      <td>-4.609435</td>\n",
       "      <td>-4.350048</td>\n",
       "      <td>-8.260888</td>\n",
       "      <td>5.102695</td>\n",
       "    </tr>\n",
       "    <tr>\n",
       "      <th>25%</th>\n",
       "      <td>9.996309</td>\n",
       "      <td>10.172188</td>\n",
       "      <td>9.859260</td>\n",
       "      <td>10.012680</td>\n",
       "      <td>-0.140572</td>\n",
       "      <td>0.232959</td>\n",
       "      <td>0.987353</td>\n",
       "      <td>0.977048</td>\n",
       "      <td>-0.144960</td>\n",
       "      <td>-0.217823</td>\n",
       "      <td>-0.252091</td>\n",
       "      <td>-0.276400</td>\n",
       "      <td>-0.384587</td>\n",
       "      <td>9.987237</td>\n",
       "    </tr>\n",
       "    <tr>\n",
       "      <th>50%</th>\n",
       "      <td>11.708163</td>\n",
       "      <td>11.885520</td>\n",
       "      <td>11.554111</td>\n",
       "      <td>11.720969</td>\n",
       "      <td>0.004252</td>\n",
       "      <td>0.344439</td>\n",
       "      <td>1.001107</td>\n",
       "      <td>1.010078</td>\n",
       "      <td>0.013172</td>\n",
       "      <td>0.041760</td>\n",
       "      <td>0.062146</td>\n",
       "      <td>0.089299</td>\n",
       "      <td>0.193487</td>\n",
       "      <td>11.727248</td>\n",
       "    </tr>\n",
       "    <tr>\n",
       "      <th>75%</th>\n",
       "      <td>16.963984</td>\n",
       "      <td>17.235802</td>\n",
       "      <td>16.674380</td>\n",
       "      <td>16.957445</td>\n",
       "      <td>0.157335</td>\n",
       "      <td>0.544250</td>\n",
       "      <td>1.015944</td>\n",
       "      <td>1.041438</td>\n",
       "      <td>0.195549</td>\n",
       "      <td>0.284062</td>\n",
       "      <td>0.363005</td>\n",
       "      <td>0.432088</td>\n",
       "      <td>0.743815</td>\n",
       "      <td>17.016040</td>\n",
       "    </tr>\n",
       "    <tr>\n",
       "      <th>max</th>\n",
       "      <td>28.526247</td>\n",
       "      <td>30.003359</td>\n",
       "      <td>28.440277</td>\n",
       "      <td>29.479727</td>\n",
       "      <td>1.953853</td>\n",
       "      <td>2.149238</td>\n",
       "      <td>1.222222</td>\n",
       "      <td>1.268379</td>\n",
       "      <td>1.860068</td>\n",
       "      <td>2.243023</td>\n",
       "      <td>2.743209</td>\n",
       "      <td>3.384073</td>\n",
       "      <td>4.347846</td>\n",
       "      <td>27.833801</td>\n",
       "    </tr>\n",
       "  </tbody>\n",
       "</table>\n",
       "</div>"
      ],
      "text/plain": [
       "              open         high          low        close           oc  \\\n",
       "count  1230.000000  1230.000000  1230.000000  1230.000000  1230.000000   \n",
       "mean     13.464187    13.678231    13.241037    13.459112     0.005075   \n",
       "std       5.236895     5.339447     5.146613     5.249874     0.311505   \n",
       "min       4.707236     5.179236     4.613687     4.800786    -2.039822   \n",
       "25%       9.996309    10.172188     9.859260    10.012680    -0.140572   \n",
       "50%      11.708163    11.885520    11.554111    11.720969     0.004252   \n",
       "75%      16.963984    17.235802    16.674380    16.957445     0.157335   \n",
       "max      28.526247    30.003359    28.440277    29.479727     1.953853   \n",
       "\n",
       "                hl          rt1          rt5           m1           m2  \\\n",
       "count  1230.000000  1230.000000  1230.000000  1230.000000  1230.000000   \n",
       "mean      0.437194     1.001521     1.007434     0.015439     0.031230   \n",
       "std       0.299531     0.029511     0.062794     0.381179     0.534827   \n",
       "min       0.087497     0.703022     0.498221    -2.883023    -3.929075   \n",
       "25%       0.232959     0.987353     0.977048    -0.144960    -0.217823   \n",
       "50%       0.344439     1.001107     1.010078     0.013172     0.041760   \n",
       "75%       0.544250     1.015944     1.041438     0.195549     0.284062   \n",
       "max       2.149238     1.222222     1.268379     1.860068     2.243023   \n",
       "\n",
       "                m3           m4          m10          ma5  \n",
       "count  1230.000000  1230.000000  1230.000000  1230.000000  \n",
       "mean      0.045991     0.061171     0.142205    13.428346  \n",
       "std       0.650858     0.757934     1.282298     5.221452  \n",
       "min      -4.609435    -4.350048    -8.260888     5.102695  \n",
       "25%      -0.252091    -0.276400    -0.384587     9.987237  \n",
       "50%       0.062146     0.089299     0.193487    11.727248  \n",
       "75%       0.363005     0.432088     0.743815    17.016040  \n",
       "max       2.743209     3.384073     4.347846    27.833801  "
      ]
     },
     "execution_count": 316,
     "metadata": {},
     "output_type": "execute_result"
    }
   ],
   "source": [
    "df_featured.describe()"
   ]
  },
  {
   "attachments": {},
   "cell_type": "markdown",
   "metadata": {},
   "source": [
    "#### Target or Label Definition"
   ]
  },
  {
   "attachments": {},
   "cell_type": "markdown",
   "metadata": {},
   "source": [
    "Now, we will define dependent variable, and for that we will impose a threshold considering positive returns only the ones above 0.25%, thus:\n",
    "\n",
    "$$\n",
    "y_t = \n",
    "    \\begin{cases}\n",
    "        1, & \\text{if $p_{t+1} > 1.0025 * p_t$}\\\\ \n",
    "        0, & \\text{if $p_{t+1}$ otherwise}\n",
    "    \\end{cases}\n",
    "$$"
   ]
  },
  {
   "cell_type": "code",
   "execution_count": 428,
   "metadata": {},
   "outputs": [],
   "source": [
    "y = np.where(df_featured.close.shift(-1) / df_featured.close > 1.0001, 1, 0)"
   ]
  },
  {
   "attachments": {},
   "cell_type": "markdown",
   "metadata": {},
   "source": [
    "Generate array X, with the feature set"
   ]
  },
  {
   "cell_type": "code",
   "execution_count": 429,
   "metadata": {},
   "outputs": [],
   "source": [
    "X = df_featured[['oc', 'hl', 'rt1', 'm1','ma5']].values"
   ]
  },
  {
   "attachments": {},
   "cell_type": "markdown",
   "metadata": {},
   "source": [
    "#### Split Data"
   ]
  },
  {
   "cell_type": "code",
   "execution_count": 430,
   "metadata": {},
   "outputs": [],
   "source": [
    "X_train, X_test, y_train, y_test = train_test_split(X, y, test_size = 0.25, random_state = 0)"
   ]
  },
  {
   "attachments": {},
   "cell_type": "markdown",
   "metadata": {},
   "source": [
    "#### Feature scaling"
   ]
  },
  {
   "cell_type": "code",
   "execution_count": 431,
   "metadata": {},
   "outputs": [],
   "source": [
    "sc = StandardScaler()\n",
    "X_train = sc.fit_transform(X_train)\n",
    "X_test = sc.transform(X_test)"
   ]
  },
  {
   "attachments": {},
   "cell_type": "markdown",
   "metadata": {},
   "source": [
    "After performing feature scaling, all values will be normalized and looks like this"
   ]
  },
  {
   "cell_type": "code",
   "execution_count": 432,
   "metadata": {},
   "outputs": [
    {
     "data": {
      "text/html": [
       "<div>\n",
       "<style scoped>\n",
       "    .dataframe tbody tr th:only-of-type {\n",
       "        vertical-align: middle;\n",
       "    }\n",
       "\n",
       "    .dataframe tbody tr th {\n",
       "        vertical-align: top;\n",
       "    }\n",
       "\n",
       "    .dataframe thead th {\n",
       "        text-align: right;\n",
       "    }\n",
       "</style>\n",
       "<table border=\"1\" class=\"dataframe\">\n",
       "  <thead>\n",
       "    <tr style=\"text-align: right;\">\n",
       "      <th></th>\n",
       "      <th>0</th>\n",
       "      <th>1</th>\n",
       "      <th>2</th>\n",
       "      <th>3</th>\n",
       "      <th>4</th>\n",
       "    </tr>\n",
       "  </thead>\n",
       "  <tbody>\n",
       "    <tr>\n",
       "      <th>0</th>\n",
       "      <td>0.180279</td>\n",
       "      <td>-0.770954</td>\n",
       "      <td>-0.226072</td>\n",
       "      <td>-0.198210</td>\n",
       "      <td>-0.455644</td>\n",
       "    </tr>\n",
       "    <tr>\n",
       "      <th>1</th>\n",
       "      <td>-0.298236</td>\n",
       "      <td>-1.059884</td>\n",
       "      <td>0.038846</td>\n",
       "      <td>0.030330</td>\n",
       "      <td>-0.449564</td>\n",
       "    </tr>\n",
       "    <tr>\n",
       "      <th>2</th>\n",
       "      <td>1.616267</td>\n",
       "      <td>1.821762</td>\n",
       "      <td>-0.790036</td>\n",
       "      <td>-1.275920</td>\n",
       "      <td>1.418526</td>\n",
       "    </tr>\n",
       "    <tr>\n",
       "      <th>3</th>\n",
       "      <td>-0.793814</td>\n",
       "      <td>1.135772</td>\n",
       "      <td>0.653336</td>\n",
       "      <td>0.870673</td>\n",
       "      <td>0.798816</td>\n",
       "    </tr>\n",
       "    <tr>\n",
       "      <th>4</th>\n",
       "      <td>0.382914</td>\n",
       "      <td>-0.700072</td>\n",
       "      <td>-0.082861</td>\n",
       "      <td>-0.089247</td>\n",
       "      <td>0.310346</td>\n",
       "    </tr>\n",
       "    <tr>\n",
       "      <th>...</th>\n",
       "      <td>...</td>\n",
       "      <td>...</td>\n",
       "      <td>...</td>\n",
       "      <td>...</td>\n",
       "      <td>...</td>\n",
       "    </tr>\n",
       "    <tr>\n",
       "      <th>917</th>\n",
       "      <td>1.434156</td>\n",
       "      <td>0.225632</td>\n",
       "      <td>-1.393774</td>\n",
       "      <td>-1.393878</td>\n",
       "      <td>-0.134913</td>\n",
       "    </tr>\n",
       "    <tr>\n",
       "      <th>918</th>\n",
       "      <td>1.820085</td>\n",
       "      <td>0.850007</td>\n",
       "      <td>-1.659232</td>\n",
       "      <td>-1.792237</td>\n",
       "      <td>0.049893</td>\n",
       "    </tr>\n",
       "    <tr>\n",
       "      <th>919</th>\n",
       "      <td>3.064085</td>\n",
       "      <td>2.281022</td>\n",
       "      <td>-1.380663</td>\n",
       "      <td>-2.550681</td>\n",
       "      <td>1.967923</td>\n",
       "    </tr>\n",
       "    <tr>\n",
       "      <th>920</th>\n",
       "      <td>0.088771</td>\n",
       "      <td>-0.814578</td>\n",
       "      <td>0.022280</td>\n",
       "      <td>0.010189</td>\n",
       "      <td>-0.720325</td>\n",
       "    </tr>\n",
       "    <tr>\n",
       "      <th>921</th>\n",
       "      <td>-0.047862</td>\n",
       "      <td>-0.713169</td>\n",
       "      <td>-0.206837</td>\n",
       "      <td>-0.168145</td>\n",
       "      <td>-0.751004</td>\n",
       "    </tr>\n",
       "  </tbody>\n",
       "</table>\n",
       "<p>922 rows × 5 columns</p>\n",
       "</div>"
      ],
      "text/plain": [
       "            0         1         2         3         4\n",
       "0    0.180279 -0.770954 -0.226072 -0.198210 -0.455644\n",
       "1   -0.298236 -1.059884  0.038846  0.030330 -0.449564\n",
       "2    1.616267  1.821762 -0.790036 -1.275920  1.418526\n",
       "3   -0.793814  1.135772  0.653336  0.870673  0.798816\n",
       "4    0.382914 -0.700072 -0.082861 -0.089247  0.310346\n",
       "..        ...       ...       ...       ...       ...\n",
       "917  1.434156  0.225632 -1.393774 -1.393878 -0.134913\n",
       "918  1.820085  0.850007 -1.659232 -1.792237  0.049893\n",
       "919  3.064085  2.281022 -1.380663 -2.550681  1.967923\n",
       "920  0.088771 -0.814578  0.022280  0.010189 -0.720325\n",
       "921 -0.047862 -0.713169 -0.206837 -0.168145 -0.751004\n",
       "\n",
       "[922 rows x 5 columns]"
      ]
     },
     "execution_count": 432,
     "metadata": {},
     "output_type": "execute_result"
    }
   ],
   "source": [
    "pd.DataFrame(data=X_train)"
   ]
  },
  {
   "cell_type": "code",
   "execution_count": 433,
   "metadata": {},
   "outputs": [
    {
     "data": {
      "text/html": [
       "<style>#sk-container-id-32 {color: black;background-color: white;}#sk-container-id-32 pre{padding: 0;}#sk-container-id-32 div.sk-toggleable {background-color: white;}#sk-container-id-32 label.sk-toggleable__label {cursor: pointer;display: block;width: 100%;margin-bottom: 0;padding: 0.3em;box-sizing: border-box;text-align: center;}#sk-container-id-32 label.sk-toggleable__label-arrow:before {content: \"▸\";float: left;margin-right: 0.25em;color: #696969;}#sk-container-id-32 label.sk-toggleable__label-arrow:hover:before {color: black;}#sk-container-id-32 div.sk-estimator:hover label.sk-toggleable__label-arrow:before {color: black;}#sk-container-id-32 div.sk-toggleable__content {max-height: 0;max-width: 0;overflow: hidden;text-align: left;background-color: #f0f8ff;}#sk-container-id-32 div.sk-toggleable__content pre {margin: 0.2em;color: black;border-radius: 0.25em;background-color: #f0f8ff;}#sk-container-id-32 input.sk-toggleable__control:checked~div.sk-toggleable__content {max-height: 200px;max-width: 100%;overflow: auto;}#sk-container-id-32 input.sk-toggleable__control:checked~label.sk-toggleable__label-arrow:before {content: \"▾\";}#sk-container-id-32 div.sk-estimator input.sk-toggleable__control:checked~label.sk-toggleable__label {background-color: #d4ebff;}#sk-container-id-32 div.sk-label input.sk-toggleable__control:checked~label.sk-toggleable__label {background-color: #d4ebff;}#sk-container-id-32 input.sk-hidden--visually {border: 0;clip: rect(1px 1px 1px 1px);clip: rect(1px, 1px, 1px, 1px);height: 1px;margin: -1px;overflow: hidden;padding: 0;position: absolute;width: 1px;}#sk-container-id-32 div.sk-estimator {font-family: monospace;background-color: #f0f8ff;border: 1px dotted black;border-radius: 0.25em;box-sizing: border-box;margin-bottom: 0.5em;}#sk-container-id-32 div.sk-estimator:hover {background-color: #d4ebff;}#sk-container-id-32 div.sk-parallel-item::after {content: \"\";width: 100%;border-bottom: 1px solid gray;flex-grow: 1;}#sk-container-id-32 div.sk-label:hover label.sk-toggleable__label {background-color: #d4ebff;}#sk-container-id-32 div.sk-serial::before {content: \"\";position: absolute;border-left: 1px solid gray;box-sizing: border-box;top: 0;bottom: 0;left: 50%;z-index: 0;}#sk-container-id-32 div.sk-serial {display: flex;flex-direction: column;align-items: center;background-color: white;padding-right: 0.2em;padding-left: 0.2em;position: relative;}#sk-container-id-32 div.sk-item {position: relative;z-index: 1;}#sk-container-id-32 div.sk-parallel {display: flex;align-items: stretch;justify-content: center;background-color: white;position: relative;}#sk-container-id-32 div.sk-item::before, #sk-container-id-32 div.sk-parallel-item::before {content: \"\";position: absolute;border-left: 1px solid gray;box-sizing: border-box;top: 0;bottom: 0;left: 50%;z-index: -1;}#sk-container-id-32 div.sk-parallel-item {display: flex;flex-direction: column;z-index: 1;position: relative;background-color: white;}#sk-container-id-32 div.sk-parallel-item:first-child::after {align-self: flex-end;width: 50%;}#sk-container-id-32 div.sk-parallel-item:last-child::after {align-self: flex-start;width: 50%;}#sk-container-id-32 div.sk-parallel-item:only-child::after {width: 0;}#sk-container-id-32 div.sk-dashed-wrapped {border: 1px dashed gray;margin: 0 0.4em 0.5em 0.4em;box-sizing: border-box;padding-bottom: 0.4em;background-color: white;}#sk-container-id-32 div.sk-label label {font-family: monospace;font-weight: bold;display: inline-block;line-height: 1.2em;}#sk-container-id-32 div.sk-label-container {text-align: center;}#sk-container-id-32 div.sk-container {/* jupyter's `normalize.less` sets `[hidden] { display: none; }` but bootstrap.min.css set `[hidden] { display: none !important; }` so we also need the `!important` here to be able to override the default hidden behavior on the sphinx rendered scikit-learn.org. See: https://github.com/scikit-learn/scikit-learn/issues/21755 */display: inline-block !important;position: relative;}#sk-container-id-32 div.sk-text-repr-fallback {display: none;}</style><div id=\"sk-container-id-32\" class=\"sk-top-container\"><div class=\"sk-text-repr-fallback\"><pre>SVC(random_state=0)</pre><b>In a Jupyter environment, please rerun this cell to show the HTML representation or trust the notebook. <br />On GitHub, the HTML representation is unable to render, please try loading this page with nbviewer.org.</b></div><div class=\"sk-container\" hidden><div class=\"sk-item\"><div class=\"sk-estimator sk-toggleable\"><input class=\"sk-toggleable__control sk-hidden--visually\" id=\"sk-estimator-id-44\" type=\"checkbox\" checked><label for=\"sk-estimator-id-44\" class=\"sk-toggleable__label sk-toggleable__label-arrow\">SVC</label><div class=\"sk-toggleable__content\"><pre>SVC(random_state=0)</pre></div></div></div></div></div>"
      ],
      "text/plain": [
       "SVC(random_state=0)"
      ]
     },
     "execution_count": 433,
     "metadata": {},
     "output_type": "execute_result"
    }
   ],
   "source": [
    "model = SVC(kernel = 'rbf', random_state=0)\n",
    "model.fit(X_train, y_train)"
   ]
  },
  {
   "cell_type": "code",
   "execution_count": 434,
   "metadata": {},
   "outputs": [],
   "source": [
    "y_pred = model.predict(X_test)"
   ]
  },
  {
   "cell_type": "code",
   "execution_count": 435,
   "metadata": {},
   "outputs": [
    {
     "data": {
      "text/html": [
       "<div>\n",
       "<style scoped>\n",
       "    .dataframe tbody tr th:only-of-type {\n",
       "        vertical-align: middle;\n",
       "    }\n",
       "\n",
       "    .dataframe tbody tr th {\n",
       "        vertical-align: top;\n",
       "    }\n",
       "\n",
       "    .dataframe thead th {\n",
       "        text-align: right;\n",
       "    }\n",
       "</style>\n",
       "<table border=\"1\" class=\"dataframe\">\n",
       "  <thead>\n",
       "    <tr style=\"text-align: right;\">\n",
       "      <th></th>\n",
       "      <th>0</th>\n",
       "    </tr>\n",
       "  </thead>\n",
       "  <tbody>\n",
       "    <tr>\n",
       "      <th>0</th>\n",
       "      <td>0</td>\n",
       "    </tr>\n",
       "    <tr>\n",
       "      <th>1</th>\n",
       "      <td>0</td>\n",
       "    </tr>\n",
       "    <tr>\n",
       "      <th>2</th>\n",
       "      <td>0</td>\n",
       "    </tr>\n",
       "    <tr>\n",
       "      <th>3</th>\n",
       "      <td>1</td>\n",
       "    </tr>\n",
       "    <tr>\n",
       "      <th>4</th>\n",
       "      <td>0</td>\n",
       "    </tr>\n",
       "    <tr>\n",
       "      <th>...</th>\n",
       "      <td>...</td>\n",
       "    </tr>\n",
       "    <tr>\n",
       "      <th>303</th>\n",
       "      <td>0</td>\n",
       "    </tr>\n",
       "    <tr>\n",
       "      <th>304</th>\n",
       "      <td>1</td>\n",
       "    </tr>\n",
       "    <tr>\n",
       "      <th>305</th>\n",
       "      <td>0</td>\n",
       "    </tr>\n",
       "    <tr>\n",
       "      <th>306</th>\n",
       "      <td>1</td>\n",
       "    </tr>\n",
       "    <tr>\n",
       "      <th>307</th>\n",
       "      <td>0</td>\n",
       "    </tr>\n",
       "  </tbody>\n",
       "</table>\n",
       "<p>308 rows × 1 columns</p>\n",
       "</div>"
      ],
      "text/plain": [
       "     0\n",
       "0    0\n",
       "1    0\n",
       "2    0\n",
       "3    1\n",
       "4    0\n",
       "..  ..\n",
       "303  0\n",
       "304  1\n",
       "305  0\n",
       "306  1\n",
       "307  0\n",
       "\n",
       "[308 rows x 1 columns]"
      ]
     },
     "execution_count": 435,
     "metadata": {},
     "output_type": "execute_result"
    }
   ],
   "source": [
    "pd.DataFrame(data=y_pred)"
   ]
  },
  {
   "cell_type": "code",
   "execution_count": 436,
   "metadata": {},
   "outputs": [
    {
     "data": {
      "image/png": "[encoded data removed]",
      "text/plain": [
       "<Figure size 2000x1000 with 2 Axes>"
      ]
     },
     "metadata": {},
     "output_type": "display_data"
    }
   ],
   "source": [
    "# Display confussion matrix\n",
    "disp = ConfusionMatrixDisplay.from_estimator(\n",
    "        model,\n",
    "        X_test,\n",
    "        y_test,\n",
    "        display_labels=model.classes_,\n",
    "        cmap=plt.cm.Blues\n",
    "    )\n",
    "disp.ax_.set_title('Confusion matrix')\n",
    "plt.show()"
   ]
  },
  {
   "cell_type": "code",
   "execution_count": 437,
   "metadata": {},
   "outputs": [
    {
     "data": {
      "image/png": "[encoded data removed]",
      "text/plain": [
       "<Figure size 2000x1000 with 1 Axes>"
      ]
     },
     "metadata": {},
     "output_type": "display_data"
    }
   ],
   "source": [
    "# Display ROCCurve \n",
    "disp_roc = RocCurveDisplay.from_estimator(\n",
    "            model  , \n",
    "            X_test, \n",
    "            y_test,\n",
    "            name='SVM')\n",
    "disp_roc.ax_.set_title('ROC Curve')\n",
    "plt.show()"
   ]
  },
  {
   "cell_type": "code",
   "execution_count": 438,
   "metadata": {},
   "outputs": [
    {
     "data": {
      "text/plain": [
       "0.461038961038961"
      ]
     },
     "execution_count": 438,
     "metadata": {},
     "output_type": "execute_result"
    }
   ],
   "source": [
    "accuracy_score(y_test, y_pred)"
   ]
  },
  {
   "cell_type": "code",
   "execution_count": 439,
   "metadata": {},
   "outputs": [
    {
     "name": "stdout",
     "output_type": "stream",
     "text": [
      "              precision    recall  f1-score   support\n",
      "\n",
      "           0       0.40      0.45      0.42       135\n",
      "           1       0.52      0.47      0.49       173\n",
      "\n",
      "    accuracy                           0.46       308\n",
      "   macro avg       0.46      0.46      0.46       308\n",
      "weighted avg       0.47      0.46      0.46       308\n",
      "\n"
     ]
    }
   ],
   "source": [
    "# Classification Report\n",
    "print(classification_report(y_test, y_pred))"
   ]
  },
  {
   "attachments": {},
   "cell_type": "markdown",
   "metadata": {},
   "source": [
    "### Hyper-parameter Tuning"
   ]
  },
  {
   "attachments": {},
   "cell_type": "markdown",
   "metadata": {},
   "source": [
    "#### GridSearch"
   ]
  },
  {
   "attachments": {},
   "cell_type": "markdown",
   "metadata": {},
   "source": [
    "First we check the parameters available in the model"
   ]
  },
  {
   "cell_type": "code",
   "execution_count": 440,
   "metadata": {},
   "outputs": [
    {
     "data": {
      "text/plain": [
       "{'C': 1.0,\n",
       " 'break_ties': False,\n",
       " 'cache_size': 200,\n",
       " 'class_weight': None,\n",
       " 'coef0': 0.0,\n",
       " 'decision_function_shape': 'ovr',\n",
       " 'degree': 3,\n",
       " 'gamma': 'scale',\n",
       " 'kernel': 'rbf',\n",
       " 'max_iter': -1,\n",
       " 'probability': False,\n",
       " 'random_state': 0,\n",
       " 'shrinking': True,\n",
       " 'tol': 0.001,\n",
       " 'verbose': False}"
      ]
     },
     "execution_count": 440,
     "metadata": {},
     "output_type": "execute_result"
    }
   ],
   "source": [
    "model.get_params()"
   ]
  },
  {
   "attachments": {},
   "cell_type": "markdown",
   "metadata": {},
   "source": [
    "As we are using Gaussian radial basis function (RBF), let´s now search the best C and gamma parameter to be used in the model"
   ]
  },
  {
   "cell_type": "code",
   "execution_count": 441,
   "metadata": {},
   "outputs": [
    {
     "name": "stdout",
     "output_type": "stream",
     "text": [
      "Fitting 2 folds for each of 9801 candidates, totalling 19602 fits\n"
     ]
    },
    {
     "data": {
      "text/html": [
       "<style>#sk-container-id-33 {color: black;background-color: white;}#sk-container-id-33 pre{padding: 0;}#sk-container-id-33 div.sk-toggleable {background-color: white;}#sk-container-id-33 label.sk-toggleable__label {cursor: pointer;display: block;width: 100%;margin-bottom: 0;padding: 0.3em;box-sizing: border-box;text-align: center;}#sk-container-id-33 label.sk-toggleable__label-arrow:before {content: \"▸\";float: left;margin-right: 0.25em;color: #696969;}#sk-container-id-33 label.sk-toggleable__label-arrow:hover:before {color: black;}#sk-container-id-33 div.sk-estimator:hover label.sk-toggleable__label-arrow:before {color: black;}#sk-container-id-33 div.sk-toggleable__content {max-height: 0;max-width: 0;overflow: hidden;text-align: left;background-color: #f0f8ff;}#sk-container-id-33 div.sk-toggleable__content pre {margin: 0.2em;color: black;border-radius: 0.25em;background-color: #f0f8ff;}#sk-container-id-33 input.sk-toggleable__control:checked~div.sk-toggleable__content {max-height: 200px;max-width: 100%;overflow: auto;}#sk-container-id-33 input.sk-toggleable__control:checked~label.sk-toggleable__label-arrow:before {content: \"▾\";}#sk-container-id-33 div.sk-estimator input.sk-toggleable__control:checked~label.sk-toggleable__label {background-color: #d4ebff;}#sk-container-id-33 div.sk-label input.sk-toggleable__control:checked~label.sk-toggleable__label {background-color: #d4ebff;}#sk-container-id-33 input.sk-hidden--visually {border: 0;clip: rect(1px 1px 1px 1px);clip: rect(1px, 1px, 1px, 1px);height: 1px;margin: -1px;overflow: hidden;padding: 0;position: absolute;width: 1px;}#sk-container-id-33 div.sk-estimator {font-family: monospace;background-color: #f0f8ff;border: 1px dotted black;border-radius: 0.25em;box-sizing: border-box;margin-bottom: 0.5em;}#sk-container-id-33 div.sk-estimator:hover {background-color: #d4ebff;}#sk-container-id-33 div.sk-parallel-item::after {content: \"\";width: 100%;border-bottom: 1px solid gray;flex-grow: 1;}#sk-container-id-33 div.sk-label:hover label.sk-toggleable__label {background-color: #d4ebff;}#sk-container-id-33 div.sk-serial::before {content: \"\";position: absolute;border-left: 1px solid gray;box-sizing: border-box;top: 0;bottom: 0;left: 50%;z-index: 0;}#sk-container-id-33 div.sk-serial {display: flex;flex-direction: column;align-items: center;background-color: white;padding-right: 0.2em;padding-left: 0.2em;position: relative;}#sk-container-id-33 div.sk-item {position: relative;z-index: 1;}#sk-container-id-33 div.sk-parallel {display: flex;align-items: stretch;justify-content: center;background-color: white;position: relative;}#sk-container-id-33 div.sk-item::before, #sk-container-id-33 div.sk-parallel-item::before {content: \"\";position: absolute;border-left: 1px solid gray;box-sizing: border-box;top: 0;bottom: 0;left: 50%;z-index: -1;}#sk-container-id-33 div.sk-parallel-item {display: flex;flex-direction: column;z-index: 1;position: relative;background-color: white;}#sk-container-id-33 div.sk-parallel-item:first-child::after {align-self: flex-end;width: 50%;}#sk-container-id-33 div.sk-parallel-item:last-child::after {align-self: flex-start;width: 50%;}#sk-container-id-33 div.sk-parallel-item:only-child::after {width: 0;}#sk-container-id-33 div.sk-dashed-wrapped {border: 1px dashed gray;margin: 0 0.4em 0.5em 0.4em;box-sizing: border-box;padding-bottom: 0.4em;background-color: white;}#sk-container-id-33 div.sk-label label {font-family: monospace;font-weight: bold;display: inline-block;line-height: 1.2em;}#sk-container-id-33 div.sk-label-container {text-align: center;}#sk-container-id-33 div.sk-container {/* jupyter's `normalize.less` sets `[hidden] { display: none; }` but bootstrap.min.css set `[hidden] { display: none !important; }` so we also need the `!important` here to be able to override the default hidden behavior on the sphinx rendered scikit-learn.org. See: https://github.com/scikit-learn/scikit-learn/issues/21755 */display: inline-block !important;position: relative;}#sk-container-id-33 div.sk-text-repr-fallback {display: none;}</style><div id=\"sk-container-id-33\" class=\"sk-top-container\"><div class=\"sk-text-repr-fallback\"><pre>GridSearchCV(cv=TimeSeriesSplit(gap=1, max_train_size=None, n_splits=2, test_size=None),\n",
       "             estimator=SVC(random_state=0), n_jobs=-1,\n",
       "             param_grid={&#x27;C&#x27;: array([ 0.2,  1.2,  2.2,  3.2,  4.2,  5.2,  6.2,  7.2,  8.2,  9.2, 10.2,\n",
       "       11.2, 12.2, 13.2, 14.2, 15.2, 16.2, 17.2, 18.2, 19.2, 20.2, 21.2,\n",
       "       22.2, 23.2, 24.2, 25.2, 26.2, 27.2, 28.2, 29.2, 30.2, 31.2, 32.2,\n",
       "       33.2, 34.2, 35.2, 36.2, 37.2, 38.2, 39.2, 40.2, 41.2, 42...\n",
       "       7.00002e+01, 7.10002e+01, 7.20002e+01, 7.30002e+01, 7.40002e+01,\n",
       "       7.50002e+01, 7.60002e+01, 7.70002e+01, 7.80002e+01, 7.90002e+01,\n",
       "       8.00002e+01, 8.10002e+01, 8.20002e+01, 8.30002e+01, 8.40002e+01,\n",
       "       8.50002e+01, 8.60002e+01, 8.70002e+01, 8.80002e+01, 8.90002e+01,\n",
       "       9.00002e+01, 9.10002e+01, 9.20002e+01, 9.30002e+01, 9.40002e+01,\n",
       "       9.50002e+01, 9.60002e+01, 9.70002e+01, 9.80002e+01])},\n",
       "             scoring=&#x27;roc_auc&#x27;, verbose=1)</pre><b>In a Jupyter environment, please rerun this cell to show the HTML representation or trust the notebook. <br />On GitHub, the HTML representation is unable to render, please try loading this page with nbviewer.org.</b></div><div class=\"sk-container\" hidden><div class=\"sk-item sk-dashed-wrapped\"><div class=\"sk-label-container\"><div class=\"sk-label sk-toggleable\"><input class=\"sk-toggleable__control sk-hidden--visually\" id=\"sk-estimator-id-45\" type=\"checkbox\" ><label for=\"sk-estimator-id-45\" class=\"sk-toggleable__label sk-toggleable__label-arrow\">GridSearchCV</label><div class=\"sk-toggleable__content\"><pre>GridSearchCV(cv=TimeSeriesSplit(gap=1, max_train_size=None, n_splits=2, test_size=None),\n",
       "             estimator=SVC(random_state=0), n_jobs=-1,\n",
       "             param_grid={&#x27;C&#x27;: array([ 0.2,  1.2,  2.2,  3.2,  4.2,  5.2,  6.2,  7.2,  8.2,  9.2, 10.2,\n",
       "       11.2, 12.2, 13.2, 14.2, 15.2, 16.2, 17.2, 18.2, 19.2, 20.2, 21.2,\n",
       "       22.2, 23.2, 24.2, 25.2, 26.2, 27.2, 28.2, 29.2, 30.2, 31.2, 32.2,\n",
       "       33.2, 34.2, 35.2, 36.2, 37.2, 38.2, 39.2, 40.2, 41.2, 42...\n",
       "       7.00002e+01, 7.10002e+01, 7.20002e+01, 7.30002e+01, 7.40002e+01,\n",
       "       7.50002e+01, 7.60002e+01, 7.70002e+01, 7.80002e+01, 7.90002e+01,\n",
       "       8.00002e+01, 8.10002e+01, 8.20002e+01, 8.30002e+01, 8.40002e+01,\n",
       "       8.50002e+01, 8.60002e+01, 8.70002e+01, 8.80002e+01, 8.90002e+01,\n",
       "       9.00002e+01, 9.10002e+01, 9.20002e+01, 9.30002e+01, 9.40002e+01,\n",
       "       9.50002e+01, 9.60002e+01, 9.70002e+01, 9.80002e+01])},\n",
       "             scoring=&#x27;roc_auc&#x27;, verbose=1)</pre></div></div></div><div class=\"sk-parallel\"><div class=\"sk-parallel-item\"><div class=\"sk-item\"><div class=\"sk-label-container\"><div class=\"sk-label sk-toggleable\"><input class=\"sk-toggleable__control sk-hidden--visually\" id=\"sk-estimator-id-46\" type=\"checkbox\" ><label for=\"sk-estimator-id-46\" class=\"sk-toggleable__label sk-toggleable__label-arrow\">estimator: SVC</label><div class=\"sk-toggleable__content\"><pre>SVC(random_state=0)</pre></div></div></div><div class=\"sk-serial\"><div class=\"sk-item\"><div class=\"sk-estimator sk-toggleable\"><input class=\"sk-toggleable__control sk-hidden--visually\" id=\"sk-estimator-id-47\" type=\"checkbox\" ><label for=\"sk-estimator-id-47\" class=\"sk-toggleable__label sk-toggleable__label-arrow\">SVC</label><div class=\"sk-toggleable__content\"><pre>SVC(random_state=0)</pre></div></div></div></div></div></div></div></div></div></div>"
      ],
      "text/plain": [
       "GridSearchCV(cv=TimeSeriesSplit(gap=1, max_train_size=None, n_splits=2, test_size=None),\n",
       "             estimator=SVC(random_state=0), n_jobs=-1,\n",
       "             param_grid={'C': array([ 0.2,  1.2,  2.2,  3.2,  4.2,  5.2,  6.2,  7.2,  8.2,  9.2, 10.2,\n",
       "       11.2, 12.2, 13.2, 14.2, 15.2, 16.2, 17.2, 18.2, 19.2, 20.2, 21.2,\n",
       "       22.2, 23.2, 24.2, 25.2, 26.2, 27.2, 28.2, 29.2, 30.2, 31.2, 32.2,\n",
       "       33.2, 34.2, 35.2, 36.2, 37.2, 38.2, 39.2, 40.2, 41.2, 42...\n",
       "       7.00002e+01, 7.10002e+01, 7.20002e+01, 7.30002e+01, 7.40002e+01,\n",
       "       7.50002e+01, 7.60002e+01, 7.70002e+01, 7.80002e+01, 7.90002e+01,\n",
       "       8.00002e+01, 8.10002e+01, 8.20002e+01, 8.30002e+01, 8.40002e+01,\n",
       "       8.50002e+01, 8.60002e+01, 8.70002e+01, 8.80002e+01, 8.90002e+01,\n",
       "       9.00002e+01, 9.10002e+01, 9.20002e+01, 9.30002e+01, 9.40002e+01,\n",
       "       9.50002e+01, 9.60002e+01, 9.70002e+01, 9.80002e+01])},\n",
       "             scoring='roc_auc', verbose=1)"
      ]
     },
     "execution_count": 441,
     "metadata": {},
     "output_type": "execute_result"
    }
   ],
   "source": [
    "param_grid = {'gamma':np.arange(0.0002,99), 'C': np.arange(0.2,99)}\n",
    "tscv = TimeSeriesSplit(n_splits=2, gap=1)\n",
    "grid_search = GridSearchCV(model, param_grid, scoring='roc_auc', n_jobs=-1, cv=tscv, verbose=1)\n",
    "grid_search.fit(X_train, y_train)"
   ]
  },
  {
   "attachments": {},
   "cell_type": "markdown",
   "metadata": {},
   "source": [
    "#### Tunned model"
   ]
  },
  {
   "attachments": {},
   "cell_type": "markdown",
   "metadata": {},
   "source": [
    "Now, let´s train the model using the best parameter searched"
   ]
  },
  {
   "cell_type": "code",
   "execution_count": 442,
   "metadata": {},
   "outputs": [
    {
     "data": {
      "text/html": [
       "<style>#sk-container-id-34 {color: black;background-color: white;}#sk-container-id-34 pre{padding: 0;}#sk-container-id-34 div.sk-toggleable {background-color: white;}#sk-container-id-34 label.sk-toggleable__label {cursor: pointer;display: block;width: 100%;margin-bottom: 0;padding: 0.3em;box-sizing: border-box;text-align: center;}#sk-container-id-34 label.sk-toggleable__label-arrow:before {content: \"▸\";float: left;margin-right: 0.25em;color: #696969;}#sk-container-id-34 label.sk-toggleable__label-arrow:hover:before {color: black;}#sk-container-id-34 div.sk-estimator:hover label.sk-toggleable__label-arrow:before {color: black;}#sk-container-id-34 div.sk-toggleable__content {max-height: 0;max-width: 0;overflow: hidden;text-align: left;background-color: #f0f8ff;}#sk-container-id-34 div.sk-toggleable__content pre {margin: 0.2em;color: black;border-radius: 0.25em;background-color: #f0f8ff;}#sk-container-id-34 input.sk-toggleable__control:checked~div.sk-toggleable__content {max-height: 200px;max-width: 100%;overflow: auto;}#sk-container-id-34 input.sk-toggleable__control:checked~label.sk-toggleable__label-arrow:before {content: \"▾\";}#sk-container-id-34 div.sk-estimator input.sk-toggleable__control:checked~label.sk-toggleable__label {background-color: #d4ebff;}#sk-container-id-34 div.sk-label input.sk-toggleable__control:checked~label.sk-toggleable__label {background-color: #d4ebff;}#sk-container-id-34 input.sk-hidden--visually {border: 0;clip: rect(1px 1px 1px 1px);clip: rect(1px, 1px, 1px, 1px);height: 1px;margin: -1px;overflow: hidden;padding: 0;position: absolute;width: 1px;}#sk-container-id-34 div.sk-estimator {font-family: monospace;background-color: #f0f8ff;border: 1px dotted black;border-radius: 0.25em;box-sizing: border-box;margin-bottom: 0.5em;}#sk-container-id-34 div.sk-estimator:hover {background-color: #d4ebff;}#sk-container-id-34 div.sk-parallel-item::after {content: \"\";width: 100%;border-bottom: 1px solid gray;flex-grow: 1;}#sk-container-id-34 div.sk-label:hover label.sk-toggleable__label {background-color: #d4ebff;}#sk-container-id-34 div.sk-serial::before {content: \"\";position: absolute;border-left: 1px solid gray;box-sizing: border-box;top: 0;bottom: 0;left: 50%;z-index: 0;}#sk-container-id-34 div.sk-serial {display: flex;flex-direction: column;align-items: center;background-color: white;padding-right: 0.2em;padding-left: 0.2em;position: relative;}#sk-container-id-34 div.sk-item {position: relative;z-index: 1;}#sk-container-id-34 div.sk-parallel {display: flex;align-items: stretch;justify-content: center;background-color: white;position: relative;}#sk-container-id-34 div.sk-item::before, #sk-container-id-34 div.sk-parallel-item::before {content: \"\";position: absolute;border-left: 1px solid gray;box-sizing: border-box;top: 0;bottom: 0;left: 50%;z-index: -1;}#sk-container-id-34 div.sk-parallel-item {display: flex;flex-direction: column;z-index: 1;position: relative;background-color: white;}#sk-container-id-34 div.sk-parallel-item:first-child::after {align-self: flex-end;width: 50%;}#sk-container-id-34 div.sk-parallel-item:last-child::after {align-self: flex-start;width: 50%;}#sk-container-id-34 div.sk-parallel-item:only-child::after {width: 0;}#sk-container-id-34 div.sk-dashed-wrapped {border: 1px dashed gray;margin: 0 0.4em 0.5em 0.4em;box-sizing: border-box;padding-bottom: 0.4em;background-color: white;}#sk-container-id-34 div.sk-label label {font-family: monospace;font-weight: bold;display: inline-block;line-height: 1.2em;}#sk-container-id-34 div.sk-label-container {text-align: center;}#sk-container-id-34 div.sk-container {/* jupyter's `normalize.less` sets `[hidden] { display: none; }` but bootstrap.min.css set `[hidden] { display: none !important; }` so we also need the `!important` here to be able to override the default hidden behavior on the sphinx rendered scikit-learn.org. See: https://github.com/scikit-learn/scikit-learn/issues/21755 */display: inline-block !important;position: relative;}#sk-container-id-34 div.sk-text-repr-fallback {display: none;}</style><div id=\"sk-container-id-34\" class=\"sk-top-container\"><div class=\"sk-text-repr-fallback\"><pre>SVC(C=12.2, gamma=0.0002, random_state=0)</pre><b>In a Jupyter environment, please rerun this cell to show the HTML representation or trust the notebook. <br />On GitHub, the HTML representation is unable to render, please try loading this page with nbviewer.org.</b></div><div class=\"sk-container\" hidden><div class=\"sk-item\"><div class=\"sk-estimator sk-toggleable\"><input class=\"sk-toggleable__control sk-hidden--visually\" id=\"sk-estimator-id-48\" type=\"checkbox\" checked><label for=\"sk-estimator-id-48\" class=\"sk-toggleable__label sk-toggleable__label-arrow\">SVC</label><div class=\"sk-toggleable__content\"><pre>SVC(C=12.2, gamma=0.0002, random_state=0)</pre></div></div></div></div></div>"
      ],
      "text/plain": [
       "SVC(C=12.2, gamma=0.0002, random_state=0)"
      ]
     },
     "execution_count": 442,
     "metadata": {},
     "output_type": "execute_result"
    }
   ],
   "source": [
    "model = SVC(kernel = 'rbf', random_state=0, gamma=grid_search.best_params_['gamma'], C=grid_search.best_params_['C'])\n",
    "model.fit(X_train, y_train)"
   ]
  },
  {
   "cell_type": "code",
   "execution_count": 443,
   "metadata": {},
   "outputs": [],
   "source": [
    "y_pred = model.predict(X_test)"
   ]
  },
  {
   "cell_type": "code",
   "execution_count": 444,
   "metadata": {},
   "outputs": [
    {
     "data": {
      "image/png": "[encoded data removed]",
      "text/plain": [
       "<Figure size 2000x1000 with 2 Axes>"
      ]
     },
     "metadata": {},
     "output_type": "display_data"
    }
   ],
   "source": [
    "# Display confussion matrix\n",
    "disp = ConfusionMatrixDisplay.from_estimator(\n",
    "        model,\n",
    "        X_test,\n",
    "        y_test,\n",
    "        display_labels=model.classes_,\n",
    "        cmap=plt.cm.Blues\n",
    "    )\n",
    "disp.ax_.set_title('Confusion matrix')\n",
    "plt.show()"
   ]
  },
  {
   "cell_type": "code",
   "execution_count": 445,
   "metadata": {},
   "outputs": [
    {
     "data": {
      "image/png": "[encoded data removed]",
      "text/plain": [
       "<Figure size 2000x1000 with 1 Axes>"
      ]
     },
     "metadata": {},
     "output_type": "display_data"
    }
   ],
   "source": [
    "# Display ROCCurve \n",
    "disp_roc = RocCurveDisplay.from_estimator(\n",
    "            model  , \n",
    "            X_test, \n",
    "            y_test,\n",
    "            name='Tuned SVM')\n",
    "disp_roc.ax_.set_title('ROC Curve')\n",
    "plt.show()"
   ]
  },
  {
   "cell_type": "code",
   "execution_count": 446,
   "metadata": {},
   "outputs": [
    {
     "data": {
      "text/plain": [
       "0.5097402597402597"
      ]
     },
     "execution_count": 446,
     "metadata": {},
     "output_type": "execute_result"
    }
   ],
   "source": [
    "accuracy_score(y_test, y_pred)"
   ]
  },
  {
   "cell_type": "code",
   "execution_count": 447,
   "metadata": {},
   "outputs": [
    {
     "name": "stdout",
     "output_type": "stream",
     "text": [
      "              precision    recall  f1-score   support\n",
      "\n",
      "           0       0.38      0.19      0.26       135\n",
      "           1       0.55      0.76      0.63       173\n",
      "\n",
      "    accuracy                           0.51       308\n",
      "   macro avg       0.46      0.47      0.45       308\n",
      "weighted avg       0.47      0.51      0.47       308\n",
      "\n"
     ]
    }
   ],
   "source": [
    "# Classification Report\n",
    "print(classification_report(y_test, y_pred))"
   ]
  },
  {
   "attachments": {},
   "cell_type": "markdown",
   "metadata": {},
   "source": [
    "**Observations**\n",
    "\n",
    "1. After hyperparametrization, model accuracy improved around 10.4%\n",
    "1. Model improved predictor for the uptrend when compared to the downtrend\n"
   ]
  }
 ],
 "metadata": {
  "kernelspec": {
   "display_name": "eqderivs",
   "language": "python",
   "name": "python3"
  },
  "language_info": {
   "codemirror_mode": {
    "name": "ipython",
    "version": 3
   },
   "file_extension": ".py",
   "mimetype": "text/x-python",
   "name": "python",
   "nbconvert_exporter": "python",
   "pygments_lexer": "ipython3",
   "version": "3.12.3"
  },
  "orig_nbformat": 4
 },
 "nbformat": 4,
 "nbformat_minor": 2
}
