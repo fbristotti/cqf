{
 "cells": [
  {
   "attachments": {},
   "cell_type": "markdown",
   "metadata": {},
   "source": [
    "# CQF - Exam 3"
   ]
  },
  {
   "attachments": {},
   "cell_type": "markdown",
   "metadata": {},
   "source": [
    "### Imports"
   ]
  },
  {
   "cell_type": "code",
   "execution_count": 1,
   "metadata": {},
   "outputs": [],
   "source": [
    "import pandas as pd\n",
    "import numpy as np\n",
    "import matplotlib.pyplot as plt\n",
    "%matplotlib inline"
   ]
  },
  {
   "cell_type": "code",
   "execution_count": 7,
   "metadata": {},
   "outputs": [
    {
     "data": {
      "text/html": [
       "<div>\n",
       "<style scoped>\n",
       "    .dataframe tbody tr th:only-of-type {\n",
       "        vertical-align: middle;\n",
       "    }\n",
       "\n",
       "    .dataframe tbody tr th {\n",
       "        vertical-align: top;\n",
       "    }\n",
       "\n",
       "    .dataframe thead th {\n",
       "        text-align: right;\n",
       "    }\n",
       "</style>\n",
       "<table border=\"1\" class=\"dataframe\">\n",
       "  <thead>\n",
       "    <tr style=\"text-align: right;\">\n",
       "      <th></th>\n",
       "      <th>open</th>\n",
       "      <th>high</th>\n",
       "      <th>low</th>\n",
       "      <th>close</th>\n",
       "    </tr>\n",
       "    <tr>\n",
       "      <th>date</th>\n",
       "      <th></th>\n",
       "      <th></th>\n",
       "      <th></th>\n",
       "      <th></th>\n",
       "    </tr>\n",
       "  </thead>\n",
       "  <tbody>\n",
       "    <tr>\n",
       "      <th>2018-05-21</th>\n",
       "      <td>10.296750</td>\n",
       "      <td>10.371707</td>\n",
       "      <td>9.839116</td>\n",
       "      <td>9.882513</td>\n",
       "    </tr>\n",
       "    <tr>\n",
       "      <th>2018-05-22</th>\n",
       "      <td>9.807405</td>\n",
       "      <td>9.997150</td>\n",
       "      <td>9.546507</td>\n",
       "      <td>9.767875</td>\n",
       "    </tr>\n",
       "    <tr>\n",
       "      <th>2018-05-23</th>\n",
       "      <td>9.578131</td>\n",
       "      <td>9.676956</td>\n",
       "      <td>9.198643</td>\n",
       "      <td>9.198643</td>\n",
       "    </tr>\n",
       "    <tr>\n",
       "      <th>2018-05-24</th>\n",
       "      <td>7.925775</td>\n",
       "      <td>8.202485</td>\n",
       "      <td>7.767655</td>\n",
       "      <td>7.937634</td>\n",
       "    </tr>\n",
       "    <tr>\n",
       "      <th>2018-05-25</th>\n",
       "      <td>8.162955</td>\n",
       "      <td>8.408042</td>\n",
       "      <td>7.771608</td>\n",
       "      <td>7.826950</td>\n",
       "    </tr>\n",
       "    <tr>\n",
       "      <th>...</th>\n",
       "      <td>...</td>\n",
       "      <td>...</td>\n",
       "      <td>...</td>\n",
       "      <td>...</td>\n",
       "    </tr>\n",
       "    <tr>\n",
       "      <th>2023-05-15</th>\n",
       "      <td>26.060000</td>\n",
       "      <td>26.150000</td>\n",
       "      <td>25.400000</td>\n",
       "      <td>25.660000</td>\n",
       "    </tr>\n",
       "    <tr>\n",
       "      <th>2023-05-16</th>\n",
       "      <td>26.110000</td>\n",
       "      <td>27.030000</td>\n",
       "      <td>26.080000</td>\n",
       "      <td>26.300000</td>\n",
       "    </tr>\n",
       "    <tr>\n",
       "      <th>2023-05-17</th>\n",
       "      <td>26.600000</td>\n",
       "      <td>26.760000</td>\n",
       "      <td>25.510000</td>\n",
       "      <td>25.660000</td>\n",
       "    </tr>\n",
       "    <tr>\n",
       "      <th>2023-05-18</th>\n",
       "      <td>25.590000</td>\n",
       "      <td>25.850000</td>\n",
       "      <td>25.350000</td>\n",
       "      <td>25.810000</td>\n",
       "    </tr>\n",
       "    <tr>\n",
       "      <th>2023-05-19</th>\n",
       "      <td>26.080000</td>\n",
       "      <td>26.180000</td>\n",
       "      <td>25.640000</td>\n",
       "      <td>25.920000</td>\n",
       "    </tr>\n",
       "  </tbody>\n",
       "</table>\n",
       "<p>1240 rows × 4 columns</p>\n",
       "</div>"
      ],
      "text/plain": [
       "                 open       high        low      close\n",
       "date                                                  \n",
       "2018-05-21  10.296750  10.371707   9.839116   9.882513\n",
       "2018-05-22   9.807405   9.997150   9.546507   9.767875\n",
       "2018-05-23   9.578131   9.676956   9.198643   9.198643\n",
       "2018-05-24   7.925775   8.202485   7.767655   7.937634\n",
       "2018-05-25   8.162955   8.408042   7.771608   7.826950\n",
       "...               ...        ...        ...        ...\n",
       "2023-05-15  26.060000  26.150000  25.400000  25.660000\n",
       "2023-05-16  26.110000  27.030000  26.080000  26.300000\n",
       "2023-05-17  26.600000  26.760000  25.510000  25.660000\n",
       "2023-05-18  25.590000  25.850000  25.350000  25.810000\n",
       "2023-05-19  26.080000  26.180000  25.640000  25.920000\n",
       "\n",
       "[1240 rows x 4 columns]"
      ]
     },
     "execution_count": 7,
     "metadata": {},
     "output_type": "execute_result"
    }
   ],
   "source": [
    "df = pd.read_csv('data.csv', index_col='date', parse_dates=['date'])\n",
    "df"
   ]
  },
  {
   "attachments": {},
   "cell_type": "markdown",
   "metadata": {},
   "source": [
    "### Feature Specification"
   ]
  },
  {
   "cell_type": "code",
   "execution_count": 11,
   "metadata": {},
   "outputs": [],
   "source": [
    "df['oc'] = df.open - df.close\n",
    "df['hl'] = df.high - df.low\n",
    "df['sign'] = np.log(df.close / df.close.shift(1))\n",
    "# momentums\n",
    "for i in range(0,10):\n",
    "    df[f'm{i+1}'] = df.close - df.close.shift(i+1)\n",
    "df['mva10'] = df.close.rolling(window=10).mean()"
   ]
  },
  {
   "cell_type": "code",
   "execution_count": 40,
   "metadata": {},
   "outputs": [
    {
     "data": {
      "text/plain": [
       "1240"
      ]
     },
     "execution_count": 40,
     "metadata": {},
     "output_type": "execute_result"
    }
   ],
   "source": [
    "len(df.index)"
   ]
  },
  {
   "cell_type": "code",
   "execution_count": 44,
   "metadata": {},
   "outputs": [
    {
     "data": {
      "text/plain": [
       "date\n",
       "2018-05-21     9.882513\n",
       "2018-05-22     9.882328\n",
       "2018-05-23     9.881226\n",
       "2018-05-24     9.878094\n",
       "2018-05-25     9.874788\n",
       "                ...    \n",
       "2023-05-15    15.142142\n",
       "2023-05-16    15.160124\n",
       "2023-05-17    15.177045\n",
       "2023-05-18    15.194181\n",
       "2023-05-19    15.211467\n",
       "Name: close, Length: 1240, dtype: float64"
      ]
     },
     "execution_count": 44,
     "metadata": {},
     "output_type": "execute_result"
    }
   ],
   "source": [
    "df.close.ewm(span=len(df.index),adjust=False).mean()"
   ]
  },
  {
   "cell_type": "markdown",
   "metadata": {},
   "source": []
  }
 ],
 "metadata": {
  "kernelspec": {
   "display_name": "eqderivs",
   "language": "python",
   "name": "python3"
  },
  "language_info": {
   "codemirror_mode": {
    "name": "ipython",
    "version": 3
   },
   "file_extension": ".py",
   "mimetype": "text/x-python",
   "name": "python",
   "nbconvert_exporter": "python",
   "pygments_lexer": "ipython3",
   "version": "3.10.6"
  },
  "orig_nbformat": 4
 },
 "nbformat": 4,
 "nbformat_minor": 2
}
