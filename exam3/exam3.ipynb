{
 "cells": [
  {
   "attachments": {},
   "cell_type": "markdown",
   "metadata": {},
   "source": [
    "# CQF - Exam 3"
   ]
  },
  {
   "attachments": {},
   "cell_type": "markdown",
   "metadata": {},
   "source": [
    "### Imports"
   ]
  },
  {
   "cell_type": "code",
   "execution_count": 114,
   "metadata": {},
   "outputs": [],
   "source": [
    "import pandas as pd\n",
    "import numpy as np\n",
    "\n",
    "# Visualization\n",
    "import seaborn as sns\n",
    "plt.style.use('seaborn')\n",
    "import matplotlib.pyplot as plt\n",
    "\n",
    "from sklearn.preprocessing import StandardScaler\n",
    "from sklearn.model_selection import train_test_split\n",
    "from sklearn.svm import SVC\n",
    "from sklearn.metrics import confusion_matrix, accuracy_score, ConfusionMatrixDisplay, classification_report"
   ]
  },
  {
   "attachments": {},
   "cell_type": "markdown",
   "metadata": {},
   "source": [
    "## A. Maths and Feature Engineering"
   ]
  },
  {
   "attachments": {},
   "cell_type": "markdown",
   "metadata": {},
   "source": [
    "### 1. Consider MSE($\\beta$) wrt to the true value $\\beta$ in context of regression methods,\n",
    "\n",
    "$$\n",
    "E\\left[(\\hat{\\beta} - \\beta)^2\\right] = Var[\\hat{\\beta}] + \\left( E[\\hat{\\beta}] - \\beta \\right)^2\n",
    "$$"
   ]
  },
  {
   "attachments": {},
   "cell_type": "markdown",
   "metadata": {},
   "source": [
    "(a) can there exist an estimator with the smaller MSE than minimal least squares?"
   ]
  },
  {
   "attachments": {},
   "cell_type": "markdown",
   "metadata": {},
   "source": [
    "<font color='blue'>\n",
    "\n",
    "The answer is: Yes, may exist a biased estimator with smaller MSE. In this case the estimator would increase a little the bias, $\\left( E[\\hat{\\beta}] - \\beta \\right)^2$ with a larger decrease in variance term $Var[\\hat{\\beta}]$.\n",
    "\n",
    "It is important to note that least square has the smallest mean squared error of all linear estimators **unbiased**.\n",
    "\n",
    "\n",
    "</font>"
   ]
  },
  {
   "attachments": {},
   "cell_type": "markdown",
   "metadata": {},
   "source": [
    "(b) for a prediction, does the MSE measure an irreducible error or model error?"
   ]
  },
  {
   "attachments": {},
   "cell_type": "markdown",
   "metadata": {},
   "source": [
    "<font color='blue'>\n",
    "\n",
    "MSE measure the model error.\n",
    "\n",
    "</font>"
   ]
  },
  {
   "attachments": {},
   "cell_type": "markdown",
   "metadata": {},
   "source": [
    "### 2. What does entropy say about the partitions in a classification problem?"
   ]
  },
  {
   "attachments": {},
   "cell_type": "markdown",
   "metadata": {},
   "source": [
    "(a) high entropy means the partitions are pure"
   ]
  },
  {
   "attachments": {},
   "cell_type": "markdown",
   "metadata": {},
   "source": [
    "(b) high entropy means the partitions are not pure"
   ]
  },
  {
   "attachments": {},
   "cell_type": "markdown",
   "metadata": {},
   "source": [
    "<font color='blue'>\n",
    "\n",
    "Answer: (b) Not pure\n",
    "\n",
    "Entropy is a measure of the randomness in the information being processed. The higher the entropy, the harder it is to draw any conclusions from that information.\n",
    "It is a measure of disorder or purity or unpredictability or uncertainty.\n",
    "Low entropy means less uncertain and high entropy means more uncertain.\n",
    "\n",
    "</font>"
   ]
  },
  {
   "attachments": {},
   "cell_type": "markdown",
   "metadata": {},
   "source": [
    "### 3. Perform subset selection using any of all of a) filter, b) wrapper and, c) embedded methods"
   ]
  },
  {
   "attachments": {},
   "cell_type": "markdown",
   "metadata": {},
   "source": [
    "#### Load dataset"
   ]
  },
  {
   "cell_type": "code",
   "execution_count": 50,
   "metadata": {},
   "outputs": [],
   "source": [
    "df = pd.read_csv('data.csv', index_col='date', parse_dates=['date'])"
   ]
  },
  {
   "attachments": {},
   "cell_type": "markdown",
   "metadata": {},
   "source": [
    "#### Describe dataset"
   ]
  },
  {
   "cell_type": "code",
   "execution_count": 51,
   "metadata": {},
   "outputs": [
    {
     "data": {
      "text/html": [
       "<div>\n",
       "<style scoped>\n",
       "    .dataframe tbody tr th:only-of-type {\n",
       "        vertical-align: middle;\n",
       "    }\n",
       "\n",
       "    .dataframe tbody tr th {\n",
       "        vertical-align: top;\n",
       "    }\n",
       "\n",
       "    .dataframe thead th {\n",
       "        text-align: right;\n",
       "    }\n",
       "</style>\n",
       "<table border=\"1\" class=\"dataframe\">\n",
       "  <thead>\n",
       "    <tr style=\"text-align: right;\">\n",
       "      <th></th>\n",
       "      <th>open</th>\n",
       "      <th>high</th>\n",
       "      <th>low</th>\n",
       "      <th>close</th>\n",
       "    </tr>\n",
       "  </thead>\n",
       "  <tbody>\n",
       "    <tr>\n",
       "      <th>count</th>\n",
       "      <td>1240.000000</td>\n",
       "      <td>1240.000000</td>\n",
       "      <td>1240.000000</td>\n",
       "      <td>1240.000000</td>\n",
       "    </tr>\n",
       "    <tr>\n",
       "      <th>mean</th>\n",
       "      <td>13.421986</td>\n",
       "      <td>13.636153</td>\n",
       "      <td>13.196804</td>\n",
       "      <td>13.414884</td>\n",
       "    </tr>\n",
       "    <tr>\n",
       "      <th>std</th>\n",
       "      <td>5.237729</td>\n",
       "      <td>5.339208</td>\n",
       "      <td>5.150517</td>\n",
       "      <td>5.252697</td>\n",
       "    </tr>\n",
       "    <tr>\n",
       "      <th>min</th>\n",
       "      <td>4.707236</td>\n",
       "      <td>5.179236</td>\n",
       "      <td>4.613687</td>\n",
       "      <td>4.800786</td>\n",
       "    </tr>\n",
       "    <tr>\n",
       "      <th>25%</th>\n",
       "      <td>9.945838</td>\n",
       "      <td>10.127989</td>\n",
       "      <td>9.820758</td>\n",
       "      <td>9.973879</td>\n",
       "    </tr>\n",
       "    <tr>\n",
       "      <th>50%</th>\n",
       "      <td>11.684253</td>\n",
       "      <td>11.839912</td>\n",
       "      <td>11.536278</td>\n",
       "      <td>11.706667</td>\n",
       "    </tr>\n",
       "    <tr>\n",
       "      <th>75%</th>\n",
       "      <td>16.924746</td>\n",
       "      <td>17.212493</td>\n",
       "      <td>16.624367</td>\n",
       "      <td>16.926054</td>\n",
       "    </tr>\n",
       "    <tr>\n",
       "      <th>max</th>\n",
       "      <td>28.526247</td>\n",
       "      <td>30.003359</td>\n",
       "      <td>28.440277</td>\n",
       "      <td>29.479727</td>\n",
       "    </tr>\n",
       "  </tbody>\n",
       "</table>\n",
       "</div>"
      ],
      "text/plain": [
       "              open         high          low        close\n",
       "count  1240.000000  1240.000000  1240.000000  1240.000000\n",
       "mean     13.421986    13.636153    13.196804    13.414884\n",
       "std       5.237729     5.339208     5.150517     5.252697\n",
       "min       4.707236     5.179236     4.613687     4.800786\n",
       "25%       9.945838    10.127989     9.820758     9.973879\n",
       "50%      11.684253    11.839912    11.536278    11.706667\n",
       "75%      16.924746    17.212493    16.624367    16.926054\n",
       "max      28.526247    30.003359    28.440277    29.479727"
      ]
     },
     "execution_count": 51,
     "metadata": {},
     "output_type": "execute_result"
    }
   ],
   "source": [
    "df.describe()"
   ]
  },
  {
   "cell_type": "code",
   "execution_count": 52,
   "metadata": {},
   "outputs": [
    {
     "data": {
      "text/html": [
       "<div>\n",
       "<style scoped>\n",
       "    .dataframe tbody tr th:only-of-type {\n",
       "        vertical-align: middle;\n",
       "    }\n",
       "\n",
       "    .dataframe tbody tr th {\n",
       "        vertical-align: top;\n",
       "    }\n",
       "\n",
       "    .dataframe thead th {\n",
       "        text-align: right;\n",
       "    }\n",
       "</style>\n",
       "<table border=\"1\" class=\"dataframe\">\n",
       "  <thead>\n",
       "    <tr style=\"text-align: right;\">\n",
       "      <th></th>\n",
       "      <th>open</th>\n",
       "      <th>high</th>\n",
       "      <th>low</th>\n",
       "      <th>close</th>\n",
       "    </tr>\n",
       "    <tr>\n",
       "      <th>date</th>\n",
       "      <th></th>\n",
       "      <th></th>\n",
       "      <th></th>\n",
       "      <th></th>\n",
       "    </tr>\n",
       "  </thead>\n",
       "  <tbody>\n",
       "    <tr>\n",
       "      <th>2018-05-21</th>\n",
       "      <td>10.296750</td>\n",
       "      <td>10.371707</td>\n",
       "      <td>9.839116</td>\n",
       "      <td>9.882513</td>\n",
       "    </tr>\n",
       "    <tr>\n",
       "      <th>2018-05-22</th>\n",
       "      <td>9.807405</td>\n",
       "      <td>9.997150</td>\n",
       "      <td>9.546507</td>\n",
       "      <td>9.767875</td>\n",
       "    </tr>\n",
       "    <tr>\n",
       "      <th>2018-05-23</th>\n",
       "      <td>9.578131</td>\n",
       "      <td>9.676956</td>\n",
       "      <td>9.198643</td>\n",
       "      <td>9.198643</td>\n",
       "    </tr>\n",
       "    <tr>\n",
       "      <th>2018-05-24</th>\n",
       "      <td>7.925775</td>\n",
       "      <td>8.202485</td>\n",
       "      <td>7.767655</td>\n",
       "      <td>7.937634</td>\n",
       "    </tr>\n",
       "    <tr>\n",
       "      <th>2018-05-25</th>\n",
       "      <td>8.162955</td>\n",
       "      <td>8.408042</td>\n",
       "      <td>7.771608</td>\n",
       "      <td>7.826950</td>\n",
       "    </tr>\n",
       "  </tbody>\n",
       "</table>\n",
       "</div>"
      ],
      "text/plain": [
       "                 open       high       low     close\n",
       "date                                                \n",
       "2018-05-21  10.296750  10.371707  9.839116  9.882513\n",
       "2018-05-22   9.807405   9.997150  9.546507  9.767875\n",
       "2018-05-23   9.578131   9.676956  9.198643  9.198643\n",
       "2018-05-24   7.925775   8.202485  7.767655  7.937634\n",
       "2018-05-25   8.162955   8.408042  7.771608  7.826950"
      ]
     },
     "execution_count": 52,
     "metadata": {},
     "output_type": "execute_result"
    }
   ],
   "source": [
    "df.head()"
   ]
  },
  {
   "attachments": {},
   "cell_type": "markdown",
   "metadata": {},
   "source": [
    "#### Cleaning & Imputation"
   ]
  },
  {
   "attachments": {},
   "cell_type": "markdown",
   "metadata": {},
   "source": [
    "Check if data is already cleaned, if so no further manipulation required"
   ]
  },
  {
   "cell_type": "code",
   "execution_count": 53,
   "metadata": {},
   "outputs": [
    {
     "data": {
      "text/plain": [
       "open     0\n",
       "high     0\n",
       "low      0\n",
       "close    0\n",
       "dtype: int64"
      ]
     },
     "execution_count": 53,
     "metadata": {},
     "output_type": "execute_result"
    }
   ],
   "source": [
    "df.isnull().sum()"
   ]
  },
  {
   "attachments": {},
   "cell_type": "markdown",
   "metadata": {},
   "source": [
    "### Feature Specification"
   ]
  },
  {
   "cell_type": "code",
   "execution_count": 55,
   "metadata": {},
   "outputs": [],
   "source": [
    "#create features\n",
    "def create_features(df_orig):\n",
    "    df = df_orig.copy()\n",
    "    df['oc'] = df.open - df.close\n",
    "    df['hl'] = df.high - df.low\n",
    "    # momentums\n",
    "    for i in range(0,10):\n",
    "        df[f'm{i+1}'] = df.close - df.close.shift(i+1)\n",
    "    df['ma10'] = df.close.rolling(window=10).mean()\n",
    "    df['ewma'] = df.close.ewm(span=len(df.index),adjust=False).mean()\n",
    "    df.dropna(inplace=True)\n",
    "    return df\n"
   ]
  },
  {
   "attachments": {},
   "cell_type": "markdown",
   "metadata": {},
   "source": [
    "Let´s define the independent variables to be used in the evaluation"
   ]
  },
  {
   "cell_type": "code",
   "execution_count": 71,
   "metadata": {},
   "outputs": [],
   "source": [
    "df_featured = create_features(df)"
   ]
  },
  {
   "attachments": {},
   "cell_type": "markdown",
   "metadata": {},
   "source": [
    "#### Feature Selection"
   ]
  },
  {
   "attachments": {},
   "cell_type": "markdown",
   "metadata": {},
   "source": [
    "Let´s use correlation between features in order to check if we can reduce the number of input variables."
   ]
  },
  {
   "cell_type": "code",
   "execution_count": 72,
   "metadata": {},
   "outputs": [
    {
     "data": {
      "image/png": "[encoded data removed]",
      "text/plain": [
       "<Figure size 2000x1000 with 2 Axes>"
      ]
     },
     "metadata": {},
     "output_type": "display_data"
    }
   ],
   "source": [
    "# remove features that are highly correlated\n",
    "sns.set(rc={'figure.figsize': (20, 10)})\n",
    "\n",
    "sns.heatmap(df_featured.drop(['open', 'high', 'low', 'close'], axis=1).corr()>0.9, \n",
    "            annot=True,  \n",
    "            annot_kws={\"size\": 11}, \n",
    "            fmt=\".2f\", \n",
    "            linewidth=.5, \n",
    "            cmap=\"coolwarm\", \n",
    "            cbar=True); #cmap=\"crest\", virids, magma\n",
    "\n",
    "plt.title('Features Set Correlations');"
   ]
  },
  {
   "cell_type": "code",
   "execution_count": 73,
   "metadata": {},
   "outputs": [],
   "source": [
    "to_drop = ['m6', 'm7', 'm8', 'm9', 'ewma']\n",
    "df_featured.drop(to_drop, axis=1, inplace=True)"
   ]
  },
  {
   "cell_type": "code",
   "execution_count": 74,
   "metadata": {},
   "outputs": [
    {
     "data": {
      "image/png": "[encoded data removed]",
      "text/plain": [
       "<Figure size 2000x1000 with 2 Axes>"
      ]
     },
     "metadata": {},
     "output_type": "display_data"
    }
   ],
   "source": [
    "# remove features that are highly correlated\n",
    "sns.set(rc={'figure.figsize': (20, 10)})\n",
    "\n",
    "sns.heatmap(df_featured.drop(['open', 'high', 'low', 'close'], axis=1).corr()>0.9, \n",
    "            annot=True,  \n",
    "            annot_kws={\"size\": 11}, \n",
    "            fmt=\".2f\", \n",
    "            linewidth=.5, \n",
    "            cmap=\"coolwarm\", \n",
    "            cbar=True); #cmap=\"crest\", virids, magma\n",
    "\n",
    "plt.title('Features Set Correlations');"
   ]
  },
  {
   "cell_type": "code",
   "execution_count": 76,
   "metadata": {},
   "outputs": [
    {
     "data": {
      "text/html": [
       "<div>\n",
       "<style scoped>\n",
       "    .dataframe tbody tr th:only-of-type {\n",
       "        vertical-align: middle;\n",
       "    }\n",
       "\n",
       "    .dataframe tbody tr th {\n",
       "        vertical-align: top;\n",
       "    }\n",
       "\n",
       "    .dataframe thead th {\n",
       "        text-align: right;\n",
       "    }\n",
       "</style>\n",
       "<table border=\"1\" class=\"dataframe\">\n",
       "  <thead>\n",
       "    <tr style=\"text-align: right;\">\n",
       "      <th></th>\n",
       "      <th>open</th>\n",
       "      <th>high</th>\n",
       "      <th>low</th>\n",
       "      <th>close</th>\n",
       "      <th>oc</th>\n",
       "      <th>hl</th>\n",
       "      <th>sign</th>\n",
       "      <th>m1</th>\n",
       "      <th>m2</th>\n",
       "      <th>m3</th>\n",
       "      <th>m4</th>\n",
       "      <th>m5</th>\n",
       "      <th>m10</th>\n",
       "      <th>ma10</th>\n",
       "    </tr>\n",
       "  </thead>\n",
       "  <tbody>\n",
       "    <tr>\n",
       "      <th>count</th>\n",
       "      <td>1230.000000</td>\n",
       "      <td>1230.000000</td>\n",
       "      <td>1230.000000</td>\n",
       "      <td>1230.000000</td>\n",
       "      <td>1230.000000</td>\n",
       "      <td>1230.000000</td>\n",
       "      <td>1230.000000</td>\n",
       "      <td>1230.000000</td>\n",
       "      <td>1230.000000</td>\n",
       "      <td>1230.000000</td>\n",
       "      <td>1230.000000</td>\n",
       "      <td>1230.000000</td>\n",
       "      <td>1230.000000</td>\n",
       "      <td>1230.000000</td>\n",
       "    </tr>\n",
       "    <tr>\n",
       "      <th>mean</th>\n",
       "      <td>13.464187</td>\n",
       "      <td>13.678231</td>\n",
       "      <td>13.241037</td>\n",
       "      <td>13.459112</td>\n",
       "      <td>0.005075</td>\n",
       "      <td>0.437194</td>\n",
       "      <td>0.001073</td>\n",
       "      <td>0.015439</td>\n",
       "      <td>0.031230</td>\n",
       "      <td>0.045991</td>\n",
       "      <td>0.061171</td>\n",
       "      <td>0.076598</td>\n",
       "      <td>0.142205</td>\n",
       "      <td>13.391474</td>\n",
       "    </tr>\n",
       "    <tr>\n",
       "      <th>std</th>\n",
       "      <td>5.236895</td>\n",
       "      <td>5.339447</td>\n",
       "      <td>5.146613</td>\n",
       "      <td>5.249874</td>\n",
       "      <td>0.311505</td>\n",
       "      <td>0.299531</td>\n",
       "      <td>0.030186</td>\n",
       "      <td>0.381179</td>\n",
       "      <td>0.534827</td>\n",
       "      <td>0.650858</td>\n",
       "      <td>0.757934</td>\n",
       "      <td>0.862433</td>\n",
       "      <td>1.282298</td>\n",
       "      <td>5.185692</td>\n",
       "    </tr>\n",
       "    <tr>\n",
       "      <th>min</th>\n",
       "      <td>4.707236</td>\n",
       "      <td>5.179236</td>\n",
       "      <td>4.613687</td>\n",
       "      <td>4.800786</td>\n",
       "      <td>-2.039822</td>\n",
       "      <td>0.087497</td>\n",
       "      <td>-0.352367</td>\n",
       "      <td>-2.883023</td>\n",
       "      <td>-3.929075</td>\n",
       "      <td>-4.609435</td>\n",
       "      <td>-4.350048</td>\n",
       "      <td>-5.396100</td>\n",
       "      <td>-8.260888</td>\n",
       "      <td>5.457758</td>\n",
       "    </tr>\n",
       "    <tr>\n",
       "      <th>25%</th>\n",
       "      <td>9.996309</td>\n",
       "      <td>10.172188</td>\n",
       "      <td>9.859260</td>\n",
       "      <td>10.012680</td>\n",
       "      <td>-0.140572</td>\n",
       "      <td>0.232959</td>\n",
       "      <td>-0.012727</td>\n",
       "      <td>-0.144960</td>\n",
       "      <td>-0.217823</td>\n",
       "      <td>-0.252091</td>\n",
       "      <td>-0.276400</td>\n",
       "      <td>-0.271357</td>\n",
       "      <td>-0.384587</td>\n",
       "      <td>9.961719</td>\n",
       "    </tr>\n",
       "    <tr>\n",
       "      <th>50%</th>\n",
       "      <td>11.708163</td>\n",
       "      <td>11.885520</td>\n",
       "      <td>11.554111</td>\n",
       "      <td>11.720969</td>\n",
       "      <td>0.004252</td>\n",
       "      <td>0.344439</td>\n",
       "      <td>0.001106</td>\n",
       "      <td>0.013172</td>\n",
       "      <td>0.041760</td>\n",
       "      <td>0.062146</td>\n",
       "      <td>0.089299</td>\n",
       "      <td>0.107995</td>\n",
       "      <td>0.193487</td>\n",
       "      <td>11.709020</td>\n",
       "    </tr>\n",
       "    <tr>\n",
       "      <th>75%</th>\n",
       "      <td>16.963984</td>\n",
       "      <td>17.235802</td>\n",
       "      <td>16.674380</td>\n",
       "      <td>16.957445</td>\n",
       "      <td>0.157335</td>\n",
       "      <td>0.544250</td>\n",
       "      <td>0.015818</td>\n",
       "      <td>0.195549</td>\n",
       "      <td>0.284062</td>\n",
       "      <td>0.363005</td>\n",
       "      <td>0.432088</td>\n",
       "      <td>0.501386</td>\n",
       "      <td>0.743815</td>\n",
       "      <td>16.997860</td>\n",
       "    </tr>\n",
       "    <tr>\n",
       "      <th>max</th>\n",
       "      <td>28.526247</td>\n",
       "      <td>30.003359</td>\n",
       "      <td>28.440277</td>\n",
       "      <td>29.479727</td>\n",
       "      <td>1.953853</td>\n",
       "      <td>2.149238</td>\n",
       "      <td>0.200671</td>\n",
       "      <td>1.860068</td>\n",
       "      <td>2.243023</td>\n",
       "      <td>2.743209</td>\n",
       "      <td>3.384073</td>\n",
       "      <td>3.399703</td>\n",
       "      <td>4.347846</td>\n",
       "      <td>26.990519</td>\n",
       "    </tr>\n",
       "  </tbody>\n",
       "</table>\n",
       "</div>"
      ],
      "text/plain": [
       "              open         high          low        close           oc  \\\n",
       "count  1230.000000  1230.000000  1230.000000  1230.000000  1230.000000   \n",
       "mean     13.464187    13.678231    13.241037    13.459112     0.005075   \n",
       "std       5.236895     5.339447     5.146613     5.249874     0.311505   \n",
       "min       4.707236     5.179236     4.613687     4.800786    -2.039822   \n",
       "25%       9.996309    10.172188     9.859260    10.012680    -0.140572   \n",
       "50%      11.708163    11.885520    11.554111    11.720969     0.004252   \n",
       "75%      16.963984    17.235802    16.674380    16.957445     0.157335   \n",
       "max      28.526247    30.003359    28.440277    29.479727     1.953853   \n",
       "\n",
       "                hl         sign           m1           m2           m3  \\\n",
       "count  1230.000000  1230.000000  1230.000000  1230.000000  1230.000000   \n",
       "mean      0.437194     0.001073     0.015439     0.031230     0.045991   \n",
       "std       0.299531     0.030186     0.381179     0.534827     0.650858   \n",
       "min       0.087497    -0.352367    -2.883023    -3.929075    -4.609435   \n",
       "25%       0.232959    -0.012727    -0.144960    -0.217823    -0.252091   \n",
       "50%       0.344439     0.001106     0.013172     0.041760     0.062146   \n",
       "75%       0.544250     0.015818     0.195549     0.284062     0.363005   \n",
       "max       2.149238     0.200671     1.860068     2.243023     2.743209   \n",
       "\n",
       "                m4           m5          m10         ma10  \n",
       "count  1230.000000  1230.000000  1230.000000  1230.000000  \n",
       "mean      0.061171     0.076598     0.142205    13.391474  \n",
       "std       0.757934     0.862433     1.282298     5.185692  \n",
       "min      -4.350048    -5.396100    -8.260888     5.457758  \n",
       "25%      -0.276400    -0.271357    -0.384587     9.961719  \n",
       "50%       0.089299     0.107995     0.193487    11.709020  \n",
       "75%       0.432088     0.501386     0.743815    16.997860  \n",
       "max       3.384073     3.399703     4.347846    26.990519  "
      ]
     },
     "execution_count": 76,
     "metadata": {},
     "output_type": "execute_result"
    }
   ],
   "source": [
    "df_featured.describe()"
   ]
  },
  {
   "attachments": {},
   "cell_type": "markdown",
   "metadata": {},
   "source": [
    "#### Target or Label Definition"
   ]
  },
  {
   "attachments": {},
   "cell_type": "markdown",
   "metadata": {},
   "source": [
    "Now, we will define dependent variable, and for that we will impose a threshold considering positive returns only the ones above 0.25%, thus:\n",
    "\n",
    "$$\n",
    "y_t = \n",
    "    \\begin{cases}\n",
    "        1, & \\text{if $p_{t+1} > 1.0025 * p_t$}\\\\ \n",
    "        0, & \\text{if $p_{t+1}$ otherwise}\n",
    "    \\end{cases}\n",
    "$$"
   ]
  },
  {
   "cell_type": "code",
   "execution_count": 89,
   "metadata": {},
   "outputs": [],
   "source": [
    "y = np.where(df_featured.close.shift(-1) / df_featured.close > 1.0025, 1, 0)"
   ]
  },
  {
   "cell_type": "code",
   "execution_count": 90,
   "metadata": {},
   "outputs": [],
   "source": [
    "X = df_featured[['oc', 'hl']].values"
   ]
  },
  {
   "attachments": {},
   "cell_type": "markdown",
   "metadata": {},
   "source": [
    "#### Split Data"
   ]
  },
  {
   "cell_type": "code",
   "execution_count": 95,
   "metadata": {},
   "outputs": [],
   "source": [
    "X_train, X_test, y_train, y_test = train_test_split(X, y, test_size = 0.25, random_state = 0)"
   ]
  },
  {
   "attachments": {},
   "cell_type": "markdown",
   "metadata": {},
   "source": [
    "#### Feature scaling"
   ]
  },
  {
   "cell_type": "code",
   "execution_count": 96,
   "metadata": {},
   "outputs": [],
   "source": [
    "sc = StandardScaler()\n",
    "X_train = sc.fit_transform(X_train)\n",
    "X_test = sc.transform(X_test)"
   ]
  },
  {
   "attachments": {},
   "cell_type": "markdown",
   "metadata": {},
   "source": [
    "After performing feature scaling, all values will be normalized and looks like this"
   ]
  },
  {
   "cell_type": "code",
   "execution_count": 102,
   "metadata": {},
   "outputs": [
    {
     "data": {
      "text/html": [
       "<div>\n",
       "<style scoped>\n",
       "    .dataframe tbody tr th:only-of-type {\n",
       "        vertical-align: middle;\n",
       "    }\n",
       "\n",
       "    .dataframe tbody tr th {\n",
       "        vertical-align: top;\n",
       "    }\n",
       "\n",
       "    .dataframe thead th {\n",
       "        text-align: right;\n",
       "    }\n",
       "</style>\n",
       "<table border=\"1\" class=\"dataframe\">\n",
       "  <thead>\n",
       "    <tr style=\"text-align: right;\">\n",
       "      <th></th>\n",
       "      <th>0</th>\n",
       "      <th>1</th>\n",
       "    </tr>\n",
       "  </thead>\n",
       "  <tbody>\n",
       "    <tr>\n",
       "      <th>0</th>\n",
       "      <td>0.180279</td>\n",
       "      <td>-0.770954</td>\n",
       "    </tr>\n",
       "    <tr>\n",
       "      <th>1</th>\n",
       "      <td>-0.298236</td>\n",
       "      <td>-1.059884</td>\n",
       "    </tr>\n",
       "    <tr>\n",
       "      <th>2</th>\n",
       "      <td>1.616267</td>\n",
       "      <td>1.821762</td>\n",
       "    </tr>\n",
       "    <tr>\n",
       "      <th>3</th>\n",
       "      <td>-0.793814</td>\n",
       "      <td>1.135772</td>\n",
       "    </tr>\n",
       "    <tr>\n",
       "      <th>4</th>\n",
       "      <td>0.382914</td>\n",
       "      <td>-0.700072</td>\n",
       "    </tr>\n",
       "    <tr>\n",
       "      <th>...</th>\n",
       "      <td>...</td>\n",
       "      <td>...</td>\n",
       "    </tr>\n",
       "    <tr>\n",
       "      <th>917</th>\n",
       "      <td>1.434156</td>\n",
       "      <td>0.225632</td>\n",
       "    </tr>\n",
       "    <tr>\n",
       "      <th>918</th>\n",
       "      <td>1.820085</td>\n",
       "      <td>0.850007</td>\n",
       "    </tr>\n",
       "    <tr>\n",
       "      <th>919</th>\n",
       "      <td>3.064085</td>\n",
       "      <td>2.281022</td>\n",
       "    </tr>\n",
       "    <tr>\n",
       "      <th>920</th>\n",
       "      <td>0.088771</td>\n",
       "      <td>-0.814578</td>\n",
       "    </tr>\n",
       "    <tr>\n",
       "      <th>921</th>\n",
       "      <td>-0.047862</td>\n",
       "      <td>-0.713169</td>\n",
       "    </tr>\n",
       "  </tbody>\n",
       "</table>\n",
       "<p>922 rows × 2 columns</p>\n",
       "</div>"
      ],
      "text/plain": [
       "            0         1\n",
       "0    0.180279 -0.770954\n",
       "1   -0.298236 -1.059884\n",
       "2    1.616267  1.821762\n",
       "3   -0.793814  1.135772\n",
       "4    0.382914 -0.700072\n",
       "..        ...       ...\n",
       "917  1.434156  0.225632\n",
       "918  1.820085  0.850007\n",
       "919  3.064085  2.281022\n",
       "920  0.088771 -0.814578\n",
       "921 -0.047862 -0.713169\n",
       "\n",
       "[922 rows x 2 columns]"
      ]
     },
     "execution_count": 102,
     "metadata": {},
     "output_type": "execute_result"
    }
   ],
   "source": [
    "pd.DataFrame(data=X_train)"
   ]
  },
  {
   "cell_type": "code",
   "execution_count": 105,
   "metadata": {},
   "outputs": [
    {
     "data": {
      "text/html": [
       "<style>#sk-container-id-1 {color: black;background-color: white;}#sk-container-id-1 pre{padding: 0;}#sk-container-id-1 div.sk-toggleable {background-color: white;}#sk-container-id-1 label.sk-toggleable__label {cursor: pointer;display: block;width: 100%;margin-bottom: 0;padding: 0.3em;box-sizing: border-box;text-align: center;}#sk-container-id-1 label.sk-toggleable__label-arrow:before {content: \"▸\";float: left;margin-right: 0.25em;color: #696969;}#sk-container-id-1 label.sk-toggleable__label-arrow:hover:before {color: black;}#sk-container-id-1 div.sk-estimator:hover label.sk-toggleable__label-arrow:before {color: black;}#sk-container-id-1 div.sk-toggleable__content {max-height: 0;max-width: 0;overflow: hidden;text-align: left;background-color: #f0f8ff;}#sk-container-id-1 div.sk-toggleable__content pre {margin: 0.2em;color: black;border-radius: 0.25em;background-color: #f0f8ff;}#sk-container-id-1 input.sk-toggleable__control:checked~div.sk-toggleable__content {max-height: 200px;max-width: 100%;overflow: auto;}#sk-container-id-1 input.sk-toggleable__control:checked~label.sk-toggleable__label-arrow:before {content: \"▾\";}#sk-container-id-1 div.sk-estimator input.sk-toggleable__control:checked~label.sk-toggleable__label {background-color: #d4ebff;}#sk-container-id-1 div.sk-label input.sk-toggleable__control:checked~label.sk-toggleable__label {background-color: #d4ebff;}#sk-container-id-1 input.sk-hidden--visually {border: 0;clip: rect(1px 1px 1px 1px);clip: rect(1px, 1px, 1px, 1px);height: 1px;margin: -1px;overflow: hidden;padding: 0;position: absolute;width: 1px;}#sk-container-id-1 div.sk-estimator {font-family: monospace;background-color: #f0f8ff;border: 1px dotted black;border-radius: 0.25em;box-sizing: border-box;margin-bottom: 0.5em;}#sk-container-id-1 div.sk-estimator:hover {background-color: #d4ebff;}#sk-container-id-1 div.sk-parallel-item::after {content: \"\";width: 100%;border-bottom: 1px solid gray;flex-grow: 1;}#sk-container-id-1 div.sk-label:hover label.sk-toggleable__label {background-color: #d4ebff;}#sk-container-id-1 div.sk-serial::before {content: \"\";position: absolute;border-left: 1px solid gray;box-sizing: border-box;top: 0;bottom: 0;left: 50%;z-index: 0;}#sk-container-id-1 div.sk-serial {display: flex;flex-direction: column;align-items: center;background-color: white;padding-right: 0.2em;padding-left: 0.2em;position: relative;}#sk-container-id-1 div.sk-item {position: relative;z-index: 1;}#sk-container-id-1 div.sk-parallel {display: flex;align-items: stretch;justify-content: center;background-color: white;position: relative;}#sk-container-id-1 div.sk-item::before, #sk-container-id-1 div.sk-parallel-item::before {content: \"\";position: absolute;border-left: 1px solid gray;box-sizing: border-box;top: 0;bottom: 0;left: 50%;z-index: -1;}#sk-container-id-1 div.sk-parallel-item {display: flex;flex-direction: column;z-index: 1;position: relative;background-color: white;}#sk-container-id-1 div.sk-parallel-item:first-child::after {align-self: flex-end;width: 50%;}#sk-container-id-1 div.sk-parallel-item:last-child::after {align-self: flex-start;width: 50%;}#sk-container-id-1 div.sk-parallel-item:only-child::after {width: 0;}#sk-container-id-1 div.sk-dashed-wrapped {border: 1px dashed gray;margin: 0 0.4em 0.5em 0.4em;box-sizing: border-box;padding-bottom: 0.4em;background-color: white;}#sk-container-id-1 div.sk-label label {font-family: monospace;font-weight: bold;display: inline-block;line-height: 1.2em;}#sk-container-id-1 div.sk-label-container {text-align: center;}#sk-container-id-1 div.sk-container {/* jupyter's `normalize.less` sets `[hidden] { display: none; }` but bootstrap.min.css set `[hidden] { display: none !important; }` so we also need the `!important` here to be able to override the default hidden behavior on the sphinx rendered scikit-learn.org. See: https://github.com/scikit-learn/scikit-learn/issues/21755 */display: inline-block !important;position: relative;}#sk-container-id-1 div.sk-text-repr-fallback {display: none;}</style><div id=\"sk-container-id-1\" class=\"sk-top-container\"><div class=\"sk-text-repr-fallback\"><pre>SVC(random_state=0)</pre><b>In a Jupyter environment, please rerun this cell to show the HTML representation or trust the notebook. <br />On GitHub, the HTML representation is unable to render, please try loading this page with nbviewer.org.</b></div><div class=\"sk-container\" hidden><div class=\"sk-item\"><div class=\"sk-estimator sk-toggleable\"><input class=\"sk-toggleable__control sk-hidden--visually\" id=\"sk-estimator-id-1\" type=\"checkbox\" checked><label for=\"sk-estimator-id-1\" class=\"sk-toggleable__label sk-toggleable__label-arrow\">SVC</label><div class=\"sk-toggleable__content\"><pre>SVC(random_state=0)</pre></div></div></div></div></div>"
      ],
      "text/plain": [
       "SVC(random_state=0)"
      ]
     },
     "execution_count": 105,
     "metadata": {},
     "output_type": "execute_result"
    }
   ],
   "source": [
    "classifier = SVC(kernel = 'rbf', random_state=0)\n",
    "classifier.fit(X_train, y_train)"
   ]
  },
  {
   "cell_type": "code",
   "execution_count": 106,
   "metadata": {},
   "outputs": [],
   "source": [
    "y_pred = classifier.predict(X_test)"
   ]
  },
  {
   "cell_type": "code",
   "execution_count": 107,
   "metadata": {},
   "outputs": [
    {
     "data": {
      "text/html": [
       "<div>\n",
       "<style scoped>\n",
       "    .dataframe tbody tr th:only-of-type {\n",
       "        vertical-align: middle;\n",
       "    }\n",
       "\n",
       "    .dataframe tbody tr th {\n",
       "        vertical-align: top;\n",
       "    }\n",
       "\n",
       "    .dataframe thead th {\n",
       "        text-align: right;\n",
       "    }\n",
       "</style>\n",
       "<table border=\"1\" class=\"dataframe\">\n",
       "  <thead>\n",
       "    <tr style=\"text-align: right;\">\n",
       "      <th></th>\n",
       "      <th>0</th>\n",
       "    </tr>\n",
       "  </thead>\n",
       "  <tbody>\n",
       "    <tr>\n",
       "      <th>0</th>\n",
       "      <td>0</td>\n",
       "    </tr>\n",
       "    <tr>\n",
       "      <th>1</th>\n",
       "      <td>0</td>\n",
       "    </tr>\n",
       "    <tr>\n",
       "      <th>2</th>\n",
       "      <td>0</td>\n",
       "    </tr>\n",
       "    <tr>\n",
       "      <th>3</th>\n",
       "      <td>0</td>\n",
       "    </tr>\n",
       "    <tr>\n",
       "      <th>4</th>\n",
       "      <td>0</td>\n",
       "    </tr>\n",
       "    <tr>\n",
       "      <th>...</th>\n",
       "      <td>...</td>\n",
       "    </tr>\n",
       "    <tr>\n",
       "      <th>303</th>\n",
       "      <td>0</td>\n",
       "    </tr>\n",
       "    <tr>\n",
       "      <th>304</th>\n",
       "      <td>0</td>\n",
       "    </tr>\n",
       "    <tr>\n",
       "      <th>305</th>\n",
       "      <td>0</td>\n",
       "    </tr>\n",
       "    <tr>\n",
       "      <th>306</th>\n",
       "      <td>1</td>\n",
       "    </tr>\n",
       "    <tr>\n",
       "      <th>307</th>\n",
       "      <td>0</td>\n",
       "    </tr>\n",
       "  </tbody>\n",
       "</table>\n",
       "<p>308 rows × 1 columns</p>\n",
       "</div>"
      ],
      "text/plain": [
       "     0\n",
       "0    0\n",
       "1    0\n",
       "2    0\n",
       "3    0\n",
       "4    0\n",
       "..  ..\n",
       "303  0\n",
       "304  0\n",
       "305  0\n",
       "306  1\n",
       "307  0\n",
       "\n",
       "[308 rows x 1 columns]"
      ]
     },
     "execution_count": 107,
     "metadata": {},
     "output_type": "execute_result"
    }
   ],
   "source": [
    "pd.DataFrame(data=y_pred)"
   ]
  },
  {
   "cell_type": "code",
   "execution_count": 112,
   "metadata": {},
   "outputs": [
    {
     "data": {
      "image/png": "[encoded data removed]",
      "text/plain": [
       "<Figure size 800x550 with 2 Axes>"
      ]
     },
     "metadata": {},
     "output_type": "display_data"
    }
   ],
   "source": [
    "# Display confussion matrix\n",
    "disp = ConfusionMatrixDisplay.from_estimator(\n",
    "        classifier,\n",
    "        X_test,\n",
    "        y_test,\n",
    "        display_labels=classifier.classes_,\n",
    "        cmap=plt.cm.Blues\n",
    "    )\n",
    "disp.ax_.set_title('Confusion matrix')\n",
    "plt.show()"
   ]
  },
  {
   "cell_type": "code",
   "execution_count": 115,
   "metadata": {},
   "outputs": [
    {
     "name": "stdout",
     "output_type": "stream",
     "text": [
      "              precision    recall  f1-score   support\n",
      "\n",
      "           0       0.46      0.74      0.57       148\n",
      "           1       0.46      0.20      0.28       160\n",
      "\n",
      "    accuracy                           0.46       308\n",
      "   macro avg       0.46      0.47      0.42       308\n",
      "weighted avg       0.46      0.46      0.42       308\n",
      "\n"
     ]
    }
   ],
   "source": [
    "# Classification Report\n",
    "print(classification_report(y_test, y_pred))"
   ]
  },
  {
   "cell_type": "code",
   "execution_count": 116,
   "metadata": {},
   "outputs": [],
   "source": [
    "from matplotlib.colors import ListedColormap\n",
    "X_set, y_set = X_test, y_test\n",
    "X1, X2 = np.meshgrid(np.arange(start = X_set[:, 0].min() - 1, stop = X_set[:, 0].max() + 1, step = 0.01),\n",
    "                     np.arange(start = X_set[:, 1].min() - 1, stop = X_set[:, 1].max() + 1, step = 0.01))\n",
    "plt.contourf(X1, X2, classifier.predict(np.array([X1.ravel(), X2.ravel()]).T).reshape(X1.shape),\n",
    "             alpha = 0.75, cmap = ListedColormap(('red', 'green')))\n",
    "plt.xlim(X1.min(), X1.max())\n",
    "plt.ylim(X2.min(), X2.max())\n",
    "for i, j in enumerate(np.unique(y_set)):\n",
    "    plt.scatter(X_set[y_set == j, 0], X_set[y_set == j, 1],\n",
    "                c = ListedColormap(('red', 'green'))(i), label = j)\n",
    "plt.title('SVM (Test set)')\n",
    "plt.xlabel('Age')\n",
    "plt.ylabel('Estimated Salary')\n",
    "plt.legend()\n",
    "plt.show()"
   ]
  }
 ],
 "metadata": {
  "kernelspec": {
   "display_name": "eqderivs",
   "language": "python",
   "name": "python3"
  },
  "language_info": {
   "codemirror_mode": {
    "name": "ipython",
    "version": 3
   },
   "file_extension": ".py",
   "mimetype": "text/x-python",
   "name": "python",
   "nbconvert_exporter": "python",
   "pygments_lexer": "ipython3",
   "version": "3.10.6"
  },
  "orig_nbformat": 4
 },
 "nbformat": 4,
 "nbformat_minor": 2
}
