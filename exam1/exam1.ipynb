{
 "cells": [
  {
   "attachments": {},
   "cell_type": "markdown",
   "metadata": {},
   "source": [
    "# CQF - Exam 1 - Optimal Portfolio Allocation"
   ]
  },
  {
   "attachments": {},
   "cell_type": "markdown",
   "metadata": {},
   "source": [
    "### Python imports"
   ]
  },
  {
   "cell_type": "code",
   "execution_count": 1,
   "metadata": {},
   "outputs": [],
   "source": [
    "import pandas as pd\n",
    "import numpy as np"
   ]
  },
  {
   "attachments": {},
   "cell_type": "markdown",
   "metadata": {},
   "source": [
    "An investment universe of the following risky assets with a dependency structure (correlation) is given:"
   ]
  },
  {
   "cell_type": "code",
   "execution_count": 2,
   "metadata": {},
   "outputs": [
    {
     "data": {
      "text/html": [
       "<div>\n",
       "<style scoped>\n",
       "    .dataframe tbody tr th:only-of-type {\n",
       "        vertical-align: middle;\n",
       "    }\n",
       "\n",
       "    .dataframe tbody tr th {\n",
       "        vertical-align: top;\n",
       "    }\n",
       "\n",
       "    .dataframe thead th {\n",
       "        text-align: right;\n",
       "    }\n",
       "</style>\n",
       "<table border=\"1\" class=\"dataframe\">\n",
       "  <thead>\n",
       "    <tr style=\"text-align: right;\">\n",
       "      <th></th>\n",
       "      <th>asset</th>\n",
       "      <th>mu</th>\n",
       "      <th>sigma</th>\n",
       "    </tr>\n",
       "  </thead>\n",
       "  <tbody>\n",
       "    <tr>\n",
       "      <th>0</th>\n",
       "      <td>A</td>\n",
       "      <td>0.02</td>\n",
       "      <td>0.05</td>\n",
       "    </tr>\n",
       "    <tr>\n",
       "      <th>1</th>\n",
       "      <td>B</td>\n",
       "      <td>0.07</td>\n",
       "      <td>0.12</td>\n",
       "    </tr>\n",
       "    <tr>\n",
       "      <th>2</th>\n",
       "      <td>C</td>\n",
       "      <td>0.15</td>\n",
       "      <td>0.17</td>\n",
       "    </tr>\n",
       "    <tr>\n",
       "      <th>3</th>\n",
       "      <td>D</td>\n",
       "      <td>0.20</td>\n",
       "      <td>0.25</td>\n",
       "    </tr>\n",
       "  </tbody>\n",
       "</table>\n",
       "</div>"
      ],
      "text/plain": [
       "  asset    mu  sigma\n",
       "0     A  0.02   0.05\n",
       "1     B  0.07   0.12\n",
       "2     C  0.15   0.17\n",
       "3     D  0.20   0.25"
      ]
     },
     "execution_count": 2,
     "metadata": {},
     "output_type": "execute_result"
    }
   ],
   "source": [
    "assets = pd.DataFrame(\n",
    "    data=[\n",
    "        ['A', 0.02, 0.05],\n",
    "        ['B', 0.07, 0.12],\n",
    "        ['C', 0.15, 0.17],\n",
    "        ['D', 0.20, 0.25],\n",
    "        ], \n",
    "    columns=['asset', 'mu', 'sigma'])\n",
    "assets"
   ]
  },
  {
   "cell_type": "code",
   "execution_count": 3,
   "metadata": {},
   "outputs": [
    {
     "data": {
      "text/plain": [
       "matrix([[1. , 0.3, 0.3, 0.3],\n",
       "        [0.3, 1. , 0.6, 0.6],\n",
       "        [0.3, 0.6, 1. , 0.6],\n",
       "        [0.3, 0.6, 0.6, 1. ]])"
      ]
     },
     "execution_count": 3,
     "metadata": {},
     "output_type": "execute_result"
    }
   ],
   "source": [
    "R = np.matrix([\n",
    "        [1.0, 0.3, 0.3, 0.3],\n",
    "        [0.3, 1.0, 0.6, 0.6],\n",
    "        [0.3, 0.6, 1.0, 0.6 ],\n",
    "        [0.3, 0.6, 0.6, 1.0],\n",
    "        ])\n",
    "R"
   ]
  },
  {
   "attachments": {},
   "cell_type": "markdown",
   "metadata": {},
   "source": [
    "## Question 1"
   ]
  },
  {
   "attachments": {},
   "cell_type": "markdown",
   "metadata": {},
   "source": [
    "Consider mininum variance portfolio with a target return $m$\n",
    "\n",
    "\n",
    "$$\\underset{w}{argmin}\\frac{1}{2}w^{'}\\sum{w}$$\n",
    "\n",
    "$s.t.$ \n",
    "\n",
    "$$w^{'}\\mathbf{1} = 1$$\n",
    "\n",
    "$$\\mu_{\\pi} = w^{'}\\mu = m$$"
   ]
  },
  {
   "attachments": {},
   "cell_type": "markdown",
   "metadata": {},
   "source": [
    "- Formulate the Lagrangian and give its partial derivatives"
   ]
  },
  {
   "attachments": {},
   "cell_type": "markdown",
   "metadata": {},
   "source": [
    "<font color='blue'>We form the Lagrange function with tow Lagrange multipliers $\\lambda$ and $\\gamma$:\n",
    "\n",
    "$$L(w,\\lambda,\\gamma) = \\frac{1}{2} w^{'}\\sum{w} + \\lambda(m-w^{'}\\mu) + \\gamma(1-w^{'}\\mathbf{1})$$\n",
    "\n",
    "with partial derivatives:\n",
    "\n",
    "$$\\frac{\\partial{L}}{\\partial{w}} = \\sum{w} - \\lambda\\mu - \\gamma$$\n",
    "\n",
    "$$\\frac{\\partial{L}}{\\partial{\\lambda}} = m - w^{'}\\mu$$\n",
    "\n",
    "$$\\frac{\\partial{L}}{\\partial{\\gamma}} = 1 - w^{'}\\mathbf{1}$$\n",
    "\n",
    "</font>"
   ]
  },
  {
   "attachments": {},
   "cell_type": "markdown",
   "metadata": {},
   "source": [
    "- Write down the anlytical solution for optimal allocations $w^{*}$ (derivation not required)"
   ]
  },
  {
   "attachments": {},
   "cell_type": "markdown",
   "metadata": {},
   "source": [
    "<font color='blue'>\n",
    "\n",
    "$$w^* = \\frac{1}{(AC-B^2)} \\sum^{-1}[(A\\mu-B\\mathbf{1})m + (C\\mathbf{1}-B\\mu)]$$\n",
    "\n",
    "where:\n",
    "\n",
    "$$\n",
    "\\begin{equation}\n",
    "    \\begin{cases}\n",
    "        A=\\mathbf{1}^{'}\\sum^{-1}\\mathbf{1}\\\\\n",
    "        B=\\mathbf{1}^{'}\\sum^{-1}\\mu\\\\\n",
    "        C=\\mu^{'}\\sum^{-1}\\mu\n",
    "    \\end{cases}\n",
    "\\end{equation}\n",
    "$$\n",
    "\n",
    "</font>"
   ]
  },
  {
   "attachments": {},
   "cell_type": "markdown",
   "metadata": {},
   "source": [
    "- Inverse optmization: generate above $700$ random allocation sets (vectors) 4x1, those will not be optimal allocations.\n",
    "\n",
    "    Standardise each set to satisfy $w^{'}\\mathbf{1} = 1$\n",
    "    For each vector of allocations compute $\\mu_{\\pi} = w^{'}\\mu$ and $\\sigma_{\\pi} = \\sqrt{w^{'}\\sum{w}}$"
   ]
  },
  {
   "cell_type": "code",
   "execution_count": 222,
   "metadata": {},
   "outputs": [
    {
     "data": {
      "text/plain": [
       "<AxesSubplot:xlabel='sigma', ylabel='mu'>"
      ]
     },
     "execution_count": 222,
     "metadata": {},
     "output_type": "execute_result"
    },
    {
     "data": {
      "image/png": "[encoded data removed]",
      "text/plain": [
       "<Figure size 640x480 with 1 Axes>"
      ]
     },
     "metadata": {},
     "output_type": "display_data"
    }
   ],
   "source": [
    "def gen_w(size):\n",
    "    w = np.array([np.random.uniform() for i in range(0,size,1)])\n",
    "    return w / w.sum()\n",
    "\n",
    "n_assets = 4\n",
    "cases = 10000\n",
    "mu = np.array([0.02,0.07,0.15,0.2])\n",
    "W = [gen_w(n_assets) for i in range(0,cases,1)]\n",
    "\n",
    "data = [[np.dot(mu, w),np.sqrt(np.dot(np.dot(w,R),w).sum())] for w in W]\n",
    "df_simul = pd.DataFrame(data=data,columns=['mu','sigma'])\n",
    "df_simul.plot.scatter(x='sigma', y='mu', label='Simulated Portfolio based on Efficient Frontier')"
   ]
  },
  {
   "attachments": {},
   "cell_type": "markdown",
   "metadata": {},
   "source": [
    "<font color='blue'> \n",
    "The plot above shows the efficient frontier based on the simulation of different weighted portfolios simulation of \n",
    "</font>"
   ]
  },
  {
   "attachments": {},
   "cell_type": "markdown",
   "metadata": {},
   "source": [
    "## Question 2"
   ]
  },
  {
   "attachments": {},
   "cell_type": "markdown",
   "metadata": {},
   "source": [
    "Consider optmization for a tangency portfolio (maximum Sharpe Ratio)."
   ]
  },
  {
   "attachments": {},
   "cell_type": "markdown",
   "metadata": {},
   "source": [
    "- Formulate optimisation expression"
   ]
  },
  {
   "attachments": {},
   "cell_type": "markdown",
   "metadata": {},
   "source": [
    "<font color='blue'>\n",
    "\n",
    "$$ \\underset{w}{min} \\frac{1}{2} w~{'}\\sum{w}$$\n",
    "\n",
    "subject to:\n",
    "\n",
    "$$r + w^{'}(\\mu - r\\mathbf{1}) = m$$\n",
    "\n",
    "</font>"
   ]
  },
  {
   "attachments": {},
   "cell_type": "markdown",
   "metadata": {},
   "source": [
    "- Formulate Lagrangian function and give its partial derivatives only"
   ]
  },
  {
   "attachments": {},
   "cell_type": "markdown",
   "metadata": {},
   "source": [
    "<font color='blue'>\n",
    "\n",
    "As residual of wealth not invested in risky assets will be invested in risk free, the budget constraint has been removed\n",
    "\n",
    "$$L(x,\\lambda) = \\frac{1}{2} w^{'} \\sum{w} + \\lambda(m - r - w^{'}(\\mu-r\\mathbf{1}))$$\n",
    "\n",
    "$$\\frac{\\partial{L}}{\\partial{w}} = \\sum{w} - \\lambda(\\mu - r \\mathbf{1})$$\n",
    "\n",
    "\n",
    "<font>"
   ]
  },
  {
   "attachments": {},
   "cell_type": "markdown",
   "metadata": {},
   "source": [
    "- For the range of tangency portfolios given by $r_f=50bps, 100bps, 150bps, 175bps$ optimal compute allocations (ready formula) and $\\sigma_{\\pi}$.\n",
    " \n",
    "    Plot the efficient frontier in the presence of a risk-free aset for $r_f=100bps, 175bps$."
   ]
  },
  {
   "cell_type": "code",
   "execution_count": 223,
   "metadata": {},
   "outputs": [],
   "source": [
    "df_simul['sharpe_50bps'] = (df_simul.mu - 0.005) / df_simul.sigma"
   ]
  },
  {
   "cell_type": "code",
   "execution_count": 224,
   "metadata": {},
   "outputs": [
    {
     "data": {
      "text/html": [
       "<div>\n",
       "<style scoped>\n",
       "    .dataframe tbody tr th:only-of-type {\n",
       "        vertical-align: middle;\n",
       "    }\n",
       "\n",
       "    .dataframe tbody tr th {\n",
       "        vertical-align: top;\n",
       "    }\n",
       "\n",
       "    .dataframe thead th {\n",
       "        text-align: right;\n",
       "    }\n",
       "</style>\n",
       "<table border=\"1\" class=\"dataframe\">\n",
       "  <thead>\n",
       "    <tr style=\"text-align: right;\">\n",
       "      <th></th>\n",
       "      <th>mu</th>\n",
       "      <th>sigma</th>\n",
       "      <th>sharpe_50bps</th>\n",
       "    </tr>\n",
       "  </thead>\n",
       "  <tbody>\n",
       "    <tr>\n",
       "      <th>0</th>\n",
       "      <td>0.123918</td>\n",
       "      <td>0.792736</td>\n",
       "      <td>0.150010</td>\n",
       "    </tr>\n",
       "    <tr>\n",
       "      <th>1</th>\n",
       "      <td>0.092231</td>\n",
       "      <td>0.905786</td>\n",
       "      <td>0.096305</td>\n",
       "    </tr>\n",
       "    <tr>\n",
       "      <th>2</th>\n",
       "      <td>0.079333</td>\n",
       "      <td>0.771035</td>\n",
       "      <td>0.096407</td>\n",
       "    </tr>\n",
       "    <tr>\n",
       "      <th>3</th>\n",
       "      <td>0.134444</td>\n",
       "      <td>0.842803</td>\n",
       "      <td>0.153587</td>\n",
       "    </tr>\n",
       "    <tr>\n",
       "      <th>4</th>\n",
       "      <td>0.101065</td>\n",
       "      <td>0.826945</td>\n",
       "      <td>0.116168</td>\n",
       "    </tr>\n",
       "    <tr>\n",
       "      <th>...</th>\n",
       "      <td>...</td>\n",
       "      <td>...</td>\n",
       "      <td>...</td>\n",
       "    </tr>\n",
       "    <tr>\n",
       "      <th>9995</th>\n",
       "      <td>0.111853</td>\n",
       "      <td>0.775993</td>\n",
       "      <td>0.137698</td>\n",
       "    </tr>\n",
       "    <tr>\n",
       "      <th>9996</th>\n",
       "      <td>0.113661</td>\n",
       "      <td>0.762259</td>\n",
       "      <td>0.142552</td>\n",
       "    </tr>\n",
       "    <tr>\n",
       "      <th>9997</th>\n",
       "      <td>0.143140</td>\n",
       "      <td>0.837333</td>\n",
       "      <td>0.164977</td>\n",
       "    </tr>\n",
       "    <tr>\n",
       "      <th>9998</th>\n",
       "      <td>0.141774</td>\n",
       "      <td>0.836102</td>\n",
       "      <td>0.163585</td>\n",
       "    </tr>\n",
       "    <tr>\n",
       "      <th>9999</th>\n",
       "      <td>0.093168</td>\n",
       "      <td>0.756693</td>\n",
       "      <td>0.116518</td>\n",
       "    </tr>\n",
       "  </tbody>\n",
       "</table>\n",
       "<p>10000 rows × 3 columns</p>\n",
       "</div>"
      ],
      "text/plain": [
       "            mu     sigma  sharpe_50bps\n",
       "0     0.123918  0.792736      0.150010\n",
       "1     0.092231  0.905786      0.096305\n",
       "2     0.079333  0.771035      0.096407\n",
       "3     0.134444  0.842803      0.153587\n",
       "4     0.101065  0.826945      0.116168\n",
       "...        ...       ...           ...\n",
       "9995  0.111853  0.775993      0.137698\n",
       "9996  0.113661  0.762259      0.142552\n",
       "9997  0.143140  0.837333      0.164977\n",
       "9998  0.141774  0.836102      0.163585\n",
       "9999  0.093168  0.756693      0.116518\n",
       "\n",
       "[10000 rows x 3 columns]"
      ]
     },
     "execution_count": 224,
     "metadata": {},
     "output_type": "execute_result"
    }
   ],
   "source": [
    "df_simul"
   ]
  }
 ],
 "metadata": {
  "kernelspec": {
   "display_name": "eqderivs",
   "language": "python",
   "name": "python3"
  },
  "language_info": {
   "codemirror_mode": {
    "name": "ipython",
    "version": 3
   },
   "file_extension": ".py",
   "mimetype": "text/x-python",
   "name": "python",
   "nbconvert_exporter": "python",
   "pygments_lexer": "ipython3",
   "version": "3.10.6"
  },
  "orig_nbformat": 4
 },
 "nbformat": 4,
 "nbformat_minor": 2
}
