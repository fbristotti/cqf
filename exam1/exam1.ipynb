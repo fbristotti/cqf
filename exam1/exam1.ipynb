{
 "cells": [
  {
   "attachments": {},
   "cell_type": "markdown",
   "metadata": {},
   "source": [
    "# CQF - Exam 1 - Optimal Portfolio Allocation"
   ]
  },
  {
   "attachments": {},
   "cell_type": "markdown",
   "metadata": {},
   "source": [
    "### Python imports"
   ]
  },
  {
   "cell_type": "code",
   "execution_count": 2,
   "metadata": {},
   "outputs": [],
   "source": [
    "import pandas as pd\n",
    "import numpy as np"
   ]
  },
  {
   "attachments": {},
   "cell_type": "markdown",
   "metadata": {},
   "source": [
    "An investment universe of the following risky assets with a dependency structure (correlation) is given:"
   ]
  },
  {
   "cell_type": "code",
   "execution_count": 3,
   "metadata": {},
   "outputs": [
    {
     "data": {
      "text/html": [
       "<div>\n",
       "<style scoped>\n",
       "    .dataframe tbody tr th:only-of-type {\n",
       "        vertical-align: middle;\n",
       "    }\n",
       "\n",
       "    .dataframe tbody tr th {\n",
       "        vertical-align: top;\n",
       "    }\n",
       "\n",
       "    .dataframe thead th {\n",
       "        text-align: right;\n",
       "    }\n",
       "</style>\n",
       "<table border=\"1\" class=\"dataframe\">\n",
       "  <thead>\n",
       "    <tr style=\"text-align: right;\">\n",
       "      <th></th>\n",
       "      <th>asset</th>\n",
       "      <th>mu</th>\n",
       "      <th>sigma</th>\n",
       "    </tr>\n",
       "  </thead>\n",
       "  <tbody>\n",
       "    <tr>\n",
       "      <th>0</th>\n",
       "      <td>A</td>\n",
       "      <td>0.02</td>\n",
       "      <td>0.05</td>\n",
       "    </tr>\n",
       "    <tr>\n",
       "      <th>1</th>\n",
       "      <td>B</td>\n",
       "      <td>0.07</td>\n",
       "      <td>0.12</td>\n",
       "    </tr>\n",
       "    <tr>\n",
       "      <th>2</th>\n",
       "      <td>C</td>\n",
       "      <td>0.15</td>\n",
       "      <td>0.17</td>\n",
       "    </tr>\n",
       "    <tr>\n",
       "      <th>3</th>\n",
       "      <td>D</td>\n",
       "      <td>0.20</td>\n",
       "      <td>0.25</td>\n",
       "    </tr>\n",
       "  </tbody>\n",
       "</table>\n",
       "</div>"
      ],
      "text/plain": [
       "  asset    mu  sigma\n",
       "0     A  0.02   0.05\n",
       "1     B  0.07   0.12\n",
       "2     C  0.15   0.17\n",
       "3     D  0.20   0.25"
      ]
     },
     "execution_count": 3,
     "metadata": {},
     "output_type": "execute_result"
    }
   ],
   "source": [
    "assets = pd.DataFrame(\n",
    "    data=[\n",
    "        ['A', 0.02, 0.05],\n",
    "        ['B', 0.07, 0.12],\n",
    "        ['C', 0.15, 0.17],\n",
    "        ['D', 0.20, 0.25],\n",
    "        ], \n",
    "    columns=['asset', 'mu', 'sigma'])\n",
    "assets"
   ]
  },
  {
   "cell_type": "code",
   "execution_count": 4,
   "metadata": {},
   "outputs": [
    {
     "data": {
      "text/plain": [
       "matrix([[1. , 0.3, 0.3, 0.3],\n",
       "        [0.3, 1. , 0.6, 0.6],\n",
       "        [0.3, 0.6, 1. , 0.6],\n",
       "        [0.3, 0.6, 0.6, 1. ]])"
      ]
     },
     "execution_count": 4,
     "metadata": {},
     "output_type": "execute_result"
    }
   ],
   "source": [
    "R = np.matrix([\n",
    "        [1.0, 0.3, 0.3, 0.3],\n",
    "        [0.3, 1.0, 0.6, 0.6],\n",
    "        [0.3, 0.6, 1.0, 0.6 ],\n",
    "        [0.3, 0.6, 0.6, 1.0],\n",
    "        ])\n",
    "R"
   ]
  },
  {
   "attachments": {},
   "cell_type": "markdown",
   "metadata": {},
   "source": [
    "## Question 1"
   ]
  },
  {
   "attachments": {},
   "cell_type": "markdown",
   "metadata": {},
   "source": [
    "Consider mininum variance portfolio with a target return $m$\n",
    "\n",
    "\n",
    "$$\\argmin_{w}\\frac{1}{2}w^{'}\\sum{w}$$\n",
    "\n",
    "$s.t.$ \n",
    "\n",
    "$$w^{'}\\mathbf{1} = 1$$\n",
    "\n",
    "$$\\mu_{\\pi} = w^{'}\\mu = m$$"
   ]
  },
  {
   "attachments": {},
   "cell_type": "markdown",
   "metadata": {},
   "source": [
    "- Formulate the Lagrangian and give its partial derivatives"
   ]
  },
  {
   "attachments": {},
   "cell_type": "markdown",
   "metadata": {},
   "source": [
    "- Write down the anlytical solution for optimal allocations $w^{*}$ (derivation not required)"
   ]
  },
  {
   "attachments": {},
   "cell_type": "markdown",
   "metadata": {},
   "source": [
    "- Inverse optmization: generate above $700$ random allocation sets (vectors) 4x1, those will not be optimal allocations.\n",
    "\n",
    "    Standardise each set to satisfy $w^{'}\\mathbf{1} = 1$\n",
    "    For each vector of allocations compute $\\mu_{\\pi} = w^{'}\\mu$ and $\\sigma_{\\pi} = \\sqrt{w^{'}\\sum{w}}$"
   ]
  },
  {
   "attachments": {},
   "cell_type": "markdown",
   "metadata": {},
   "source": [
    "## Question 2"
   ]
  }
 ],
 "metadata": {
  "kernelspec": {
   "display_name": "eqderivs",
   "language": "python",
   "name": "python3"
  },
  "language_info": {
   "codemirror_mode": {
    "name": "ipython",
    "version": 3
   },
   "file_extension": ".py",
   "mimetype": "text/x-python",
   "name": "python",
   "nbconvert_exporter": "python",
   "pygments_lexer": "ipython3",
   "version": "3.10.6"
  },
  "orig_nbformat": 4
 },
 "nbformat": 4,
 "nbformat_minor": 2
}
