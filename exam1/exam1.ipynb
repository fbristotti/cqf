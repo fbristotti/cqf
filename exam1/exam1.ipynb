{
 "cells": [
  {
   "attachments": {},
   "cell_type": "markdown",
   "metadata": {},
   "source": [
    "# CQF - Exam 1 - Optimal Portfolio Allocation"
   ]
  },
  {
   "attachments": {},
   "cell_type": "markdown",
   "metadata": {},
   "source": [
    "### Python imports"
   ]
  },
  {
   "cell_type": "code",
   "execution_count": 344,
   "metadata": {},
   "outputs": [],
   "source": [
    "import pandas as pd\n",
    "import numpy as np\n",
    "import matplotlib.pyplot as plt\n",
    "%matplotlib inline"
   ]
  },
  {
   "attachments": {},
   "cell_type": "markdown",
   "metadata": {},
   "source": [
    "An investment universe of the following risky assets with a dependency structure (correlation) is given:"
   ]
  },
  {
   "cell_type": "code",
   "execution_count": 2,
   "metadata": {},
   "outputs": [
    {
     "data": {
      "text/html": [
       "<div>\n",
       "<style scoped>\n",
       "    .dataframe tbody tr th:only-of-type {\n",
       "        vertical-align: middle;\n",
       "    }\n",
       "\n",
       "    .dataframe tbody tr th {\n",
       "        vertical-align: top;\n",
       "    }\n",
       "\n",
       "    .dataframe thead th {\n",
       "        text-align: right;\n",
       "    }\n",
       "</style>\n",
       "<table border=\"1\" class=\"dataframe\">\n",
       "  <thead>\n",
       "    <tr style=\"text-align: right;\">\n",
       "      <th></th>\n",
       "      <th>asset</th>\n",
       "      <th>mu</th>\n",
       "      <th>sigma</th>\n",
       "    </tr>\n",
       "  </thead>\n",
       "  <tbody>\n",
       "    <tr>\n",
       "      <th>0</th>\n",
       "      <td>A</td>\n",
       "      <td>0.02</td>\n",
       "      <td>0.05</td>\n",
       "    </tr>\n",
       "    <tr>\n",
       "      <th>1</th>\n",
       "      <td>B</td>\n",
       "      <td>0.07</td>\n",
       "      <td>0.12</td>\n",
       "    </tr>\n",
       "    <tr>\n",
       "      <th>2</th>\n",
       "      <td>C</td>\n",
       "      <td>0.15</td>\n",
       "      <td>0.17</td>\n",
       "    </tr>\n",
       "    <tr>\n",
       "      <th>3</th>\n",
       "      <td>D</td>\n",
       "      <td>0.20</td>\n",
       "      <td>0.25</td>\n",
       "    </tr>\n",
       "  </tbody>\n",
       "</table>\n",
       "</div>"
      ],
      "text/plain": [
       "  asset    mu  sigma\n",
       "0     A  0.02   0.05\n",
       "1     B  0.07   0.12\n",
       "2     C  0.15   0.17\n",
       "3     D  0.20   0.25"
      ]
     },
     "execution_count": 2,
     "metadata": {},
     "output_type": "execute_result"
    }
   ],
   "source": [
    "assets = pd.DataFrame(\n",
    "    data=[\n",
    "        ['A', 0.02, 0.05],\n",
    "        ['B', 0.07, 0.12],\n",
    "        ['C', 0.15, 0.17],\n",
    "        ['D', 0.20, 0.25],\n",
    "        ], \n",
    "    columns=['asset', 'mu', 'sigma'])\n",
    "assets"
   ]
  },
  {
   "cell_type": "code",
   "execution_count": 470,
   "metadata": {},
   "outputs": [],
   "source": [
    "mu = np.array([0.02, 0.07, 0.15, 0.20])\n",
    "\n",
    "sigma = np.array([0.05, 0.12, 0.17, 0.25])\n",
    "\n",
    "R = np.matrix([\n",
    "        [1.0, 0.3, 0.3, 0.3],\n",
    "        [0.3, 1.0, 0.6, 0.6],\n",
    "        [0.3, 0.6, 1.0, 0.6 ],\n",
    "        [0.3, 0.6, 0.6, 1.0],\n",
    "        ])"
   ]
  },
  {
   "attachments": {},
   "cell_type": "markdown",
   "metadata": {},
   "source": [
    "## Question 1"
   ]
  },
  {
   "attachments": {},
   "cell_type": "markdown",
   "metadata": {},
   "source": [
    "Consider mininum variance portfolio with a target return $m$\n",
    "\n",
    "\n",
    "$$\\underset{w}{argmin}\\frac{1}{2}w^{'}\\sum{w}$$\n",
    "\n",
    "$s.t.$ \n",
    "\n",
    "$$w^{'}\\mathbf{1} = 1$$\n",
    "\n",
    "$$\\mu_{\\pi} = w^{'}\\mu = m$$"
   ]
  },
  {
   "attachments": {},
   "cell_type": "markdown",
   "metadata": {},
   "source": [
    "- Formulate the Lagrangian and give its partial derivatives"
   ]
  },
  {
   "attachments": {},
   "cell_type": "markdown",
   "metadata": {},
   "source": [
    "<font color='blue'>We form the Lagrange function with tow Lagrange multipliers $\\lambda$ and $\\gamma$:\n",
    "\n",
    "$$L(w,\\lambda,\\gamma) = \\frac{1}{2} w^{'}\\sum{w} + \\lambda(m-w^{'}\\mu) + \\gamma(1-w^{'}\\mathbf{1})$$\n",
    "\n",
    "with partial derivatives:\n",
    "\n",
    "$$\\frac{\\partial{L}}{\\partial{w}} = \\sum{w} - \\lambda\\mu - \\gamma$$\n",
    "\n",
    "$$\\frac{\\partial{L}}{\\partial{\\lambda}} = m - w^{'}\\mu$$\n",
    "\n",
    "$$\\frac{\\partial{L}}{\\partial{\\gamma}} = 1 - w^{'}\\mathbf{1}$$\n",
    "\n",
    "</font>"
   ]
  },
  {
   "attachments": {},
   "cell_type": "markdown",
   "metadata": {},
   "source": [
    "- Write down the anlytical solution for optimal allocations $w^{*}$ (derivation not required)"
   ]
  },
  {
   "attachments": {},
   "cell_type": "markdown",
   "metadata": {},
   "source": [
    "<font color='blue'>\n",
    "\n",
    "$$w^* = \\frac{1}{(AC-B^2)} \\sum^{-1}[(A\\mu-B\\mathbf{1})m + (C\\mathbf{1}-B\\mu)]$$\n",
    "\n",
    "where:\n",
    "\n",
    "$$\n",
    "\\begin{equation}\n",
    "    \\begin{cases}\n",
    "        A=\\mathbf{1}^{'}\\sum^{-1}\\mathbf{1}\\\\\n",
    "        B=\\mathbf{1}^{'}\\sum^{-1}\\mu\\\\\n",
    "        C=\\mu^{'}\\sum^{-1}\\mu\n",
    "    \\end{cases}\n",
    "\\end{equation}\n",
    "$$\n",
    "\n",
    "</font>"
   ]
  },
  {
   "attachments": {},
   "cell_type": "markdown",
   "metadata": {},
   "source": [
    "- Inverse optmization: generate above $700$ random allocation sets (vectors) 4x1, those will not be optimal allocations.\n",
    "\n",
    "    Standardize each set to satisfy $w^{'}\\mathbf{1} = 1$\n",
    "    For each vector of allocations compute $\\mu_{\\pi} = w^{'}\\mu$ and $\\sigma_{\\pi} = \\sqrt{w^{'}\\sum{w}}$"
   ]
  },
  {
   "cell_type": "code",
   "execution_count": 456,
   "metadata": {},
   "outputs": [
    {
     "data": {
      "text/plain": [
       "<AxesSubplot:xlabel='sigma', ylabel='mu'>"
      ]
     },
     "execution_count": 456,
     "metadata": {},
     "output_type": "execute_result"
    },
    {
     "data": {
      "image/png": "[encoded data removed]",
      "text/plain": [
       "<Figure size 640x480 with 1 Axes>"
      ]
     },
     "metadata": {},
     "output_type": "display_data"
    }
   ],
   "source": [
    "def gen_w(size):\n",
    "    w = np.array([np.random.uniform() for i in range(0,size,1)])\n",
    "    return w / w.sum()\n",
    "\n",
    "n_assets = 4\n",
    "cases = 5000\n",
    "mu = np.array([0.02,0.07,0.15,0.2])\n",
    "W = [gen_w(n_assets) for i in range(0,cases,1)]\n",
    "\n",
    "data = [[np.dot(mu, w),np.sqrt(np.dot(np.dot(w,R),w).sum())] for w in W]\n",
    "df_simul = pd.DataFrame(data=data,columns=['mu','sigma'])\n",
    "df_simul.plot.scatter(x='sigma', y='mu', label='Simulated Portfolio based on Efficient Frontier')"
   ]
  },
  {
   "attachments": {},
   "cell_type": "markdown",
   "metadata": {},
   "source": [
    "<font color='blue'> \n",
    "The plot above shows the efficient frontier based on the simulation of different weighted portfolios simulation of \n",
    "</font>"
   ]
  },
  {
   "attachments": {},
   "cell_type": "markdown",
   "metadata": {},
   "source": [
    "## Question 2"
   ]
  },
  {
   "attachments": {},
   "cell_type": "markdown",
   "metadata": {},
   "source": [
    "Consider optmization for a tangency portfolio (maximum Sharpe Ratio)."
   ]
  },
  {
   "attachments": {},
   "cell_type": "markdown",
   "metadata": {},
   "source": [
    "- Formulate optimisation expression"
   ]
  },
  {
   "attachments": {},
   "cell_type": "markdown",
   "metadata": {},
   "source": [
    "<font color='blue'>\n",
    "\n",
    "$$ \\underset{w}{min} \\frac{1}{2} w~{'}\\sum{w}$$\n",
    "\n",
    "subject to:\n",
    "\n",
    "$$r + w^{'}(\\mu - r\\mathbf{1}) = m$$\n",
    "\n",
    "</font>"
   ]
  },
  {
   "attachments": {},
   "cell_type": "markdown",
   "metadata": {},
   "source": [
    "- Formulate Lagrangian function and give its partial derivatives only"
   ]
  },
  {
   "attachments": {},
   "cell_type": "markdown",
   "metadata": {},
   "source": [
    "<font color='blue'>\n",
    "\n",
    "As residual of wealth not invested in risky assets will be invested in risk free, the budget constraint has been removed\n",
    "\n",
    "$$L(x,\\lambda) = \\frac{1}{2} w^{'} \\sum{w} + \\lambda(m - r - w^{'}(\\mu-r\\mathbf{1}))$$\n",
    "\n",
    "$$\\frac{\\partial{L}}{\\partial{w}} = \\sum{w} - \\lambda(\\mu - r \\mathbf{1})$$\n",
    "\n",
    "<font>"
   ]
  },
  {
   "attachments": {},
   "cell_type": "markdown",
   "metadata": {},
   "source": [
    "- For the range of tangency portfolios given by $r_f=50bps, 100bps, 150bps, 175bps$ optimal compute allocations (ready formula) and $\\sigma_{\\pi}$.\n",
    " \n",
    "    Plot the efficient frontier in the presence of a risk-free aset for $r_f=100bps, 175bps$."
   ]
  },
  {
   "attachments": {},
   "cell_type": "markdown",
   "metadata": {},
   "source": [
    "<font color='blue'>\n",
    "\n",
    "The tangencial portfolio alocation $w_t$ is given by:\n",
    "\n",
    "$$w_{t} = \\frac{\\sum^{-1}(\\mu-r\\mathbf{1})}{B - Ar}$$\n",
    "\n",
    "where its return and standard deviation:\n",
    "\n",
    "$$ m_t = \\frac{C-Br}{B-Ar} $$\n",
    "\n",
    "$$ \\sigma_{t} = \\sqrt{\\frac{C-2Br+Ar^2}{(B-Ar)^2}} $$\n",
    "\n",
    "where:\n",
    "\n",
    "$$\n",
    "\\begin{equation}\n",
    "    \\begin{cases}\n",
    "        A=\\mathbf{1}^{'}\\sum^{-1}\\mathbf{1}\\\\\n",
    "        B=\\mathbf{1}^{'}\\sum^{-1}\\mu\\\\\n",
    "        C=\\mu^{'}\\sum^{-1}\\mu\n",
    "    \\end{cases}\n",
    "\\end{equation}\n",
    "$$\n",
    "\n",
    "<font>"
   ]
  },
  {
   "cell_type": "code",
   "execution_count": 458,
   "metadata": {},
   "outputs": [],
   "source": [
    "def get_covariance_matrix(sigma, R):\n",
    "    S = sigma*np.identity(len(sigma))\n",
    "    return np.dot(np.dot(S, R), S)\n",
    "\n",
    "def calculate_tangency_portfolio(mu, sigma, R, r_f):\n",
    "\n",
    "    m_cov = get_covariance_matrix(sigma=sigma, R=R)\n",
    "    v_ones = np.ones(len(m_cov))\n",
    "    m_cov_inv = np.linalg.inv(m_cov)\n",
    "    A = m_cov_inv.sum()\n",
    "    B = np.dot(np.dot(v_ones, m_cov_inv), mu).sum()\n",
    "    C = np.dot(np.dot(mu, m_cov_inv), mu).sum()\n",
    "\n",
    "    den = (B-A*r_f)\n",
    "    w_t = np.dot(m_cov_inv,mu - r_f) / den\n",
    "    m_t = (C - B*r_f) / den\n",
    "    sigma_t = np.sqrt((C - 2*B*r_f + A*(r_f**2))/(den**2))\n",
    "\n",
    "    return w_t, m_t, sigma_t"
   ]
  },
  {
   "cell_type": "code",
   "execution_count": 471,
   "metadata": {},
   "outputs": [
    {
     "data": {
      "text/html": [
       "<div>\n",
       "<style scoped>\n",
       "    .dataframe tbody tr th:only-of-type {\n",
       "        vertical-align: middle;\n",
       "    }\n",
       "\n",
       "    .dataframe tbody tr th {\n",
       "        vertical-align: top;\n",
       "    }\n",
       "\n",
       "    .dataframe thead th {\n",
       "        text-align: right;\n",
       "    }\n",
       "</style>\n",
       "<table border=\"1\" class=\"dataframe\">\n",
       "  <thead>\n",
       "    <tr style=\"text-align: right;\">\n",
       "      <th></th>\n",
       "      <th>w_t</th>\n",
       "      <th>sigma_t</th>\n",
       "    </tr>\n",
       "  </thead>\n",
       "  <tbody>\n",
       "    <tr>\n",
       "      <th>0</th>\n",
       "      <td>[[[[[ 0.0168352  -0.22936698  0.81434026  0.39...</td>\n",
       "      <td>0.196511</td>\n",
       "    </tr>\n",
       "    <tr>\n",
       "      <th>1</th>\n",
       "      <td>[[[[[-0.74593711 -0.51056937  1.49024934  0.76...</td>\n",
       "      <td>0.350665</td>\n",
       "    </tr>\n",
       "    <tr>\n",
       "      <th>2</th>\n",
       "      <td>[[[[[-8.64485405 -3.42257114  8.48965087  4.57...</td>\n",
       "      <td>1.972392</td>\n",
       "    </tr>\n",
       "    <tr>\n",
       "      <th>3</th>\n",
       "      <td>[[[[[ 8.10350247  2.75185052 -6.3514309  -3.50...</td>\n",
       "      <td>1.473515</td>\n",
       "    </tr>\n",
       "  </tbody>\n",
       "</table>\n",
       "</div>"
      ],
      "text/plain": [
       "                                                 w_t   sigma_t\n",
       "0  [[[[[ 0.0168352  -0.22936698  0.81434026  0.39...  0.196511\n",
       "1  [[[[[-0.74593711 -0.51056937  1.49024934  0.76...  0.350665\n",
       "2  [[[[[-8.64485405 -3.42257114  8.48965087  4.57...  1.972392\n",
       "3  [[[[[ 8.10350247  2.75185052 -6.3514309  -3.50...  1.473515"
      ]
     },
     "execution_count": 471,
     "metadata": {},
     "output_type": "execute_result"
    }
   ],
   "source": [
    "df_pt = pd.DataFrame(data=[0.005, 0.01, 0.015, 0.0175], columns=['r_f'])\n",
    "df_pt['w_t'], df_pt['m_t'], df_pt['sigma_t'] = zip(*df_pt.r_f.apply(lambda x: calculate_tangency_portfolio(mu=mu, sigma=sigma, R=R, r_f=x)))\n",
    "df_pt[['w_t', 'sigma_t']]"
   ]
  },
  {
   "cell_type": "code",
   "execution_count": 474,
   "metadata": {},
   "outputs": [
    {
     "data": {
      "text/plain": [
       "<matplotlib.collections.PathCollection at 0x168dd9c98a0>"
      ]
     },
     "execution_count": 474,
     "metadata": {},
     "output_type": "execute_result"
    },
    {
     "data": {
      "image/png": "[encoded data removed]",
      "text/plain": [
       "<Figure size 1500x500 with 1 Axes>"
      ]
     },
     "metadata": {},
     "output_type": "display_data"
    }
   ],
   "source": [
    "rs = np.linspace(-5,0.02, 3000)\n",
    "mus = np.zeros(len(rs))\n",
    "sigmas = np.zeros(len(rs))\n",
    "for i in range(0, len(rs), 1):\n",
    "    w, m, s = calculate_tangency_portfolio(mu=mu, sigma=sigma, R=R, r_f=rs[i])\n",
    "    mus[i] = m\n",
    "    sigmas[i] = s\n",
    "\n",
    "plt.subplots(figsize=[15,5])\n",
    "plt.scatter(sigmas, mus, marker='.')\n",
    "\n",
    "df_100bps = df_pt[df_pt['r_f'] == 0.01]\n",
    "df_175bps = df_pt[df_pt['r_f'] == 0.0175]\n",
    "\n",
    "plt.scatter(df_100bps.iloc[0].sigma_t, df_100bps.iloc[0].m_t, marker='*', color='red', s=100)\n",
    "plt.scatter(0, 0.01, marker='+', color='red', s=100)\n",
    "plt.scatter(df_175bps.iloc[0].sigma_t, df_175bps.iloc[0].m_t, marker='*', color='orange', s=100)\n",
    "plt.scatter(0, 0.0175, marker='+', color='orange', s=100)"
   ]
  },
  {
   "cell_type": "code",
   "execution_count": 457,
   "metadata": {},
   "outputs": [],
   "source": [
    "# Annotations example\n",
    "\n",
    "mu = np.array([0.05, 0.07, 0.15, 0.27])\n",
    "\n",
    "sigma = np.array([0.07, 0.12, 0.3, 0.6])\n",
    "\n",
    "R = np.matrix([\n",
    "    [1.0,0.8,0.5,0.4],\n",
    "    [0.8,1.0,0.7,0.5],\n",
    "    [0.5,0.7,1.0,0.8],\n",
    "    [0.4,0.5,0.8,1.0]])\n",
    "\n",
    "w_t, mu_t, sigma_t = calculate_tangency_portfolio(mu=mu, sigma=sigma, R=R, r_f=0.0175)"
   ]
  },
  {
   "attachments": {},
   "cell_type": "markdown",
   "metadata": {},
   "source": [
    "## Question 3"
   ]
  },
  {
   "attachments": {},
   "cell_type": "markdown",
   "metadata": {},
   "source": [
    "Implement the multi-step binomial method as described in Binomial Method lecture with the following variables and parameters: sotck $S = 100$, interset rate $r = 0.05$ (continuously compounded) for a call option s with strike $E=100$, and maturity $T =1$."
   ]
  },
  {
   "attachments": {},
   "cell_type": "markdown",
   "metadata": {},
   "source": [
    "- Use any suitable parametrisation for up and down moves $uS$, $vS$."
   ]
  },
  {
   "attachments": {},
   "cell_type": "markdown",
   "metadata": {},
   "source": [
    "- Compute the options value for a range of volatilities $[0.05,...,0.8]$ and plot the result. Set threes to have a minimum four time steps."
   ]
  },
  {
   "attachments": {},
   "cell_type": "markdown",
   "metadata": {},
   "source": [
    "- Now, compute and plot the value of one options, $\\sigma_{imp} - 0.2$ as you increase the number of time steps $NTS = 4, 5, ..., 50$."
   ]
  },
  {
   "attachments": {},
   "cell_type": "markdown",
   "metadata": {},
   "source": [
    "## Question 4"
   ]
  },
  {
   "attachments": {},
   "cell_type": "markdown",
   "metadata": {},
   "source": [
    "Use the ready formula for Expected Shortfall in order to compute the standardised value of Expected Shortfall for $N(0,1)$."
   ]
  },
  {
   "attachments": {},
   "cell_type": "markdown",
   "metadata": {},
   "source": [
    "- Compute for the following range of percentiles $[99.95; 99.75; 99.5; 99.25; 99; 98.5; 98; 97.5]$"
   ]
  },
  {
   "attachments": {},
   "cell_type": "markdown",
   "metadata": {},
   "source": [
    "- The formula to use, and $1-c$ refers to $1-99.95$ and so on,\n",
    "\n",
    "$$ES_{c}(X) = \\mu - \\sigma \\frac{\\phi(\\Phi^{-1}(1-c))}{1-c}$$"
   ]
  },
  {
   "attachments": {},
   "cell_type": "markdown",
   "metadata": {},
   "source": [
    "## Question 5"
   ]
  },
  {
   "attachments": {},
   "cell_type": "markdown",
   "metadata": {},
   "source": [
    "## Question 6"
   ]
  }
 ],
 "metadata": {
  "kernelspec": {
   "display_name": "eqderivs",
   "language": "python",
   "name": "python3"
  },
  "language_info": {
   "codemirror_mode": {
    "name": "ipython",
    "version": 3
   },
   "file_extension": ".py",
   "mimetype": "text/x-python",
   "name": "python",
   "nbconvert_exporter": "python",
   "pygments_lexer": "ipython3",
   "version": "3.10.6"
  },
  "orig_nbformat": 4
 },
 "nbformat": 4,
 "nbformat_minor": 2
}
