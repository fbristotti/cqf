{
 "cells": [
  {
   "cell_type": "markdown",
   "metadata": {},
   "source": [
    "# CQF - Final Project"
   ]
  },
  {
   "cell_type": "markdown",
   "metadata": {},
   "source": [
    "## Optimal Hedging with Advanced Greeks"
   ]
  },
  {
   "cell_type": "markdown",
   "metadata": {},
   "source": [
    "### Imports"
   ]
  },
  {
   "cell_type": "code",
   "execution_count": 185,
   "metadata": {},
   "outputs": [],
   "source": [
    "import pandas as pd\n",
    "import numpy as np\n",
    "import math\n",
    "from scipy.stats import norm\n",
    "from statistics import mean\n",
    "from scipy.stats.mstats import gmean\n",
    "import matplotlib.pyplot as plt\n",
    "%matplotlib inline"
   ]
  },
  {
   "cell_type": "markdown",
   "metadata": {},
   "source": [
    "### Simple Volatility Arbitrage but improved Asset Evolution"
   ]
  },
  {
   "cell_type": "markdown",
   "metadata": {},
   "source": [
    "We will use the geometric Brownian motion (GBM), thus this mens the stock price follows a random walk and is consistent with the weak form of the efficient market hypothesis (EMH) - past price information is already incorporated, and the next price movement is \"conditionally independent\" of past price movements.\n",
    "\n",
    "The formula for GBM is found below:\n",
    "\n",
    "$$\n",
    "\\Delta S = S \\mu \\delta t + S \\sigma \\epsilon \\sqrt{\\Delta t}\n",
    "$$\n",
    "\n",
    "**where:**\n",
    "\n",
    "$$\n",
    "\\begin{align*}\n",
    "S &= \\text{the stock price} \\\\\n",
    "\\Delta S &= \\text{the change in stock price} \\\\\n",
    "\\mu &= \\text{the expected return} \\\\\n",
    "\\sigma &= \\text{the standard deviation of returns} \\\\\n",
    "\\epsilon &= \\text{the random variable} \\\\\n",
    "\\Delta t &= \\text{the elapsed time period} \\\\\n",
    "\\end{align*}"
   ]
  },
  {
   "cell_type": "markdown",
   "metadata": {},
   "source": [
    "### Variance Reduction"
   ]
  },
  {
   "cell_type": "markdown",
   "metadata": {},
   "source": [
    "In order to get a realistic comparison we will fixed the seed value for random number generator "
   ]
  },
  {
   "cell_type": "code",
   "execution_count": 186,
   "metadata": {},
   "outputs": [
    {
     "name": "stdout",
     "output_type": "stream",
     "text": [
      "           Mean  Std. Deviation\n",
      "-------------------------------\n",
      " 0.001150944833  1.006296354600\n",
      " 0.002841204001  0.995987967146\n",
      " 0.001998082016  0.997701714233\n",
      " 0.001322322067  0.997771186968\n",
      " 0.000592711311  0.998388962646\n",
      "-0.000339730751  0.998399891450\n",
      "-0.000228109010  0.998657429396\n",
      " 0.000295768719  0.998877333340\n",
      " 0.000257107789  0.999284894532\n",
      "-0.000357870642  0.999456401088\n",
      "-0.000528443742  0.999617831131\n",
      "-0.000300171536  0.999445228838\n",
      "-0.000162924037  0.999516059328\n",
      " 0.000135778889  0.999611052522\n",
      " 0.000182006048  0.999619405229\n"
     ]
    }
   ],
   "source": [
    "print('%15s %15s' % ('Mean', 'Std. Deviation'))\n",
    "print(31* '-')\n",
    "for i in range(1, 31, 2):\n",
    "    np.random.seed(100)\n",
    "    sn = np.random.standard_normal(i ** 2 * 10000)\n",
    "    print('%15.12f %15.12f' % (sn.mean(), sn.std()))"
   ]
  },
  {
   "cell_type": "markdown",
   "metadata": {},
   "source": [
    "The result shows that the statistics get better the larger the sample size. However it does not still match."
   ]
  },
  {
   "cell_type": "markdown",
   "metadata": {},
   "source": [
    "The *antithetic variates* technic consists in draws only half the desired number of random draws, and adds the same set of random numbers with the opposite sign afterward. The described method works for sysmmetric median 0 random variables only, like standard normally distributed random variables, which are almost exclusively used throughout. "
   ]
  },
  {
   "cell_type": "code",
   "execution_count": 187,
   "metadata": {},
   "outputs": [
    {
     "name": "stdout",
     "output_type": "stream",
     "text": [
      "           Mean  Std. Deviation\n",
      "-------------------------------\n",
      "-0.000000000000  1.017474904235\n",
      " 0.000000000000  0.998944776883\n",
      " 0.000000000000  0.998018870658\n",
      " 0.000000000000  0.997916558845\n",
      "-0.000000000000  0.998119811838\n",
      " 0.000000000000  0.998365584578\n",
      " 0.000000000000  0.998171301115\n",
      "-0.000000000000  0.998359568664\n",
      "-0.000000000000  0.998772594780\n",
      "-0.000000000000  0.998640403762\n",
      " 0.000000000000  0.998868127277\n",
      " 0.000000000000  0.999102053335\n",
      " 0.000000000000  0.999342143561\n",
      " 0.000000000000  0.999449673443\n",
      "-0.000000000000  0.999613960655\n"
     ]
    }
   ],
   "source": [
    "print('%15s %15s' % ('Mean', 'Std. Deviation'))\n",
    "print(31* '-')\n",
    "for i in range(1, 31, 2):\n",
    "    np.random.seed(100)\n",
    "    sn = np.random.standard_normal(i ** 2 * int(10000 / 2))\n",
    "    sn = np.concatenate((sn, -sn))\n",
    "    print('%15.12f %15.12f' % (sn.mean(), sn.std()))"
   ]
  },
  {
   "cell_type": "markdown",
   "metadata": {},
   "source": [
    "This results in a mean value of zero, even in smaller sample sizes."
   ]
  },
  {
   "cell_type": "code",
   "execution_count": 188,
   "metadata": {},
   "outputs": [],
   "source": [
    "def next_corputSequence(n, base=2):\n",
    "    n1 = n\n",
    "    c = 0\n",
    "    ib = 1.0 / base\n",
    "    while n1 > 0:\n",
    "        n2 = int(n1 / base)\n",
    "        i = n1 - n2 * base\n",
    "        c = c + ib * i\n",
    "        ib = ib / base\n",
    "        n1 = n2\n",
    "    return c"
   ]
  },
  {
   "cell_type": "code",
   "execution_count": 189,
   "metadata": {},
   "outputs": [
    {
     "data": {
      "text/plain": [
       "[0,\n",
       " 0.5,\n",
       " 0.25,\n",
       " 0.75,\n",
       " 0.125,\n",
       " 0.625,\n",
       " 0.375,\n",
       " 0.875,\n",
       " 0.0625,\n",
       " 0.5625,\n",
       " 0.3125,\n",
       " 0.8125,\n",
       " 0.1875,\n",
       " 0.6875,\n",
       " 0.4375,\n",
       " 0.9375]"
      ]
     },
     "execution_count": 189,
     "metadata": {},
     "output_type": "execute_result"
    }
   ],
   "source": [
    "[next_corputSequence(i, base=2) for i in range(0, 16)]"
   ]
  },
  {
   "cell_type": "code",
   "execution_count": 190,
   "metadata": {},
   "outputs": [],
   "source": [
    "from scipy.stats import qmc"
   ]
  },
  {
   "cell_type": "code",
   "execution_count": 191,
   "metadata": {},
   "outputs": [
    {
     "data": {
      "text/plain": [
       "<matplotlib.collections.PathCollection at 0x1df4a8a08e0>"
      ]
     },
     "execution_count": 191,
     "metadata": {},
     "output_type": "execute_result"
    },
    {
     "data": {
      "image/png": "[encoded data removed]",
      "text/plain": [
       "<Figure size 640x480 with 1 Axes>"
      ]
     },
     "metadata": {},
     "output_type": "display_data"
    }
   ],
   "source": [
    "plt.scatter(x=np.random.rand(2**9), y=np.random.rand(2**9))"
   ]
  },
  {
   "cell_type": "code",
   "execution_count": 192,
   "metadata": {},
   "outputs": [
    {
     "data": {
      "text/plain": [
       "<matplotlib.collections.PathCollection at 0x1df4a8c1000>"
      ]
     },
     "execution_count": 192,
     "metadata": {},
     "output_type": "execute_result"
    },
    {
     "data": {
      "image/png": "[encoded data removed]",
      "text/plain": [
       "<Figure size 640x480 with 1 Axes>"
      ]
     },
     "metadata": {},
     "output_type": "display_data"
    }
   ],
   "source": [
    "sampler = qmc.Sobol(d=2, scramble=False)\n",
    "sample_sequence = sampler.random_base2(m=9)\n",
    "plt.scatter(x=sample_sequence[:,0], y=sample_sequence[:,1])"
   ]
  },
  {
   "cell_type": "markdown",
   "metadata": {},
   "source": [
    "Define the Black Scholes Merton close formula to solve an European Call"
   ]
  },
  {
   "cell_type": "code",
   "execution_count": 193,
   "metadata": {},
   "outputs": [],
   "source": [
    "def BlackScholesMerton(S0, K, r, div, sigma, T):\n",
    "    h1 = (np.log(S0 / K) + ((r - div) + sigma ** 2 / 2) * T) / (sigma * np.sqrt(T))\n",
    "    h2 = h1 - sigma * np.sqrt(T)\n",
    "    return S0 * np.exp(-div * T) * norm.cdf(h1) - K * np.exp(-r * T) * norm.cdf(h2)"
   ]
  },
  {
   "cell_type": "markdown",
   "metadata": {},
   "source": [
    "Defining the parameters"
   ]
  },
  {
   "cell_type": "code",
   "execution_count": 195,
   "metadata": {},
   "outputs": [],
   "source": [
    "S0 = 20.0 # pot at time zero\n",
    "K = 20.0 # option strike\n",
    "T = 2.0 # time to expiry\n",
    "r = 0.08 # risk free rate\n",
    "div = 0.08 # dividend yield\n",
    "sigma = 0.25 # volatility"
   ]
  },
  {
   "cell_type": "markdown",
   "metadata": {},
   "source": [
    "The exact solution"
   ]
  },
  {
   "cell_type": "code",
   "execution_count": 167,
   "metadata": {},
   "outputs": [
    {
     "data": {
      "text/plain": [
       "2.3913916482553503"
      ]
     },
     "execution_count": 167,
     "metadata": {},
     "output_type": "execute_result"
    }
   ],
   "source": [
    "exact_soluction = BlackScholesMerton(S0=S0, K=K, r=r, div=div, sigma=sigma, T=T)\n",
    "exact_soluction"
   ]
  },
  {
   "cell_type": "code",
   "execution_count": 202,
   "metadata": {},
   "outputs": [],
   "source": [
    "def van_der_corput_sequence(base, i):\n",
    "    n1 = i\n",
    "    c = 0\n",
    "    ib = 1 / base\n",
    "    while n1 > 0:\n",
    "        n2 = int(n1 / base)\n",
    "        diff = n1 - n2 * base\n",
    "        c = c + ib * diff\n",
    "        ib = ib / base\n",
    "        n1 = n2\n",
    "    return c\n",
    "\n",
    "def sobol_sequence(i):\n",
    "    return van_der_corput_sequence(base=2, i=i)\n",
    "\n",
    "def sobol_sequenceN(N):\n",
    "    return [van_der_corput_sequence(base=2, i=i) for i in range(0, N)]"
   ]
  },
  {
   "cell_type": "code",
   "execution_count": 200,
   "metadata": {},
   "outputs": [
    {
     "data": {
      "text/plain": [
       "[2.3913916482553503, 2.369378897629428, 2.387697194251352]"
      ]
     },
     "execution_count": 200,
     "metadata": {},
     "output_type": "execute_result"
    }
   ],
   "source": [
    "n_simul = 20000\n",
    "trend = (r-div-0.5*sigma**2)*T\n",
    "\n",
    "mc = np.exp(-r*T)*np.mean([max(s-K,0) for s in S0 * np.exp(trend + np.random.randn(n_simul)*np.sqrt(T)*sigma)])\n",
    "qmc = np.exp(-r*T)*np.mean([max(S0 * np.exp(trend + sigma*np.sqrt(T)*norm.ppf(sobol_sequence(i))) - K, 0) for i in range(1, n_simul + 1)])\n",
    "\n",
    "[exact_soluction, mc, qmc]"
   ]
  },
  {
   "cell_type": "code",
   "execution_count": 212,
   "metadata": {},
   "outputs": [
    {
     "data": {
      "text/plain": [
       "2.387697194251352"
      ]
     },
     "execution_count": 212,
     "metadata": {},
     "output_type": "execute_result"
    }
   ],
   "source": [
    "np.exp(-r*T)*np.mean([max(S0 * np.exp(trend + sigma*np.sqrt(T)*norm.ppf(i)) - K, 0) for i in sobol_sequenceN(n_simul)])"
   ]
  },
  {
   "cell_type": "code",
   "execution_count": 171,
   "metadata": {},
   "outputs": [],
   "source": [
    "S0 = 100.0\n",
    "T = 1.0\n",
    "sigma_a = 0.35\n",
    "sigma_i = 0.20\n",
    "r = 0.02\n",
    "N = 200\n",
    "dt = T / N\n",
    "ts = np.arange(0, T, dt)\n",
    "dB = np.concatenate((np.zeros(1), np.random.randn(N-1)*np.sqrt(dt)))\n",
    "B = np.cumsum(dB)"
   ]
  },
  {
   "cell_type": "code",
   "execution_count": 214,
   "metadata": {},
   "outputs": [
    {
     "data": {
      "text/plain": [
       "[0,\n",
       " 0.5,\n",
       " 0.25,\n",
       " 0.75,\n",
       " 0.125,\n",
       " 0.625,\n",
       " 0.375,\n",
       " 0.875,\n",
       " 0.0625,\n",
       " 0.5625,\n",
       " 0.3125,\n",
       " 0.8125,\n",
       " 0.1875,\n",
       " 0.6875,\n",
       " 0.4375,\n",
       " 0.9375,\n",
       " 0.03125,\n",
       " 0.53125,\n",
       " 0.28125,\n",
       " 0.78125,\n",
       " 0.15625,\n",
       " 0.65625,\n",
       " 0.40625,\n",
       " 0.90625,\n",
       " 0.09375,\n",
       " 0.59375,\n",
       " 0.34375,\n",
       " 0.84375,\n",
       " 0.21875,\n",
       " 0.71875,\n",
       " 0.46875,\n",
       " 0.96875,\n",
       " 0.015625,\n",
       " 0.515625,\n",
       " 0.265625,\n",
       " 0.765625,\n",
       " 0.140625,\n",
       " 0.640625,\n",
       " 0.390625,\n",
       " 0.890625,\n",
       " 0.078125,\n",
       " 0.578125,\n",
       " 0.328125,\n",
       " 0.828125,\n",
       " 0.203125,\n",
       " 0.703125,\n",
       " 0.453125,\n",
       " 0.953125,\n",
       " 0.046875,\n",
       " 0.546875,\n",
       " 0.296875,\n",
       " 0.796875,\n",
       " 0.171875,\n",
       " 0.671875,\n",
       " 0.421875,\n",
       " 0.921875,\n",
       " 0.109375,\n",
       " 0.609375,\n",
       " 0.359375,\n",
       " 0.859375,\n",
       " 0.234375,\n",
       " 0.734375,\n",
       " 0.484375,\n",
       " 0.984375,\n",
       " 0.0078125,\n",
       " 0.5078125,\n",
       " 0.2578125,\n",
       " 0.7578125,\n",
       " 0.1328125,\n",
       " 0.6328125,\n",
       " 0.3828125,\n",
       " 0.8828125,\n",
       " 0.0703125,\n",
       " 0.5703125,\n",
       " 0.3203125,\n",
       " 0.8203125,\n",
       " 0.1953125,\n",
       " 0.6953125,\n",
       " 0.4453125,\n",
       " 0.9453125,\n",
       " 0.0390625,\n",
       " 0.5390625,\n",
       " 0.2890625,\n",
       " 0.7890625,\n",
       " 0.1640625,\n",
       " 0.6640625,\n",
       " 0.4140625,\n",
       " 0.9140625,\n",
       " 0.1015625,\n",
       " 0.6015625,\n",
       " 0.3515625,\n",
       " 0.8515625,\n",
       " 0.2265625,\n",
       " 0.7265625,\n",
       " 0.4765625,\n",
       " 0.9765625,\n",
       " 0.0234375,\n",
       " 0.5234375,\n",
       " 0.2734375,\n",
       " 0.7734375]"
      ]
     },
     "execution_count": 214,
     "metadata": {},
     "output_type": "execute_result"
    }
   ],
   "source": [
    "unif = sobol_sequenceN(100)\n",
    "unif"
   ]
  },
  {
   "cell_type": "code",
   "execution_count": 174,
   "metadata": {},
   "outputs": [
    {
     "data": {
      "text/html": [
       "<div>\n",
       "<style scoped>\n",
       "    .dataframe tbody tr th:only-of-type {\n",
       "        vertical-align: middle;\n",
       "    }\n",
       "\n",
       "    .dataframe tbody tr th {\n",
       "        vertical-align: top;\n",
       "    }\n",
       "\n",
       "    .dataframe thead th {\n",
       "        text-align: right;\n",
       "    }\n",
       "</style>\n",
       "<table border=\"1\" class=\"dataframe\">\n",
       "  <thead>\n",
       "    <tr style=\"text-align: right;\">\n",
       "      <th></th>\n",
       "      <th>Time</th>\n",
       "    </tr>\n",
       "  </thead>\n",
       "  <tbody>\n",
       "    <tr>\n",
       "      <th>0</th>\n",
       "      <td>0.000</td>\n",
       "    </tr>\n",
       "    <tr>\n",
       "      <th>1</th>\n",
       "      <td>0.005</td>\n",
       "    </tr>\n",
       "    <tr>\n",
       "      <th>2</th>\n",
       "      <td>0.010</td>\n",
       "    </tr>\n",
       "    <tr>\n",
       "      <th>3</th>\n",
       "      <td>0.015</td>\n",
       "    </tr>\n",
       "    <tr>\n",
       "      <th>4</th>\n",
       "      <td>0.020</td>\n",
       "    </tr>\n",
       "    <tr>\n",
       "      <th>...</th>\n",
       "      <td>...</td>\n",
       "    </tr>\n",
       "    <tr>\n",
       "      <th>195</th>\n",
       "      <td>0.975</td>\n",
       "    </tr>\n",
       "    <tr>\n",
       "      <th>196</th>\n",
       "      <td>0.980</td>\n",
       "    </tr>\n",
       "    <tr>\n",
       "      <th>197</th>\n",
       "      <td>0.985</td>\n",
       "    </tr>\n",
       "    <tr>\n",
       "      <th>198</th>\n",
       "      <td>0.990</td>\n",
       "    </tr>\n",
       "    <tr>\n",
       "      <th>199</th>\n",
       "      <td>0.995</td>\n",
       "    </tr>\n",
       "  </tbody>\n",
       "</table>\n",
       "<p>200 rows × 1 columns</p>\n",
       "</div>"
      ],
      "text/plain": [
       "      Time\n",
       "0    0.000\n",
       "1    0.005\n",
       "2    0.010\n",
       "3    0.015\n",
       "4    0.020\n",
       "..     ...\n",
       "195  0.975\n",
       "196  0.980\n",
       "197  0.985\n",
       "198  0.990\n",
       "199  0.995\n",
       "\n",
       "[200 rows x 1 columns]"
      ]
     },
     "execution_count": 174,
     "metadata": {},
     "output_type": "execute_result"
    }
   ],
   "source": [
    "df = pd.DataFrame(data=ts, columns=['Time'])"
   ]
  },
  {
   "cell_type": "markdown",
   "metadata": {},
   "source": [
    "## References\n",
    "- [Investopedia - Monte Carlo](https://www.investopedia.com/articles/07/montecarlo.asp)\n",
    "- HILPISCH, Yves. **Python for Finance: Mastering Data-driven Finance**. 2. ed. O'Reilly Media, 2019.\n",
    "- Galanti & Jung: \"Low-Discrepancy Sequences: Monte Carlo Simulation of Option Prices\", Journal of Derivatives, Fall 1997, pp.63-83."
   ]
  }
 ],
 "metadata": {
  "kernelspec": {
   "display_name": "eqderivs",
   "language": "python",
   "name": "python3"
  },
  "language_info": {
   "codemirror_mode": {
    "name": "ipython",
    "version": 3
   },
   "file_extension": ".py",
   "mimetype": "text/x-python",
   "name": "python",
   "nbconvert_exporter": "python",
   "pygments_lexer": "ipython3",
   "version": "3.10.6"
  },
  "orig_nbformat": 4
 },
 "nbformat": 4,
 "nbformat_minor": 2
}
